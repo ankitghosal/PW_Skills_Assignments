{
 "cells": [
  {
   "cell_type": "markdown",
   "id": "92cd82be-e67c-47fa-b2d7-f621cb2110a4",
   "metadata": {},
   "source": [
    "### Question 1: What is a random variable in probability theory?"
   ]
  },
  {
   "cell_type": "markdown",
   "id": "8cd4a107-ac41-4618-b541-beac2adf7fd4",
   "metadata": {},
   "source": [
    "A **random variable** is a numerical variable in probability theory that represents the outcome of a random experiment. It assigns numerical values to each possible outcome of a probabilistic event.\n",
    "\n",
    "* **Discrete random variable** → takes countable values (e.g., number of heads in 3 coin tosses).\n",
    "* **Continuous random variable** → takes values from a continuous range (e.g., height, time, temperature).\n",
    "\n",
    "It serves as a bridge between probability theory and statistics, allowing us to model uncertainty mathematically.\n"
   ]
  },
  {
   "cell_type": "markdown",
   "id": "8ea3fd74-9b83-48c5-b760-173f74b1ae7f",
   "metadata": {},
   "source": [
    "####\n",
    "### Question 2: What are the types of random variables?"
   ]
  },
  {
   "cell_type": "markdown",
   "id": "61dca580-bf87-4996-adcb-f25c5a4f85e8",
   "metadata": {},
   "source": [
    "Random variables are mainly of **two types**:\n",
    "\n",
    "* **Discrete Random Variable** → Takes **countable values** (finite or infinite but countable). Example: Number of calls received in a day, dice roll outcomes.\n",
    "* **Continuous Random Variable** → Takes **uncountably infinite values** within an interval. Example: Height, weight, or time taken to complete a task.\n",
    "\n",
    " Both types are used to model uncertainty depending on whether the data is countable or continuous.\n"
   ]
  },
  {
   "cell_type": "markdown",
   "id": "f92b3e57-f17f-4a35-801d-495f1da6c34c",
   "metadata": {},
   "source": [
    "####\n",
    "### Question 3: Explain the difference between discrete and continuous distributions"
   ]
  },
  {
   "cell_type": "markdown",
   "id": "27a89b9f-773d-4a84-9f90-1a02d8f4b82e",
   "metadata": {},
   "source": [
    "* **Discrete Distributions** → Describe probabilities of **countable outcomes** of a discrete random variable. Probabilities are assigned to each possible value, and the total probability equals 1.\n",
    "  *Example: Binomial distribution (number of heads in coin tosses).*\n",
    "\n",
    "* **Continuous Distributions** → Describe probabilities of outcomes over a **continuous range**. Instead of individual probabilities, they are represented by a **probability density function (PDF)**, and the probability is found over intervals.\n",
    "  *Example: Normal distribution (heights, exam scores).*\n",
    "\n",
    " In short, discrete = countable outcomes with probability mass functions (PMF), continuous = infinite possible values with density functions (PDF).\n"
   ]
  },
  {
   "cell_type": "markdown",
   "id": "2bceb6e3-25e9-48be-8ffe-2679cdacec24",
   "metadata": {},
   "source": [
    "####\n",
    "### Question 4: What is a binomial distribution, and how is it used in probability?"
   ]
  },
  {
   "cell_type": "markdown",
   "id": "17a29006-ed43-4e9a-8fb5-ce0a03e15799",
   "metadata": {},
   "source": [
    "A **binomial distribution** is a discrete probability distribution that models the number of **successes** in a fixed number of independent Bernoulli trials, where each trial has only two outcomes: success or failure.\n",
    "\n",
    "* Defined by two parameters:\n",
    "\n",
    "  * **n** = number of trials\n",
    "  * **p** = probability of success in each trial\n",
    "* The probability of getting exactly **k successes** is given by:\n",
    "\n",
    "  $$\n",
    "  P(X = k) = \\binom{n}{k} p^k (1-p)^{n-k}\n",
    "  $$\n",
    "\n",
    "👉 **Uses:** It is widely applied in situations like predicting pass/fail outcomes, number of defective products in a batch, or the probability of a certain number of heads in coin tosses.\n"
   ]
  },
  {
   "cell_type": "markdown",
   "id": "476172fe-9869-429a-b17b-381d959cddb2",
   "metadata": {},
   "source": [
    "####\n",
    "### Question 5: What is the standard normal distribution, and why is it important?"
   ]
  },
  {
   "cell_type": "markdown",
   "id": "b76fa2f5-7352-4f85-985c-46d0241f1691",
   "metadata": {},
   "source": [
    "The **standard normal distribution** is a special case of the normal distribution with **mean = 0** and **standard deviation = 1**. It is symmetric and bell-shaped, with probabilities defined by the standard normal curve.\n",
    "\n",
    "👉 **Importance:**\n",
    "\n",
    "* Any normal distribution can be converted into a standard normal distribution using **z-scores**.\n",
    "* It simplifies probability calculations using standard normal tables (Z-tables).\n",
    "* It is the foundation for many statistical methods like **hypothesis testing, confidence intervals, and regression analysis**.\n"
   ]
  },
  {
   "cell_type": "markdown",
   "id": "f38d184f-2c9c-4e02-aa16-bf651004b20f",
   "metadata": {},
   "source": [
    "####\n",
    "### Question 6: What is the Central Limit Theorem (CLT), and why is it critical in statistics?"
   ]
  },
  {
   "cell_type": "markdown",
   "id": "f27cdebd-377b-4841-ae62-6bce6ba8d8d4",
   "metadata": {},
   "source": [
    "The **Central Limit Theorem (CLT)** states that the sampling distribution of the sample mean (or sum) approaches a **normal distribution** as the sample size becomes large, regardless of the shape of the population distribution, provided the samples are independent and identically distributed.\n",
    "\n",
    "👉 **Why it’s critical:**\n",
    "\n",
    "* It justifies using the **normal distribution** in many statistical methods, even when the population is not normal.\n",
    "* It enables **hypothesis testing and confidence intervals** based on sample data.\n",
    "* It forms the backbone of **inferential statistics**, allowing conclusions about populations from samples.\n"
   ]
  },
  {
   "cell_type": "markdown",
   "id": "ab52d4ac-a3f4-4703-9f72-f42d36a42b61",
   "metadata": {},
   "source": [
    "####\n",
    "### Question 7: What is the significance of confidence intervals in statistical analysis?"
   ]
  },
  {
   "cell_type": "markdown",
   "id": "4bff1853-fde1-410f-a8e2-c66a649b53a9",
   "metadata": {},
   "source": [
    "A **confidence interval (CI)** is a range of values, derived from sample data, that is likely to contain the true population parameter (like mean or proportion) with a certain level of confidence (e.g., 95%).\n",
    "\n",
    "👉 **Significance:**\n",
    "\n",
    "* Provides an **estimate with uncertainty**, rather than a single point value.\n",
    "* Indicates the **reliability** of the sample estimate.\n",
    "* Widely used in **hypothesis testing, survey analysis, and decision-making** to assess how precise and trustworthy results are.\n"
   ]
  },
  {
   "cell_type": "markdown",
   "id": "da82d4c5-2891-48d7-ae2a-8a7d6ed5c806",
   "metadata": {},
   "source": [
    "####\n",
    "### Question 8: What is the concept of expected value in a probability distribution?"
   ]
  },
  {
   "cell_type": "markdown",
   "id": "1d788b44-5e61-4eb9-8986-e89f229435e0",
   "metadata": {},
   "source": [
    "The **expected value (EV)** of a probability distribution is the **long-run average outcome** of a random variable if an experiment is repeated many times. It represents the \"center of gravity\" of the distribution.\n",
    "\n",
    "* For a **discrete random variable**:\n",
    "\n",
    "  $$\n",
    "  E[X] = \\sum x \\cdot P(x)\n",
    "  $$\n",
    "* For a **continuous random variable**:\n",
    "\n",
    "  $$\n",
    "  E[X] = \\int_{-\\infty}^{\\infty} x \\cdot f(x)\\, dx\n",
    "  $$\n",
    "\n",
    "👉 It is important because it gives the **theoretical mean outcome**, useful in decision-making, risk analysis, and predicting long-term behavior.\n"
   ]
  },
  {
   "cell_type": "markdown",
   "id": "44adee8f-59c4-44ec-8ef0-49a075b0c62d",
   "metadata": {},
   "source": [
    "####\n",
    "### Question 9: Write a Python program to generate 1000 random numbers from a normal distribution with mean = 50 and standard deviation = 5. Compute its mean and standard deviation using NumPy, and draw a histogram to visualize the distribution.\n",
    "(Include your Python code and output in the code box below.)"
   ]
  },
  {
   "cell_type": "code",
   "execution_count": 3,
   "id": "61fbc396-e264-4a87-93d4-c666fdca8642",
   "metadata": {},
   "outputs": [
    {
     "name": "stdout",
     "output_type": "stream",
     "text": [
      "Mean: 50.22417269389761\n",
      "Standard Deviation: 4.8112813128213325\n"
     ]
    },
    {
     "data": {
      "image/png": "[encoded data removed]",
      "text/plain": [
       "<Figure size 600x400 with 1 Axes>"
      ]
     },
     "metadata": {},
     "output_type": "display_data"
    }
   ],
   "source": [
    "import numpy as np\n",
    "import matplotlib.pyplot as plt\n",
    "\n",
    "# Generate 1000 random numbers from Normal Distribution (mean=50, std=5)\n",
    "data = np.random.normal(loc=50, scale=5, size=1000)\n",
    "\n",
    "# Compute mean and standard deviation\n",
    "mean_val = np.mean(data)\n",
    "std_val = np.std(data, ddof=1)   # sample standard deviation\n",
    "\n",
    "print(\"Mean:\", mean_val)\n",
    "print(\"Standard Deviation:\", std_val)\n",
    "\n",
    "# Plot histogram\n",
    "plt.figure(figsize=(6,4))\n",
    "plt.hist(data, bins=30, color=\"skyblue\", edgecolor=\"black\", density=True)\n",
    "plt.title(\"Histogram of Normally Distributed Data (mean=50, std=5)\")\n",
    "plt.xlabel(\"Value\")\n",
    "plt.ylabel(\"Density\")\n",
    "plt.axvline(mean_val, color=\"red\", linestyle=\"dashed\", linewidth=1.5, label=f\"Mean = {mean_val:.2f}\")\n",
    "plt.legend()\n",
    "plt.show()\n",
    "\n"
   ]
  },
  {
   "cell_type": "markdown",
   "id": "36e820aa-3f8b-4e53-9a2d-e975b6fe5138",
   "metadata": {},
   "source": [
    "####\n",
    "### Question 10: You are working as a data analyst for a retail company. The company has collected daily sales data for 2 years and wants you to identify the overall sales trend.\n",
    "daily_sales = [220, 245, 210, 265, 230, 250, 260, 275, 240, 255,  235, 260, 245, 250, 225, 270, 265, 255, 250, 260] <br>\n",
    "* Explain how you would apply the Central Limit Theorem to estimate the average sales\n",
    "with a 95% confidence interval.\n",
    "* Write the Python code to compute the mean sales and its confidence interval."
   ]
  },
  {
   "cell_type": "markdown",
   "id": "7eed9b30-6ee8-4399-b1b0-20a7835d6d9c",
   "metadata": {},
   "source": [
    "####\n",
    "Here’s how I would approach this problem:<br><br>\n",
    "📌 **Explanation :**\n",
    "<br><br>\n",
    "* We have a sample of daily sales data. The **Central Limit Theorem (CLT)** tells us that the **sampling distribution of the sample mean** approaches normality as sample size increases, even if the original data is not perfectly normal.\n",
    "\n",
    "* Using CLT, we can compute a **95% confidence interval (CI)** for the mean sales:\n",
    "\n",
    "\n",
    "$$\n",
    "CI = \\bar{x} \\; \\pm \\; Z \\cdot \\frac{s}{\\sqrt{n}}\n",
    "$$\n",
    "\n",
    "Where:\n",
    "\n",
    "* $\\bar{x}$ = **sample mean**\n",
    "* $s$ = **sample standard deviation**\n",
    "* $n$ = **sample size**\n",
    "* $Z$ = **critical value** from the standard normal distribution (e.g., **1.96 for 95% CI**)\n",
    "\n",
    "This CI tells us the range where the **true population mean daily sales** likely falls.\n"
   ]
  },
  {
   "cell_type": "code",
   "execution_count": 4,
   "id": "4b045792-5a35-4f63-82d9-4351d9df19d5",
   "metadata": {},
   "outputs": [
    {
     "name": "stdout",
     "output_type": "stream",
     "text": [
      "Mean Sales: 248.25\n",
      "95% Confidence Interval: (np.float64(240.68312934041109), np.float64(255.81687065958891))\n"
     ]
    }
   ],
   "source": [
    "# Daily sales data\n",
    "daily_sales = [220, 245, 210, 265, 230, 250, 260, 275, 240, 255,\n",
    "               235, 260, 245, 250, 225, 270, 265, 255, 250, 260]\n",
    "\n",
    "# Convert to NumPy array\n",
    "data = np.array(daily_sales)\n",
    "\n",
    "# Sample statistics\n",
    "mean_sales = np.mean(data)\n",
    "std_sales = np.std(data, ddof=1)  # sample std deviation\n",
    "n = len(data)\n",
    "\n",
    "# 95% confidence interval using CLT\n",
    "z = 1.96  # for 95% confidence\n",
    "margin_error = z * (std_sales / np.sqrt(n))\n",
    "ci_lower = mean_sales - margin_error\n",
    "ci_upper = mean_sales + margin_error\n",
    "\n",
    "print(\"Mean Sales:\", mean_sales)\n",
    "print(\"95% Confidence Interval:\", (ci_lower, ci_upper))"
   ]
  },
  {
   "cell_type": "code",
   "execution_count": null,
   "id": "9c363c52-eb79-4912-83b0-ee59047873b2",
   "metadata": {},
   "outputs": [],
   "source": []
  },
  {
   "cell_type": "code",
   "execution_count": null,
   "id": "77bfc4db-5c28-42fa-8318-c47a0f51020d",
   "metadata": {},
   "outputs": [],
   "source": []
  }
 ],
 "metadata": {
  "kernelspec": {
   "display_name": "Python 3 (ipykernel)",
   "language": "python",
   "name": "python3"
  },
  "language_info": {
   "codemirror_mode": {
    "name": "ipython",
    "version": 3
   },
   "file_extension": ".py",
   "mimetype": "text/x-python",
   "name": "python",
   "nbconvert_exporter": "python",
   "pygments_lexer": "ipython3",
   "version": "3.13.3"
  }
 },
 "nbformat": 4,
 "nbformat_minor": 5
}
