{
 "cells": [
  {
   "cell_type": "markdown",
   "id": "f4bfb239-769b-44a9-a3c7-fb5bd464b091",
   "metadata": {},
   "source": [
    "## 🧠 Practical Questions"
   ]
  },
  {
   "cell_type": "markdown",
   "id": "b744187e-c8f6-4d99-9e25-0515479dfe61",
   "metadata": {},
   "source": [
    "### 1. Write a Python function that takes a list of numbers as input and returns the sum of all even numbers in the list."
   ]
  },
  {
   "cell_type": "code",
   "execution_count": 8,
   "id": "b0d36288-b2a0-454f-a6be-e248c93c8a85",
   "metadata": {},
   "outputs": [
    {
     "name": "stdout",
     "output_type": "stream",
     "text": [
      "6\n"
     ]
    }
   ],
   "source": [
    "def even_sum(n):\n",
    "    sum = 0\n",
    "    for num in n:\n",
    "        if num%2==0:\n",
    "            sum = sum + num\n",
    "    return sum\n",
    "    \n",
    "numbers = [1,2,3,4]\n",
    "print(even_sum(numbers))"
   ]
  },
  {
   "cell_type": "markdown",
   "id": "d877a0de-00b2-4517-82bd-ded2665c49e2",
   "metadata": {},
   "source": [
    "####\n",
    "### 2.  Create a Python function that accepts a string and returns the reverse of that string."
   ]
  },
  {
   "cell_type": "code",
   "execution_count": 10,
   "id": "f556f605-4ad6-496f-a8c5-a0472cc88b24",
   "metadata": {},
   "outputs": [
    {
     "data": {
      "text/plain": [
       "'? uoy era woH !olleH'"
      ]
     },
     "execution_count": 10,
     "metadata": {},
     "output_type": "execute_result"
    }
   ],
   "source": [
    "def reverse_string(elem):\n",
    "    rev = elem[::-1]\n",
    "    return rev\n",
    "\n",
    "string1 = \"Hello! How are you ?\"\n",
    "reverse_string(string1)"
   ]
  },
  {
   "cell_type": "markdown",
   "id": "2795468c-256d-416b-82c4-63720d417d5c",
   "metadata": {},
   "source": [
    "####\n",
    "### 3.  Implement a Python function that takes a list of integers and returns a new list containing the squares of each number."
   ]
  },
  {
   "cell_type": "code",
   "execution_count": 11,
   "id": "1dfd3b2a-5ea6-4058-8279-72391b48c846",
   "metadata": {},
   "outputs": [
    {
     "data": {
      "text/plain": [
       "[9, 25, 49, 64]"
      ]
     },
     "execution_count": 11,
     "metadata": {},
     "output_type": "execute_result"
    }
   ],
   "source": [
    "def square_num(numbers):\n",
    "    list1 = []\n",
    "    for num in numbers:\n",
    "        sq_num = num**2\n",
    "        list1.append(sq_num)\n",
    "    return list1\n",
    "    \n",
    "numbers = [3,5,7,8]\n",
    "square_num(numbers)"
   ]
  },
  {
   "cell_type": "markdown",
   "id": "9b57a7bb-ef32-49a3-bff6-631c479fa2f0",
   "metadata": {},
   "source": [
    "####\n",
    "### 4. Write a Python function that checks if a given number is prime or not from 1 to 200."
   ]
  },
  {
   "cell_type": "code",
   "execution_count": 12,
   "id": "5a59cd2b-1118-4a2d-ae61-a8e1f45869c4",
   "metadata": {},
   "outputs": [
    {
     "name": "stdout",
     "output_type": "stream",
     "text": [
      "2 is a prime number.\n",
      "3 is a prime number.\n",
      "5 is a prime number.\n",
      "7 is a prime number.\n",
      "11 is a prime number.\n",
      "13 is a prime number.\n",
      "17 is a prime number.\n",
      "19 is a prime number.\n",
      "23 is a prime number.\n",
      "29 is a prime number.\n",
      "31 is a prime number.\n",
      "37 is a prime number.\n",
      "41 is a prime number.\n",
      "43 is a prime number.\n",
      "47 is a prime number.\n",
      "53 is a prime number.\n",
      "59 is a prime number.\n",
      "61 is a prime number.\n",
      "67 is a prime number.\n",
      "71 is a prime number.\n",
      "73 is a prime number.\n",
      "79 is a prime number.\n",
      "83 is a prime number.\n",
      "89 is a prime number.\n",
      "97 is a prime number.\n",
      "101 is a prime number.\n",
      "103 is a prime number.\n",
      "107 is a prime number.\n",
      "109 is a prime number.\n",
      "113 is a prime number.\n",
      "127 is a prime number.\n",
      "131 is a prime number.\n",
      "137 is a prime number.\n",
      "139 is a prime number.\n",
      "149 is a prime number.\n",
      "151 is a prime number.\n",
      "157 is a prime number.\n",
      "163 is a prime number.\n",
      "167 is a prime number.\n",
      "173 is a prime number.\n",
      "179 is a prime number.\n",
      "181 is a prime number.\n",
      "191 is a prime number.\n",
      "193 is a prime number.\n",
      "197 is a prime number.\n",
      "199 is a prime number.\n"
     ]
    }
   ],
   "source": [
    "def is_prime(n):\n",
    "    if n<2: # as 0, 1 are not prime\n",
    "        return False\n",
    "    for i in range(2, int(n**0.5)+1):  # instead of checking (n-1) check upto sq root [+1 as for loop considers n-1 elements]\n",
    "        if n % i == 0:\n",
    "            return False\n",
    "    return True\n",
    "\n",
    "for num in range(1,201):\n",
    "    if is_prime(num):\n",
    "        print(num, 'is a prime number.')"
   ]
  },
  {
   "cell_type": "markdown",
   "id": "23316c39-895b-4e4a-af97-79a4dd68bb9f",
   "metadata": {},
   "source": [
    "####\n",
    "### 5.  Create an iterator class in Python that generates the Fibonacci sequence up to a specified number of terms."
   ]
  },
  {
   "cell_type": "code",
   "execution_count": 13,
   "id": "7810e5f0-a52e-48b3-8af1-3e913673aceb",
   "metadata": {},
   "outputs": [
    {
     "name": "stdout",
     "output_type": "stream",
     "text": [
      "0 1 1 2 3 5 8 "
     ]
    }
   ],
   "source": [
    "def fib_generator(n):\n",
    "    a,b = 0,1\n",
    "    for _ in range(n):\n",
    "        yield a\n",
    "        a,b = b, a+b\n",
    "\n",
    "for num in fib_generator(7):\n",
    "    print(num, end=' ')"
   ]
  },
  {
   "cell_type": "markdown",
   "id": "9a3240a2-5a17-4cba-981b-df7d47fb1f4e",
   "metadata": {},
   "source": [
    "####\n",
    "### 6. Write a generator function in Python that yields the powers of 2 up to a given exponent."
   ]
  },
  {
   "cell_type": "code",
   "execution_count": 14,
   "id": "32c882ec-5a26-4198-832b-98c6652ae0fd",
   "metadata": {},
   "outputs": [
    {
     "name": "stdout",
     "output_type": "stream",
     "text": [
      "1\n",
      "2\n",
      "4\n",
      "8\n",
      "16\n",
      "32\n",
      "64\n",
      "128\n"
     ]
    }
   ],
   "source": [
    "def power_exp(n):\n",
    "    for exp in range(n+1):\n",
    "        yield 2 ** exp\n",
    "\n",
    "for val in power_exp(7):\n",
    "    print(val)"
   ]
  },
  {
   "cell_type": "markdown",
   "id": "405882d7-1ecf-4c40-b59e-c8a9f8f97133",
   "metadata": {},
   "source": [
    "####\n",
    "### 7.  Implement a generator function that reads a file line by line and yields each line as a string."
   ]
  },
  {
   "cell_type": "code",
   "execution_count": 15,
   "id": "43ea97d4-4810-4788-89ff-4f9275823640",
   "metadata": {},
   "outputs": [
    {
     "name": "stdout",
     "output_type": "stream",
     "text": [
      "Hello World!\n",
      "Example for Implementing Generator Function.\n",
      "yield.line.strip()\n"
     ]
    }
   ],
   "source": [
    "def read_file_lines(file_path):\n",
    "    with open(file_path, 'r') as file:\n",
    "        for line in file:\n",
    "            yield line.strip()\n",
    "\n",
    "for line in read_file_lines('example.txt'):\n",
    "    print(line)"
   ]
  },
  {
   "cell_type": "markdown",
   "id": "5b3504fb-5661-4e2c-8d0d-038fb8136cb6",
   "metadata": {},
   "source": [
    "####\n",
    "### 8.  Use a lambda function in Python to sort a list of tuples based on the second element of each tuple."
   ]
  },
  {
   "cell_type": "code",
   "execution_count": 2,
   "id": "9f3f833f-a9e3-4b76-a082-d7b3836e684a",
   "metadata": {},
   "outputs": [
    {
     "name": "stdout",
     "output_type": "stream",
     "text": [
      "[(1, 2, 3), (7, 3, 9), (3, 4, 5), (4, 5, 6), (7, 8, 9)]\n"
     ]
    }
   ],
   "source": [
    "tup = [(1,2,3), (7,8,9), (4,5,6), (3,4,5), (7,3,9)]\n",
    "sorted_tup = sorted(tup, key=lambda x:x[1])\n",
    "print(sorted_tup)"
   ]
  },
  {
   "cell_type": "markdown",
   "id": "822cc930-8803-4c2a-b402-729291cf260d",
   "metadata": {},
   "source": [
    "####\n",
    "### 9. Write a Python program that uses `map()` to convert a list of temperatures from Celsius to Fahrenheit."
   ]
  },
  {
   "cell_type": "code",
   "execution_count": 3,
   "id": "2ff4b18a-6718-43b8-8c8e-31b6e8f54cca",
   "metadata": {},
   "outputs": [
    {
     "name": "stdout",
     "output_type": "stream",
     "text": [
      "[50.0, 212.0, 168.8, 113.0]\n"
     ]
    }
   ],
   "source": [
    "celsius_list = [10, 100, 76, 45]\n",
    "\n",
    "def to_far(c):\n",
    "    return (c*9/5 + 32)\n",
    "\n",
    "map_far = list(map(to_far, celsius_list))\n",
    "print(map_far)"
   ]
  },
  {
   "cell_type": "markdown",
   "id": "6c846be3-41ec-4db1-a19d-6f38f96c3e20",
   "metadata": {},
   "source": [
    "####\n",
    "### 10. Create a Python program that uses `filter()` to remove all the vowels from a given string."
   ]
  },
  {
   "cell_type": "code",
   "execution_count": 6,
   "id": "2bc247b2-1e7b-4f37-9f03-3199c1e301fb",
   "metadata": {},
   "outputs": [
    {
     "data": {
      "text/plain": [
       "'Rnbw s btfl'"
      ]
     },
     "execution_count": 6,
     "metadata": {},
     "output_type": "execute_result"
    }
   ],
   "source": [
    "def remove_vow(text):\n",
    "    vowels = 'aeiouAEIOU'\n",
    "    return ''.join(filter(lambda x: x not in vowels, text))\n",
    "\n",
    "str1 = 'Rainbow is beautiful'\n",
    "remove_vow(str1)"
   ]
  },
  {
   "cell_type": "markdown",
   "id": "ff136ac0-ee9b-4225-aeed-5adb928bfdf1",
   "metadata": {},
   "source": [
    "####\n",
    "### 11.  Imagine an accounting routine used in a book shop. It works on a list with sublists, which look like this:\n",
    "\n",
    "\n",
    "\n",
    "\n",
    "\n",
    "\n",
    "\n",
    "Write a Python program, which returns a list with 2-tuples. Each tuple consists of the order number and the\n",
    "product of the price per item and the quantity. The product should be increased by 10,- € if the value of the\n",
    "order is smaller than 100,00 €.\n",
    "\n",
    "Write a Python program using lambda and map."
   ]
  },
  {
   "cell_type": "code",
   "execution_count": 7,
   "id": "df072fc3-1960-4536-a2b3-548df9da7ace",
   "metadata": {},
   "outputs": [
    {
     "name": "stdout",
     "output_type": "stream",
     "text": [
      "[(34587, 163.8), (98762, 284.0), (77226, 108.85), (88112, 84.97)]\n"
     ]
    }
   ],
   "source": [
    "orders = [\n",
    "    [34587, 'Learning Python', 4, 40.95],\n",
    "    [98762, 'Programming Python', 5, 56.80],\n",
    "    [77226, 'Head First Python', 3,  32.95],\n",
    "    [88112, 'Einfuhrung in Python3', 3, 24.99]\n",
    "]\n",
    "\n",
    "result = list(map(lambda x: (x[0], \n",
    "                            round(x[2]*x[3] + (10 if x[2]*x[3] < 100 else 0),2)\n",
    "                            ), orders))\n",
    "print(result)"
   ]
  }
 ],
 "metadata": {
  "kernelspec": {
   "display_name": "Python 3 (ipykernel)",
   "language": "python",
   "name": "python3"
  },
  "language_info": {
   "codemirror_mode": {
    "name": "ipython",
    "version": 3
   },
   "file_extension": ".py",
   "mimetype": "text/x-python",
   "name": "python",
   "nbconvert_exporter": "python",
   "pygments_lexer": "ipython3",
   "version": "3.13.3"
  }
 },
 "nbformat": 4,
 "nbformat_minor": 5
}
