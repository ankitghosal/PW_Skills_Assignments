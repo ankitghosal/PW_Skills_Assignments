{
 "cells": [
  {
   "cell_type": "markdown",
   "id": "150ad518-51d5-42d7-99ca-0b3246b4b6ad",
   "metadata": {},
   "source": [
    "## 🧠 Theoretical Questions"
   ]
  },
  {
   "cell_type": "markdown",
   "id": "c040a46c-a7e1-4508-9109-001d73598715",
   "metadata": {},
   "source": [
    "### 1. What is the difference between a function and a method in Python ?"
   ]
  },
  {
   "cell_type": "markdown",
   "id": "a0772d85-477c-4812-be45-ceefec18349a",
   "metadata": {},
   "source": [
    "**<u>Function:</u>** Function is an independent block of code that performs a task and can be called by its name. Functions are typically independent.<br>\n",
    "Example: <br><br>\n",
    "def greet (name):<br>\n",
    "&emsp;&emsp;return f\"Hello, {name}\"<br><br>\n",
    "print(greet(Ankit))\n",
    "<br><br>\n",
    "**<u>Method:</u>** Method is a functioon associated with an object and it operates on that object's data. So methods are Object-specific.<br>\n",
    "Example: <br><br>\n",
    "greet = \"hello\"<br>\n",
    "print(greet.upper())"
   ]
  },
  {
   "cell_type": "markdown",
   "id": "2df1884b-84a5-4e1c-adb7-a85400029b08",
   "metadata": {},
   "source": [
    "####\n",
    "### 2. Explain the concept of function arguments and parameters in Python."
   ]
  },
  {
   "cell_type": "markdown",
   "id": "9b0217e8-b218-4e2b-84ea-c5337c79b1c6",
   "metadata": {},
   "source": [
    "**Parameters** are the variable names listed in a function's definition.<br><br>\n",
    "def greet(name):<br>\n",
    "&emsp;&emsp;print(\"Hello\", name)<br><br>\n",
    "**Arguments** are the actual values passed to the function when it is called.<br><br>\n",
    "greet(\"Ankit\")"
   ]
  },
  {
   "cell_type": "markdown",
   "id": "29a86fe9-6c48-4223-abb3-70632afe0819",
   "metadata": {},
   "source": [
    "####\n",
    "### 3.  What are the different ways to define and call a function in Python ?"
   ]
  },
  {
   "cell_type": "code",
   "execution_count": 6,
   "id": "b3a4bfbd-b95a-4c86-a2ac-c1ab6616c421",
   "metadata": {},
   "outputs": [
    {
     "name": "stdout",
     "output_type": "stream",
     "text": [
      "Hello, Ankit\n",
      "Hello, Guest\n",
      "Hello, Ankit Ghosal\n",
      "10\n",
      "25\n"
     ]
    }
   ],
   "source": [
    "# 1. Standard Function Definition:\n",
    "def greet(name):\n",
    "    return f\"Hello, {name}\"\n",
    "print(greet(\"Ankit\"))\n",
    "\n",
    "# 2. Function with default Arguments:\n",
    "def greeting(name='Guest'):\n",
    "    return f\"Hello, {name}\"\n",
    "\n",
    "print(greeting())\n",
    "print(greeting(\"Ankit Ghosal\")) \n",
    "\n",
    "# Function with vaiable Arguments:\n",
    "def add_all(*args):\n",
    "    return sum(args)\n",
    "print(add_all(1,2,3,4))\n",
    "\n",
    "# lambda Function:\n",
    "square = lambda x:x**2\n",
    "print(square(5))"
   ]
  },
  {
   "cell_type": "markdown",
   "id": "6a28a88d-e686-47a5-ac0f-86844a262e85",
   "metadata": {},
   "source": [
    "####\n",
    "### 4.  What is the purpose of the return statement in a Python function ?"
   ]
  },
  {
   "cell_type": "markdown",
   "id": "fa72cc9d-acf5-4688-b24a-ff45b45c9cc9",
   "metadata": {},
   "source": [
    "The  'return' statement in Python is used to deliver a result. It ends the  function's execution.<br><br>\n",
    "Example:"
   ]
  },
  {
   "cell_type": "code",
   "execution_count": 7,
   "id": "11cb2329-0b0d-43a9-bdb1-faadbce54765",
   "metadata": {},
   "outputs": [
    {
     "name": "stdout",
     "output_type": "stream",
     "text": [
      "7\n"
     ]
    }
   ],
   "source": [
    "def add(a,b):\n",
    "    return a + b\n",
    "\n",
    "result = add(3,4)\n",
    "print(result)"
   ]
  },
  {
   "cell_type": "markdown",
   "id": "24c5527c-798c-430e-a1c4-d3ddc1d1bce3",
   "metadata": {},
   "source": [
    "####\n",
    "### 5. What are iterators in Python and how do they differ from iterables ?"
   ]
  },
  {
   "cell_type": "markdown",
   "id": "42ea9ffc-d22f-4b74-a44a-f8e252fd6d19",
   "metadata": {},
   "source": [
    "* **<u>Iterable:</u>** Any python object that can loop over (like - list, tuple, dict, set, str). It implements the '__iter__()' method.<br><br>\n",
    "my_list = [1,2,3]<br><br>\n",
    "* **<u>Iterator:</u>** An object that produces values **one at a time** using '__next__()' and remembers where it left off. It's created from an iterable using 'iter()'.<br><br>\n",
    "my_iter = iter(my_list)<br>\n",
    "print(next(my_iter))<br>\n",
    "print(next(my_iter))"
   ]
  },
  {
   "cell_type": "markdown",
   "id": "949fa736-4f58-4179-85a6-a33217aed5b4",
   "metadata": {},
   "source": [
    "####\n",
    "### 6.  Explain the concept of generators in Python and how they are defined."
   ]
  },
  {
   "cell_type": "markdown",
   "id": "f8030f66-7541-4795-aacc-e7dae90994e2",
   "metadata": {},
   "source": [
    "**<u>Generator:</u>** a special type of iterator in Python that yields values one at a time using the 'yield' keyword instead of 'return'. It's **memory-efficient** way to produce large sequences without storing them all in memory.<br><br>\n",
    "Example:"
   ]
  },
  {
   "cell_type": "code",
   "execution_count": 11,
   "id": "df38a9f4-857d-4470-a930-f23cd0bd8a24",
   "metadata": {},
   "outputs": [
    {
     "name": "stdout",
     "output_type": "stream",
     "text": [
      "<generator object count_up_to at 0x00000288D494A140>\n",
      "1 2 3 4 5 6 "
     ]
    }
   ],
   "source": [
    "def count_up_to(n):\n",
    "    count = 1\n",
    "    while count<= n:\n",
    "        yield count\n",
    "        count += 1\n",
    "        \n",
    "print(count_up_to(6))\n",
    "for num in count_up_to(6):\n",
    "    print(num, end=' ')"
   ]
  },
  {
   "cell_type": "markdown",
   "id": "9a7f5eb2-95d4-4289-a797-ae0b27337843",
   "metadata": {},
   "source": [
    "####\n",
    "### 7.  What are the advantages of using generators over regular functions ?"
   ]
  },
  {
   "cell_type": "markdown",
   "id": "4d2a58d6-a5db-4c66-8f70-d4b35d1b2d4a",
   "metadata": {},
   "source": [
    " 1. **Memory Efficiency :** Generators yield one items at a time instead of storing the entire result in memory.\n",
    "  2. **Improved Performance :** No need to compute all results upfront, which saves time and processing power.\n",
    "  3. **Lazy Evaluation :** Values are generated only when needed, which improves performance."
   ]
  },
  {
   "cell_type": "markdown",
   "id": "6d9f7860-0449-448b-a950-5b95aa7694bf",
   "metadata": {},
   "source": [
    "####\n",
    "### 8.  What is a lambda function in Python and when is it typically used ?"
   ]
  },
  {
   "cell_type": "markdown",
   "id": "d3538cca-0d75-4dd8-852b-28269d427b02",
   "metadata": {},
   "source": [
    "* **lambda Function** is an **anonnymous, one-line** function using 'lambda' keyword.\n",
    "* It is typically used for **short, simple operations** that don't require a full 'def' block."
   ]
  },
  {
   "cell_type": "code",
   "execution_count": 12,
   "id": "66a841c9-97bc-4f75-9f85-a526974a0642",
   "metadata": {},
   "outputs": [
    {
     "name": "stdout",
     "output_type": "stream",
     "text": [
      "25\n"
     ]
    }
   ],
   "source": [
    "square =lambda x:x**2\n",
    "print(square(5))"
   ]
  },
  {
   "cell_type": "markdown",
   "id": "6d6edb37-a923-4257-8362-577dbbfb5b25",
   "metadata": {},
   "source": [
    "####\n",
    "### 9.  Explain the purpose and usage of the `map()` function in Python."
   ]
  },
  {
   "cell_type": "markdown",
   "id": "a5714c45-44b3-485a-8892-0e4791daff86",
   "metadata": {},
   "source": [
    "The 'map()' function is used to **apply a function to every item** in an iterable(like  a list or tuple) and return a **new map object** (an iterator) with the transformed values.<br><br>\n",
    "map(function, iterable)"
   ]
  },
  {
   "cell_type": "code",
   "execution_count": 15,
   "id": "c5f5aaa9-7b21-4fbc-8a95-c6065376ec90",
   "metadata": {},
   "outputs": [
    {
     "name": "stdout",
     "output_type": "stream",
     "text": [
      "[1, 4, 9, 16]\n"
     ]
    }
   ],
   "source": [
    "numbers = [1,2,3,4]\n",
    "squares = map(lambda x: x**2, numbers)\n",
    "print(list(squares))"
   ]
  },
  {
   "cell_type": "markdown",
   "id": "a5d46d85-0b1a-4dee-a9eb-41035e0e857b",
   "metadata": {},
   "source": [
    "####\n",
    "### 10. What is the difference between `map()`, `reduce()`, and `filter()` functions in Python ?"
   ]
  },
  {
   "cell_type": "markdown",
   "id": "1f9a9b36-a55e-4368-848c-9c4c08ec5c06",
   "metadata": {},
   "source": [
    "1. **<u>map :</u>** Returns a new iterator by **applying the given function to each item** in the input iterable.<br><br>\n",
    "**Purpose :** Transformation<br>\n",
    "**Example :** map(lambda x:x**2, [1,2,3]) → [1,4,6]<br><br>\n",
    "\n",
    "2. **filter :** Returns a new iterator containing **only those items** from the iterable for which the **function returns 'True'**.<br><br>\n",
    "**Purpose :** Selection<br>\n",
    "**Example :** filter(lambda x: x>2, [1,2,3] → [3] )<br><br>\n",
    "\n",
    "3. **<u>reduce :</u>** Applies the function **cumulatively** to the items in the iterable, so as to **reduce it to a single value.**<br><br>\n",
    "**Purpose :** Aggregattion<br>\n",
    "**Example :** reduce(lambda x,y: x+y, [1,2,3] → 6 )"
   ]
  },
  {
   "cell_type": "markdown",
   "id": "81b3e2f8-86d5-4f3c-a2ea-2149c14d94e9",
   "metadata": {},
   "source": [
    "####\n",
    "### 11.  Using pen & Paper write the internal mechanism for sum operation using  reduce function on this given list:[47,11,42,13]; "
   ]
  },
  {
   "cell_type": "code",
   "execution_count": 21,
   "id": "5d3c0ef0-4692-4249-8146-fb3a4bdaee73",
   "metadata": {},
   "outputs": [
    {
     "data": {
      "text/html": [
       "<img src=\"C:/Users/Ankit Ghosal/Downloads/python.jpg\" width=\"300\" height=\"300\"/>"
      ],
      "text/plain": [
       "<IPython.core.display.Image object>"
      ]
     },
     "execution_count": 21,
     "metadata": {},
     "output_type": "execute_result"
    }
   ],
   "source": [
    "# import image module\n",
    "from IPython.display import Image\n",
    "\n",
    "# get the image\n",
    "Image(url=\"C:/Users/Ankit Ghosal/Downloads/reduce_function.jpeg\", width=300, height=300)"
   ]
  },
  {
   "cell_type": "markdown",
   "id": "5e945c5f-1147-44c9-971f-422ac1dd348f",
   "metadata": {},
   "source": [
    "![](reduce_function.jpg)"
   ]
  },
  {
   "cell_type": "markdown",
   "id": "f8aba126-1be5-4ba2-bc83-5dded9d5cfd0",
   "metadata": {},
   "source": [
    "## ** Can not upload image for unknown reasons ! So typing the answer:"
   ]
  },
  {
   "cell_type": "markdown",
   "id": "85921a92-61d3-400c-a1b8-c630e215a434",
   "metadata": {},
   "source": [
    "f(x, y) = x + y<br><br>\n",
    "1. Step 1: 47 + 11 = 58\n",
    "\n",
    "2. Step 2: 58 + 42 = 100\n",
    "\n",
    "3. Step 3: 100 + 13 = 113<br><br>\n",
    "**Final Output :** 113"
   ]
  },
  {
   "cell_type": "code",
   "execution_count": null,
   "id": "48d7d01f-0496-4132-be2a-7f8ba554a00c",
   "metadata": {},
   "outputs": [],
   "source": []
  },
  {
   "cell_type": "code",
   "execution_count": null,
   "id": "96d726cc-afc7-42af-801a-fa9b928101e4",
   "metadata": {},
   "outputs": [],
   "source": []
  },
  {
   "cell_type": "code",
   "execution_count": null,
   "id": "7746cb4a-ab95-4935-be36-a18467d029c8",
   "metadata": {},
   "outputs": [],
   "source": []
  }
 ],
 "metadata": {
  "kernelspec": {
   "display_name": "Python 3 (ipykernel)",
   "language": "python",
   "name": "python3"
  },
  "language_info": {
   "codemirror_mode": {
    "name": "ipython",
    "version": 3
   },
   "file_extension": ".py",
   "mimetype": "text/x-python",
   "name": "python",
   "nbconvert_exporter": "python",
   "pygments_lexer": "ipython3",
   "version": "3.13.3"
  }
 },
 "nbformat": 4,
 "nbformat_minor": 5
}
