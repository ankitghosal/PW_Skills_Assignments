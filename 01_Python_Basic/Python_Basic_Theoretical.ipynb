{
 "cells": [
  {
   "cell_type": "markdown",
   "id": "e435eb82-9d37-4630-9402-7e8e62c1652e",
   "metadata": {},
   "source": [
    "## 🧠 Theoretical Questions"
   ]
  },
  {
   "cell_type": "markdown",
   "id": "470ae971-db4d-42cc-a5c7-958ab2ffc0de",
   "metadata": {},
   "source": [
    "### 1. What is Python, and why is it popular ?"
   ]
  },
  {
   "cell_type": "markdown",
   "id": "3e0e30f9-ff7f-45f7-8213-1e5339bb2cfd",
   "metadata": {},
   "source": [
    "#### 📌 Definniton :\n",
    "&emsp;Python is a **high level**, **interpreted programming language** known for it's **simplicity**, **readability** and **versatility**.<br> \n",
    "<br>\n",
    "####  🔍Reason for Popularity:\n",
    "\n",
    "#### &emsp;1. <u>**Simple and Readable Syntax:**</u>  \n",
    "&emsp;&emsp;Code looks like normal english sentences that makes it beginner-friendly.\n",
    "#### &emsp;2. <u>**Versatile Applications:**</u>\n",
    "&emsp;&emsp;Python is a **general-purpose language**, used in multiple domains. Such as:<br>\n",
    "        &emsp;&emsp;&emsp;&emsp;- <u>**Web Development:**</u>  Python is used to build scalable and maintainable web pages using **Django**, **Flask**.<br>\n",
    "        &emsp;&emsp;&emsp;&emsp;- <u>**Data Science:**</u>  Python is the most popular language for data analysis, processing and visualizing using **NumPy**, **Pandas** Libraries.<br>\n",
    "        &emsp;&emsp;&emsp;&emsp;- <u>**Machine Learning:**</u>  python is widely used for ML and AI due to it's high end libraries like **Scikit-Learn**, **Tensorflow**.<br>\n",
    "        &emsp;&emsp;&emsp;&emsp;- <u>**Game Development:**</u>  Python is a beginner-friendly language for 2D game development using **Pygame**."
   ]
  },
  {
   "cell_type": "markdown",
   "id": "f167b394-dc9b-4a9d-8214-7b866428093a",
   "metadata": {},
   "source": [
    "#### \n",
    "### 2. What is an interpreter in Python ?"
   ]
  },
  {
   "cell_type": "markdown",
   "id": "e600edc2-7f4c-43a2-8d89-50ffa3ce1cda",
   "metadata": {},
   "source": [
    "💡 An **Interpreter** in python is a program that reads and executes Python codes line by line with out any need to compile it into machine code first."
   ]
  },
  {
   "cell_type": "markdown",
   "id": "ca55139d-84bf-49d1-ac68-d395622d78e4",
   "metadata": {},
   "source": [
    "#####\n",
    "### 3. What are pre-defined keywords in Python "
   ]
  },
  {
   "cell_type": "markdown",
   "id": "a88baef8-4ce0-44b8-b5bf-e0b3e5ba5695",
   "metadata": {},
   "source": [
    "🧠 The pre-defined Keywords in python are:<br>\n",
    " * <u>**Conditional Statements:**</u>  &nbsp;if, else, elif<br>\n",
    " * <u>**Loops:**</u> &nbsp; for, while<br>\n",
    " * <u>**Function:**</u> &nbsp; def, return<br>\n",
    " * <u>**OOP:**</u> &nbsp; class, self<br>\n",
    " * <u>**Modules:**</u> &nbsp; import, from, as<br>\n",
    " * <u>**Error Handling:**</u> &nbsp; try, except, finally<br>\n",
    " * <u>**Boolean Values & None:**</u> &nbsp; True, False, None<br>\n",
    " * <u>**Logical Operators:**</u> &nbsp; and, or, not<br>\n",
    " * <u>**Identity and Membership:**</u> &nbsp; is, in <br>\n",
    " * <u>**Variable Scope:**</u> &nbsp; global, nonlocal<br>\n",
    " * <u>**Advanced Functionality**</u> &nbsp; with, lambda, yield"
   ]
  },
  {
   "cell_type": "markdown",
   "id": "7bbaba17-f81d-4a1a-a919-80ccbbae7184",
   "metadata": {},
   "source": [
    "#####\n",
    "### 4. Can keywords be used as variable names ? "
   ]
  },
  {
   "cell_type": "markdown",
   "id": "684861eb-85e4-4d2a-9b4e-0d514ca54a2e",
   "metadata": {},
   "source": [
    "❌ **NO**<br>\n",
    "<br>\n",
    "🔍\n",
    "**Keywords** are **reserved words** that have special meaning in python's syntax. To use them as variable names will confuse the interpreter as it won't be able to distinguish between variable name and python's command."
   ]
  },
  {
   "cell_type": "markdown",
   "id": "8b4abfae-f57e-4029-843a-359108244bd7",
   "metadata": {},
   "source": [
    "#####\n",
    "### 5. What is mutability in Python ?"
   ]
  },
  {
   "cell_type": "markdown",
   "id": "2be0fcfa-f2a2-40f0-9554-1b5c3315666a",
   "metadata": {},
   "source": [
    "🔄 **Mutability** means if an object's name **can be changed or not after it is created**.<br>\n",
    "\n",
    "<br>\n",
    "\n",
    "|Type|Mtability|Example|\n",
    "|---|---|---|\n",
    "|**Mutable**|✅ Yes|list, dict, set|\n",
    "|**Immutable**|❌ No|str, tupple|"
   ]
  },
  {
   "cell_type": "markdown",
   "id": "4307a1d2-d47f-4b08-a9ea-e49ebf7f4001",
   "metadata": {},
   "source": [
    "#####\n",
    "### 6. Why are lists mutable, but tuples are immutable ?"
   ]
  },
  {
   "cell_type": "markdown",
   "id": "6c3b043d-8192-4377-99a2-77e7bf6daf46",
   "metadata": {},
   "source": [
    "#### 🔄 **Why Lists are Mutable:**<br>\n",
    " *  A list is a **dynamic data structure** - that's designed to hold items that may change over time.<br>\n",
    "* Internally, Python stores list elements in a **resizable array** in memory. This  allows to **Add, Remove** or **Change** elements freely by using methods like '**.append()**', '**.pop()**', '**.insert()**'.<br>\n",
    "* Used for **dynamic contents**.<br>\n",
    "<br>\n",
    "#### ❌ **Why Tuples Are Immutable:**<br>\n",
    " * A Tuple is a **static data structure** = that's intended to hold fixed data.<br>\n",
    " * Once created, **the memory and structure are locked**. This doesn't allow to **Add** or **Remove** items.<br>\n",
    " * This ensures **Predictabililty**  and **safety**  when used as keys in dictionaries or constants."
   ]
  },
  {
   "cell_type": "markdown",
   "id": "2986b71b-4fdc-4741-a7ca-2e2110907edf",
   "metadata": {},
   "source": [
    "#####\n",
    "### 7. What is the difference between “==” and “is” operators in Python ?"
   ]
  },
  {
   "cell_type": "markdown",
   "id": "2408e442-a4be-4a4d-b772-d11fb956cf6d",
   "metadata": {},
   "source": [
    "#### 🔁 == → Equality Operator:<br>\n",
    "* Checks if valus of two objects are **equal**.\n",
    "* Two different objects can be equal if they contain the same data.<br><br>\n",
    "  🧪 Example:<br>\n",
    "  a = [1, 2, 3]<br>\n",
    "b = [1, 2, 3]<br>\n",
    "print(a == b)  &emsp;# ✅ True → same contents<br>\n",
    "\n",
    "#### 🧠 is → Identity Operator: <br>\n",
    "* Checks if the two variables point to the same *object* in memory.\n",
    "* Even if two objects  have same value, *'is'* will return ***False*** unless they are literally the same object.<br><br>\n",
    "🧪 Example:<br>\n",
    "  a = [1, 2, 3]<br>\n",
    "b = [1, 2, 3]<br>\n",
    "print(a == b)  &emsp;# ❌ False → different objects in memory"
   ]
  },
  {
   "cell_type": "markdown",
   "id": "fecc739d-5d3e-4d87-8a9b-8011916e4993",
   "metadata": {},
   "source": [
    "#####\n",
    "### 8. What are logical operators in Python ?"
   ]
  },
  {
   "cell_type": "markdown",
   "id": "61e53b2c-aca4-4e8d-a06f-5795be6c5529",
   "metadata": {},
   "source": [
    "🔗 **Logical Operators** are used to **combine conditinal statements** or expressions that result in ***True*** or ***False***. They are essential in **decision-making** in python.<br><br>\n",
    "✅ Python's 3 Logical Operators:<br>\n",
    "\n",
    "|Operators| Descriptions| Example|\n",
    "|---|---|---|\n",
    "|**and**| Returns ***True*** if **both** conditions are True.| &emsp;x<2 and x<5|\n",
    "|**or**|Returns ***True*** if **atleast one** condition is True| &emsp; x<2 or x>5|\n",
    "|**not**|Returns ***True*** or ***False*** based on the result| &emsp; not x>7"
   ]
  },
  {
   "cell_type": "markdown",
   "id": "3067e560-86f5-43c6-92a7-de742e14ec78",
   "metadata": {},
   "source": [
    "#####\n",
    "### 9. What is type casting in Python ?"
   ]
  },
  {
   "cell_type": "markdown",
   "id": "e6561b6b-8379-437b-973c-25b1adf5bd1e",
   "metadata": {},
   "source": [
    "📌 **Type Casting** (or **Type Connversion**) is the process of **converting one data type into another** in Python.<br>\n",
    "- used to change the type of variable when needed.<br><br>\n",
    "🧪 Example 1:<br>\n",
    "a = \"123\"<br>\n",
    "b = <span style='color:orange;'>int</span>(<span style='color:red;'>a</span>)  &emsp;&emsp;<span style=\"color:green;\">*# Convert **str** to **int***</span><br>\n",
    "<br>\n",
    "🧪 Example 2:<br>\n",
    "<span style='color:orange;'>int</span>(<span style='color:red;'>\"123\"</span>)&emsp;&emsp;<span style='color:green;'># ✅ Works → **str** to **int**</span><br>\n",
    "<span style='color:orange;'>int</span>(<span style='color:red;'>\"abc\"</span>)&emsp;&emsp;<span style='color:green;'># ❌ Error → **ValueError**</span>"
   ]
  },
  {
   "cell_type": "markdown",
   "id": "60e915d1-8df2-4d5e-b45a-9870b71bcd88",
   "metadata": {},
   "source": [
    "#####\n",
    "### 10. What is the difference between implicit and explicit type casting ?"
   ]
  },
  {
   "cell_type": "markdown",
   "id": "b3a7ee49-d625-490e-9bd9-93f8c138368d",
   "metadata": {},
   "source": [
    "### 🧠 Implicit Type Casting:\n",
    "* Python **automaticallly** converts this data type.\n",
    "* Happens **silently** during operations. **No manual intervention** required.\n",
    "  🧪 Example :<br>\n",
    "  x = <span style='color:red;'>5</span>&emsp;&emsp;<span style='color:green'>*# int*</span><br>\n",
    "y = <span style='color:red;'>52.5</span>&emsp;&emsp;<span style='color:green'>*# float*</span><br>\n",
    "\n",
    "z = x + y &emsp;&emsp;<span style='color:green'>*# int + float → float*</span><br>\n",
    "print(z)  &emsp;&emsp;<span style='color:green'>*# Output: 7.5*</span><br>\n",
    "print(type(z)) &emsp;&emsp;<span style='color:green'>*# <class 'float'>*</span><br>\n",
    "\n",
    "<br>\n",
    "\n",
    "### 🧠 Explicit Type Casting:\n",
    "* When data type is **manually converted** using functions like ***int()***, ***folat()***, ***str()*** etc.<br>\n",
    "🧪 Example :<br>\n",
    "  a = \"<span style='color:red'>100</span>\"<br>\n",
    "b = int(<span style='color:red'>a</span>)  &emsp;&emsp;<span style='color:green'>*# Convert string to integer*</span><br>"
   ]
  },
  {
   "cell_type": "markdown",
   "id": "29f6c6ca-0d22-42a2-9261-887eafabfd7a",
   "metadata": {},
   "source": [
    "#####\n",
    "### 11. What is the purpose of conditional statements in Python ?"
   ]
  },
  {
   "cell_type": "markdown",
   "id": "15ee3d06-232c-4783-b7c1-288b29b002d2",
   "metadata": {},
   "source": [
    "### ❓  Why Use Conditional Statements?\n",
    "* To **control the flow** of your program.\n",
    "* To perform **execute different blocks of codes** depending on if the consition is **True** or **False**.<br>\n",
    "<br>\n",
    "\n",
    "|Statement|Purpose|\n",
    "|---|---|\n",
    "|**if**| Checks a condition; runsblock if ***True***|\n",
    "|**elif**| Checks another condition if ***if***is ***False***|\n",
    "|**else**| Runs when ***None*** of the above are ***True***|"
   ]
  },
  {
   "cell_type": "markdown",
   "id": "5cc5f96f-3cfa-42d6-9700-33395f235d02",
   "metadata": {},
   "source": [
    "#####\n",
    "### 12. How does the elif statement work ?"
   ]
  },
  {
   "cell_type": "markdown",
   "id": "13af1687-51c6-449b-8177-2fca665a910a",
   "metadata": {},
   "source": [
    "🔄 The **elif** (short for **\"else if\"**) statement is used to check multiple conditions after the initial if condition.\n",
    "\n",
    "It allows you to add additional checks when the previous conditions are False, without writing multiple separate if blocks.<br><br>\n",
    "\n",
    "🧪 Example :<br>\n",
    "<span style='color:dodgerblue'>**if**</span> condition1:<br>\n",
    "    &emsp;&emsp;<span style='color:green'>*# Run this block if condition1 is True*</span><br>\n",
    "    \n",
    "<span style='color:dodgerblue'>**elif**</span> condition2:<br>\n",
    "    &emsp;&emsp;<span style='color:green'>*# Run this block if condition1 is False AND condition2 is True*</span><br>\n",
    "    \n",
    "<span style='color:dodgerblue'>**elif**</span> condition3:<br>\n",
    "    &emsp;&emsp;<span style='color:green'>*# Run this block if previous are False AND condition3 is True*<br>\n",
    "<span style='color:dodgerblue'>**else**</span>:<br>\n",
    "    &emsp;&emsp;<span style='color:green'>*# Run this block if all above conditions are False*<br>"
   ]
  },
  {
   "cell_type": "markdown",
   "id": "a40a66f8-7759-463d-a048-d195fe2c68c7",
   "metadata": {},
   "source": [
    "#####\n",
    "### 13. What is the difference between for and while loops ?\n"
   ]
  },
  {
   "cell_type": "markdown",
   "id": "59c1040d-4c3e-4725-8662-598f9b8c9e8b",
   "metadata": {},
   "source": [
    "#### 🔄 <u>For Loop:</U>\n",
    "* A for loop is used to **iterate over a sequence (list, string or range)** and executes block of codes for each item in the sequence.\n",
    "* It is ideal when ***number of iteration os known*** in advance.<br><br>\n",
    "🧪 Example:<br>\n",
    "<span style='color:green'>*# Print numbers from 1 to 5 using a for loop*</span><br>\n",
    "<span style='color:dodgerblue'>for</span> i <span style='color:dodgerblue'>in</span> <span style='color:orange;'>range</span>(<span style='color:red;'>1, 6</span>):<br>\n",
    "    &emsp;&emsp;<span style='color:orange;'>print</span>(f<span style='color:lightcoral'>\"For loop: {i}\"</span>)<br>"
   ]
  },
  {
   "cell_type": "markdown",
   "id": "2e4291cc-6508-4c02-890b-3393d8f8d4a8",
   "metadata": {},
   "source": [
    "#####\n",
    "### 14. Describe a scenario where a while loop is more suitable than a for loop."
   ]
  },
  {
   "cell_type": "markdown",
   "id": "86643d16-0f31-4faa-9a45-8f1dba330518",
   "metadata": {},
   "source": [
    "A **While loop** is ideal when we **don't know in advance how many times to repeat the code** - instead, the loop should continue **as long as the condition is True**.<br><br>\n",
    "\n",
    "#### 🧪 Example: Keep Rolling a Dice Until You Get a 6 👇"
   ]
  },
  {
   "cell_type": "code",
   "execution_count": 8,
   "id": "c3cfc76c-6a3d-45ef-9045-e0bd407ad5db",
   "metadata": {},
   "outputs": [
    {
     "name": "stdout",
     "output_type": "stream",
     "text": [
      "Roll 1: You rolled a 1\n",
      "Roll 2: You rolled a 4\n",
      "Roll 3: You rolled a 3\n",
      "Roll 4: You rolled a 1\n",
      "Roll 5: You rolled a 3\n",
      "Roll 6: You rolled a 3\n",
      "Roll 7: You rolled a 1\n",
      "Roll 8: You rolled a 1\n",
      "Roll 9: You rolled a 6\n",
      "Congo ! You got a 6\n"
     ]
    }
   ],
   "source": [
    "import random\n",
    "\n",
    "roll = 0\n",
    "attempts = 0\n",
    "\n",
    "while roll != 6:\n",
    "    roll = random.randint(1,6)\n",
    "    attempts += 1\n",
    "    print(f\"Roll {attempts}: You rolled a {roll}\")\n",
    "print(\"Congo ! You got a 6\")"
   ]
  }
 ],
 "metadata": {
  "kernelspec": {
   "display_name": "Python 3 (ipykernel)",
   "language": "python",
   "name": "python3"
  },
  "language_info": {
   "codemirror_mode": {
    "name": "ipython",
    "version": 3
   },
   "file_extension": ".py",
   "mimetype": "text/x-python",
   "name": "python",
   "nbconvert_exporter": "python",
   "pygments_lexer": "ipython3",
   "version": "3.13.3"
  }
 },
 "nbformat": 4,
 "nbformat_minor": 5
}
