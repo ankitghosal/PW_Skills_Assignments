{
 "cells": [
  {
   "cell_type": "markdown",
   "id": "f1733db7-dec6-420f-b464-bfc459d46d50",
   "metadata": {},
   "source": [
    "## 🧠 Practical Questions"
   ]
  },
  {
   "cell_type": "markdown",
   "id": "5e507d7c-e6ee-426e-ae49-7c3b399ca623",
   "metadata": {},
   "source": [
    "#####\n",
    "### 1. Write a Python program to print \"Hello, World!\""
   ]
  },
  {
   "cell_type": "code",
   "execution_count": 1,
   "id": "9fe07c97-9484-45d2-a84e-30c7b000b3dd",
   "metadata": {},
   "outputs": [
    {
     "name": "stdout",
     "output_type": "stream",
     "text": [
      "Hello World!\n"
     ]
    }
   ],
   "source": [
    "print(\"Hello World!\")"
   ]
  },
  {
   "cell_type": "markdown",
   "id": "ed26dbd3-cca6-4aad-80cc-0113245b92b1",
   "metadata": {},
   "source": [
    "#####\n",
    "### 2. Write a Python program that displays your name and age."
   ]
  },
  {
   "cell_type": "code",
   "execution_count": 5,
   "id": "f53114a6-cace-4c35-95a0-5d49cfe1ee88",
   "metadata": {},
   "outputs": [
    {
     "name": "stdin",
     "output_type": "stream",
     "text": [
      "Write Your Full Name:  Ankit Ghosal\n",
      "Write Your Age 27\n"
     ]
    },
    {
     "name": "stdout",
     "output_type": "stream",
     "text": [
      "\n",
      "Hi Ankit Ghosal.\n",
      "your age is 27\n"
     ]
    }
   ],
   "source": [
    "name = input(\"Write Your Full Name: \")\n",
    "age = input(\"Write Your Age\")\n",
    "\n",
    "print(f\"\\nHi {name}.\\nyour age is {age}\")"
   ]
  },
  {
   "cell_type": "markdown",
   "id": "bbd49e7d-641e-4bbe-817a-ce2b41233285",
   "metadata": {},
   "source": [
    "#####\n",
    "### 3. Write code to print all the pre-defined keywords in Python using the keyword library."
   ]
  },
  {
   "cell_type": "code",
   "execution_count": 8,
   "id": "22e44eec-ceda-428e-8677-bd8e9065a5b1",
   "metadata": {},
   "outputs": [
    {
     "name": "stdout",
     "output_type": "stream",
     "text": [
      "['False', 'None', 'True', 'and', 'as', 'assert', 'async', 'await', 'break', 'class', 'continue', 'def', 'del', 'elif', 'else', 'except', 'finally', 'for', 'from', 'global', 'if', 'import', 'in', 'is', 'lambda', 'nonlocal', 'not', 'or', 'pass', 'raise', 'return', 'try', 'while', 'with', 'yield']\n"
     ]
    }
   ],
   "source": [
    "import keyword as kw\n",
    "print(kw.kwlist)"
   ]
  },
  {
   "cell_type": "markdown",
   "id": "52207c7a-add4-463f-a924-b58daa9e43bd",
   "metadata": {},
   "source": [
    "#####\n",
    "### 4. Write a program that checks if a given word is a Python keyword."
   ]
  },
  {
   "cell_type": "code",
   "execution_count": 11,
   "id": "d402a52f-903d-442f-a849-4e55f2fe1131",
   "metadata": {},
   "outputs": [
    {
     "name": "stdin",
     "output_type": "stream",
     "text": [
      "Write a word here:  name\n"
     ]
    },
    {
     "name": "stdout",
     "output_type": "stream",
     "text": [
      "This word is not among the python keywords.\n",
      "You are free to use it.\n"
     ]
    }
   ],
   "source": [
    "import keyword \n",
    "\n",
    "str = list(keyword.kwlist)\n",
    "\n",
    "word = input(\"Write a word here: \")\n",
    "\n",
    "if word in str:\n",
    "    print(\"You can not use this word as it is preassigned as a python keyword.\\nTry something else.\")\n",
    "else:\n",
    "    print(\"This word is not among the python keywords.\\nYou are free to use it.\")"
   ]
  },
  {
   "cell_type": "markdown",
   "id": "1cd11542-851f-478f-8d37-5e845b5d68da",
   "metadata": {},
   "source": [
    "#####\n",
    "### 5.  Create a list and tuple in Python, and demonstrate how attempting to change an element works differently for each."
   ]
  },
  {
   "cell_type": "code",
   "execution_count": 14,
   "id": "aa4f1767-e502-4d21-a023-5ada3c17a208",
   "metadata": {},
   "outputs": [
    {
     "name": "stdout",
     "output_type": "stream",
     "text": [
      "[1, 2, 3, 4, 10]\n"
     ]
    },
    {
     "ename": "AttributeError",
     "evalue": "'tuple' object has no attribute 'append'",
     "output_type": "error",
     "traceback": [
      "\u001b[1;31m---------------------------------------------------------------------------\u001b[0m",
      "\u001b[1;31mAttributeError\u001b[0m                            Traceback (most recent call last)",
      "Cell \u001b[1;32mIn[14], line 9\u001b[0m\n\u001b[0;32m      6\u001b[0m \u001b[38;5;28mprint\u001b[39m(my_list)\n\u001b[0;32m      8\u001b[0m \u001b[38;5;66;03m# using .append() in tuple to add 10 in the tuple\u001b[39;00m\n\u001b[1;32m----> 9\u001b[0m \u001b[43mmy_tuple\u001b[49m\u001b[38;5;241;43m.\u001b[39;49m\u001b[43mappend\u001b[49m(\u001b[38;5;241m10\u001b[39m)\n\u001b[0;32m     10\u001b[0m \u001b[38;5;28mprint\u001b[39m(my_tuple)\n",
      "\u001b[1;31mAttributeError\u001b[0m: 'tuple' object has no attribute 'append'"
     ]
    }
   ],
   "source": [
    "my_list = [1,2,3,4]\n",
    "my_tuple = (5,6,7,8)\n",
    "\n",
    "# using .append() in list to add 10 in the list\n",
    "my_list.append(10)\n",
    "print(my_list)\n",
    "\n",
    "# using .append() in tuple to add 10 in the tuple\n",
    "my_tuple.append(10)\n",
    "print(my_tuple)"
   ]
  },
  {
   "cell_type": "markdown",
   "id": "17b8ea22-306c-4a48-b806-19f1b5e35a8b",
   "metadata": {},
   "source": [
    "#####\n",
    "### 6. Write a function to demonstrate the behavior of mutable and immutable arguments"
   ]
  },
  {
   "cell_type": "code",
   "execution_count": 28,
   "id": "0e8d6aea-82dc-4532-b1f3-6b6f190d5b5b",
   "metadata": {},
   "outputs": [
    {
     "name": "stdout",
     "output_type": "stream",
     "text": [
      "Before modification:  [1, 2, 3, 4]\n",
      "After append:  [1, 2, 3, 4, 100]\n",
      "After insertion:  [1, 2, 3, 4, 55, 100]\n",
      "After popping 3 from the list:  [1, 2, 3, 55, 100]\n",
      "\n",
      "\n",
      "Before modification:  7\n",
      "After addition:  17\n",
      "\n",
      "value of number2 outside the function:  7\n"
     ]
    }
   ],
   "source": [
    "# Mutable function:\n",
    "def mutable_func(my_list):\n",
    "    print('Before modification: ', my_list)\n",
    "    my_list.append(100)\n",
    "    print('After append: ',  my_list)\n",
    "    my_list.insert(4, 55) # 4th index, element=55\n",
    "    print('After insertion: ', my_list)\n",
    "    my_list.pop(3)\n",
    "    print('After popping 3 from the list: ', my_list)\n",
    "    \n",
    "# Original list\n",
    "number1 = [1,2,3,4]\n",
    "\n",
    "# Passing function:\n",
    "mutable_func(number1)\n",
    "\n",
    "# Immutable argument:\n",
    "def  immutable_func(num):\n",
    "    print('\\n\\nBefore modification: ', num)\n",
    "    num += 10\n",
    "    print('After addition: ', num)\n",
    "\n",
    "# Original integer\n",
    "number2 = 7\n",
    "# Calling the function:\n",
    "immutable_func(number2)\n",
    "# Checking current value of number2 after function call:\n",
    "print('\\nvalue of number2 outside the function: ', number2) # thus int is Immutable"
   ]
  },
  {
   "cell_type": "markdown",
   "id": "939bb922-e2bf-4d96-b471-6fc7b7aed495",
   "metadata": {},
   "source": [
    "#####\n",
    "### 7.  Write a program that performs basic arithmetic operations on two user-input numbers."
   ]
  },
  {
   "cell_type": "code",
   "execution_count": 34,
   "id": "2b4e5573-f0f4-4333-9005-bc0e9a512eb2",
   "metadata": {},
   "outputs": [
    {
     "name": "stdin",
     "output_type": "stream",
     "text": [
      "Write one  Number:  57\n",
      "Write another  Number:  39\n"
     ]
    },
    {
     "name": "stdout",
     "output_type": "stream",
     "text": [
      "\n",
      "After Adding both numbers we are getting:\n",
      "57 + 39 =  96\n",
      "After Subtracting both numbers we are getting:\n",
      "57 - 39 =  18\n",
      "After Multiplying both numbers we are getting:\n",
      "57 X 39 =  2223\n",
      "After Dividing botth numbers we are getting:\n",
      "57 ÷ 39 =  1.4615384615384615\n"
     ]
    }
   ],
   "source": [
    "def arithmetic_op(num1, num2):\n",
    "    sum  = num1 + num2\n",
    "    print(f'\\nAfter Adding both numbers we are getting:\\n{num1} + {num2} = ', sum)\n",
    "    minus = num1 - num2\n",
    "    print(f'After Subtracting both numbers we are getting:\\n{num1} - {num2} = ', minus)\n",
    "    multi  = num1 * num2\n",
    "    print(f'After Multiplying both numbers we are getting:\\n{num1} X {num2} = ', multi)\n",
    "    div = num1/num2\n",
    "    print(f'After Dividing botth numbers we are getting:\\n{num1} ÷ {num2} = ', div)\n",
    "\n",
    "\n",
    "\n",
    "int1 = int(input(\"Write one  Number: \"))\n",
    "int2 = int(input(\"Write another  Number: \"))\n",
    "\n",
    "# calling func:\n",
    "arithmetic_op(int1, int2)"
   ]
  },
  {
   "cell_type": "markdown",
   "id": "e43c0c7d-7cd1-4b93-b39b-39914166de6d",
   "metadata": {},
   "source": [
    "#####\n",
    "### 8. Write a program to demonstrate the use of logical operators"
   ]
  },
  {
   "cell_type": "code",
   "execution_count": 41,
   "id": "d7e0fab8-07d7-441d-804f-21ba83d79d93",
   "metadata": {},
   "outputs": [
    {
     "name": "stdin",
     "output_type": "stream",
     "text": [
      "Write your age:  27\n",
      "Do you possess a driving license ? (yes/no)  yES\n"
     ]
    },
    {
     "name": "stdout",
     "output_type": "stream",
     "text": [
      "You are allowed to drive.\n"
     ]
    },
    {
     "name": "stdin",
     "output_type": "stream",
     "text": [
      "Are you a student ? (yes/no)  YEs\n"
     ]
    },
    {
     "name": "stdout",
     "output_type": "stream",
     "text": [
      "You are eligible for a special discount.\n"
     ]
    },
    {
     "name": "stdin",
     "output_type": "stream",
     "text": [
      "To get the special discount you need to subscribe to our course\n",
      "\n",
      "Do you want to take the course ? (yes/no)  nO\n"
     ]
    },
    {
     "name": "stdout",
     "output_type": "stream",
     "text": [
      "I think you should consider it once.\n"
     ]
    }
   ],
   "source": [
    "# first check license then check if he is student, then check if he is a smoker\n",
    "\n",
    "age = int(input('Write your age: '))\n",
    "license = input('Do you possess a driving license ? (yes/no) ').lower()\n",
    "\n",
    "# AND operator:\n",
    "if age >= 20 and license == 'yes':\n",
    "    print('You are allowed to drive.')\n",
    "else:\n",
    "    print('You can not drive.')\n",
    "\n",
    "\n",
    "# OR operator:\n",
    "student = input('Are you a student ? (yes/no) ').lower()\n",
    "\n",
    "if age <= 18 or student == 'yes':\n",
    "    print('You are eligible for a special discount.')\n",
    "else:\n",
    "    print(\"Sorry! you aren't eligible the discount\")\n",
    "\n",
    "\n",
    "# NOT operator:\n",
    "course = input('''To get the special discount you need to subscribe to our course\\n\n",
    "Do you want to take the course ? (yes/no) ''').lower() == 'yes'\n",
    "\n",
    "if not course:\n",
    "    print('I think you should consider it once.')\n",
    "else:\n",
    "    print('Thanks for taking our course. Hope you have a great day ahead.')"
   ]
  },
  {
   "cell_type": "markdown",
   "id": "086680e0-c4d0-4ac6-8a18-508624404b76",
   "metadata": {},
   "source": [
    "#####\n",
    "### 9.  Write a Python program to convert user input from string to integer, float, and boolean types."
   ]
  },
  {
   "cell_type": "code",
   "execution_count": 46,
   "id": "162467de-2a60-4af6-aefd-ed2d09b9c566",
   "metadata": {},
   "outputs": [
    {
     "name": "stdin",
     "output_type": "stream",
     "text": [
      "Write any proper number:  567\n"
     ]
    },
    {
     "name": "stdout",
     "output_type": "stream",
     "text": [
      "\n",
      "Converting 567 into an integer:  567\n",
      "Converting 567 into a float:  567.0\n",
      "Boolean Value: True\n"
     ]
    }
   ],
   "source": [
    "num = input('Write any proper number: ')\n",
    "\n",
    "int1 = int(num)\n",
    "print(f'\\nConverting {num} into an integer: ', int1)\n",
    "float1 = float(num)\n",
    "print(f'Converting {num} into a float: ', float1)\n",
    "\n",
    "# any non-emty string except 'False', '0', 'None' will be considered as 'True' rest 'False'\n",
    "bool1 = num.lower() not in ('', 'flase', '0', 'none')\n",
    "print(f'Boolean Value: {bool1}')"
   ]
  },
  {
   "cell_type": "markdown",
   "id": "a8423b7b-8543-4821-9a9a-0421843bfcae",
   "metadata": {},
   "source": [
    "#####\n",
    "### 10. Write code to demonstrate type casting with list elements."
   ]
  },
  {
   "cell_type": "code",
   "execution_count": 65,
   "id": "d8dcb99f-96b4-498e-b2e4-d0fd6930b2f5",
   "metadata": {},
   "outputs": [
    {
     "name": "stdout",
     "output_type": "stream",
     "text": [
      "Original  list:  ['10', '25', '39']\n",
      "\n",
      "After converting to integer:  [10, 25, 39]\n",
      "After converting to float:  [10.0, 25.0, 39.0]\n",
      "After converting to bool:  [True, True, True]\n"
     ]
    }
   ],
   "source": [
    "# A list of strings:\n",
    "my_list = ['10', '25', '39']\n",
    "\n",
    "print('Original  list: ', my_list)\n",
    "\n",
    "# convert to int\n",
    "int_list= []\n",
    "for item in my_list:\n",
    "    int_list.append(int(item))\n",
    "\n",
    "print('\\nAfter converting to integer: ', int_list)\n",
    "\n",
    "# Convert to float:\n",
    "float_list = []\n",
    "for item in  my_list:\n",
    "    float_list.append(float(item))\n",
    "\n",
    "print('After converting to float: ', float_list)\n",
    "\n",
    "#  Convert to bool\n",
    "bool_list = []\n",
    "for item in my_list:\n",
    "    bool_list.append(bool(item))\n",
    "\n",
    "print('After converting to bool: ', bool_list)"
   ]
  },
  {
   "cell_type": "markdown",
   "id": "618827da-e465-4fb5-9bf9-c65f6e4a1443",
   "metadata": {},
   "source": [
    "#####\n",
    "### 11. Write a program that checks if a number is positive, negative, or zero"
   ]
  },
  {
   "cell_type": "code",
   "execution_count": 67,
   "id": "20e845e3-60ad-4e07-9e27-b54378d3ca20",
   "metadata": {},
   "outputs": [
    {
     "name": "stdin",
     "output_type": "stream",
     "text": [
      "Write a number:  0\n"
     ]
    },
    {
     "name": "stdout",
     "output_type": "stream",
     "text": [
      "The number is 'Zero'.\n"
     ]
    }
   ],
   "source": [
    "num = int(input('Write a number: '))\n",
    "\n",
    "if num > 0:\n",
    "    print(\"The number is 'Positive'.\")\n",
    "elif num < 0:\n",
    "    print(\"The number is 'Negative'.\")\n",
    "else:\n",
    "    print(\"The number is 'Zero'.\")"
   ]
  },
  {
   "cell_type": "markdown",
   "id": "62344566-a64f-44b7-ade2-4017e757bd88",
   "metadata": {},
   "source": [
    "#####\n",
    "### 12. Write a for loop to print numbers from 1 to 10"
   ]
  },
  {
   "cell_type": "code",
   "execution_count": 70,
   "id": "16c2fde0-c9f9-43f4-a55b-150c95132ffb",
   "metadata": {},
   "outputs": [
    {
     "name": "stdout",
     "output_type": "stream",
     "text": [
      "1 2 3 4 5 6 7 8 9 10 "
     ]
    }
   ],
   "source": [
    "for i in range(1,11):\n",
    "    print(i, end=' ')"
   ]
  },
  {
   "cell_type": "markdown",
   "id": "a6bf04e3-cef9-4c55-84c9-c6849051db00",
   "metadata": {},
   "source": [
    "#####\n",
    "###  13. Write a Python program to find the sum of all even numbers between 1 and 50"
   ]
  },
  {
   "cell_type": "code",
   "execution_count": 73,
   "id": "04be1275-d0a6-4a11-878b-3b5b38f06b94",
   "metadata": {},
   "outputs": [
    {
     "name": "stdout",
     "output_type": "stream",
     "text": [
      "650\n"
     ]
    }
   ],
   "source": [
    "i = 2\n",
    "sum = 0\n",
    "\n",
    "while (i<51):\n",
    "    sum += i\n",
    "    i += 2\n",
    "print(sum)\n",
    "    "
   ]
  },
  {
   "cell_type": "code",
   "execution_count": 77,
   "id": "8db47964-c228-40ed-a89d-6c1a474e8baf",
   "metadata": {},
   "outputs": [
    {
     "name": "stdout",
     "output_type": "stream",
     "text": [
      "650\n"
     ]
    }
   ],
   "source": [
    "sum = 0\n",
    "for i in range(1,51):\n",
    "    if i % 2 == 0:\n",
    "        sum  += i\n",
    "print(sum)"
   ]
  },
  {
   "cell_type": "markdown",
   "id": "11377841-04f5-46c2-84d7-982edd37f8a7",
   "metadata": {},
   "source": [
    "#####\n",
    "### 14. Write a program to reverse a string using a while loop."
   ]
  },
  {
   "cell_type": "code",
   "execution_count": 80,
   "id": "32959a45-f2de-47c3-a505-3a0480e4f004",
   "metadata": {},
   "outputs": [
    {
     "name": "stdout",
     "output_type": "stream",
     "text": [
      "tebahplA\n"
     ]
    }
   ],
   "source": [
    "original_string = \"Alphabet\"\n",
    "\n",
    "reverse_string = \"\"\n",
    "\n",
    "index = len(original_string) - 1\n",
    "while index >= 0:\n",
    "    reverse_string += original_string[index]\n",
    "    index -= 1\n",
    "\n",
    "print(reverse_string)"
   ]
  },
  {
   "cell_type": "markdown",
   "id": "103d2443-954c-4a40-ae71-91d758f85ae5",
   "metadata": {},
   "source": [
    "#####\n",
    "### 15.  Write a Python program to calculate the factorial of a number provided by the user using a while loop."
   ]
  },
  {
   "cell_type": "code",
   "execution_count": 89,
   "id": "38efc252-7991-4dfa-b1e3-4b5d1e544f70",
   "metadata": {},
   "outputs": [
    {
     "name": "stdin",
     "output_type": "stream",
     "text": [
      "Write a number:  5\n"
     ]
    },
    {
     "name": "stdout",
     "output_type": "stream",
     "text": [
      "The factorial of 5 is: 120\n"
     ]
    }
   ],
   "source": [
    "num = int(input('Write a number: '))\n",
    "\n",
    "i = 1\n",
    "product = 1\n",
    "\n",
    "while (i <=num):\n",
    "    product *= i\n",
    "    i+= 1\n",
    "print(f'The factorial of {num} is: {product}')\n"
   ]
  }
 ],
 "metadata": {
  "kernelspec": {
   "display_name": "Python 3 (ipykernel)",
   "language": "python",
   "name": "python3"
  },
  "language_info": {
   "codemirror_mode": {
    "name": "ipython",
    "version": 3
   },
   "file_extension": ".py",
   "mimetype": "text/x-python",
   "name": "python",
   "nbconvert_exporter": "python",
   "pygments_lexer": "ipython3",
   "version": "3.13.3"
  }
 },
 "nbformat": 4,
 "nbformat_minor": 5
}
