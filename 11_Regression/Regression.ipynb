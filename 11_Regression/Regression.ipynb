{
 "cells": [
  {
   "cell_type": "markdown",
   "id": "b3e666d7-7abc-4a97-bca7-c600e55ceb8b",
   "metadata": {},
   "source": [
    "## Regression"
   ]
  },
  {
   "cell_type": "markdown",
   "id": "822a20f2-bad2-40b7-ba7e-30540432d9d6",
   "metadata": {},
   "source": [
    "##\n",
    "### Question 1: What is Simple Linear Regression?\n"
   ]
  },
  {
   "cell_type": "markdown",
   "id": "db6b0f5b-7158-4b07-9c7c-47a4e7f65281",
   "metadata": {},
   "source": [
    "**Simple Linear Regression** is a statistical technique used to model the relationship between two continuous variables — one **independent variable (X)** and one **dependent variable (Y)**. It assumes a linear relationship of the form:<br>\n",
    "[\n",
    "Y = β₀ + β₁X + ε\n",
    "]\n",
    "where:\n",
    "\n",
    "* ( β₀ ) = intercept,\n",
    "* ( β₁ ) = slope,\n",
    "* ( ε ) = error term.\n",
    "  It helps predict the value of Y based on a given value of X.\n"
   ]
  },
  {
   "cell_type": "markdown",
   "id": "48f30027-9382-4832-95d1-ba2f3f39dd06",
   "metadata": {},
   "source": [
    "##\n",
    "### Question 2: What are the key assumptions of Simple Linear Regression?"
   ]
  },
  {
   "cell_type": "markdown",
   "id": "591230ba-94b5-44a6-a738-5922239152f8",
   "metadata": {},
   "source": [
    "1. **Linearity** – The relationship between X and Y is linear.\n",
    "2. **Independence** – Observations are independent of each other.\n",
    "3. **Homoscedasticity** – Constant variance of residuals across all levels of X.\n",
    "4. **Normality** – Residuals are normally distributed.\n",
    "5. **No multicollinearity** – (only relevant when multiple predictors are used).\n"
   ]
  },
  {
   "cell_type": "markdown",
   "id": "53977a75-48f0-44b1-832c-e0bc6a92d8df",
   "metadata": {},
   "source": [
    "##\n",
    "### Question 3: What is heteroscedasticity, and why is it important to address in regression models?\n"
   ]
  },
  {
   "cell_type": "markdown",
   "id": "04e08299-573d-46f2-93b2-dd3caf314c98",
   "metadata": {},
   "source": [
    "**Heteroscedasticity** occurs when the **variance of residuals is not constant** across all levels of the independent variable(s).\n",
    "It violates the homoscedasticity assumption of regression and leads to:\n",
    "\n",
    "* **Inefficient estimates** of coefficients.\n",
    "* **Inaccurate standard errors**, making hypothesis tests unreliable.\n",
    "  Addressing it ensures valid statistical inference and model reliability.\n"
   ]
  },
  {
   "cell_type": "markdown",
   "id": "65f0bb07-c90b-4c71-8580-48205874df5f",
   "metadata": {},
   "source": [
    "##\n",
    "### Question 4: What is Multiple Linear Regression?"
   ]
  },
  {
   "cell_type": "markdown",
   "id": "37303811-bfa8-457d-bc5e-dfa475590a6d",
   "metadata": {},
   "source": [
    "**Multiple Linear Regression (MLR)** models the relationship between one dependent variable (Y) and **two or more independent variables** (X₁, X₂, …, Xₙ).\n",
    "The general form is:<br><br>\n",
    "[\n",
    "Y = β₀ + β₁X₁ + β₂X₂ + ... + βₙXₙ + ε\n",
    "]<br><br>\n",
    "It helps assess how multiple factors collectively influence a single outcome.\n"
   ]
  },
  {
   "cell_type": "markdown",
   "id": "b143ae3d-8ae9-484c-a4d4-29d47ed7273a",
   "metadata": {},
   "source": [
    "##\n",
    "### Question 5: What is polynomial regression, and how does it differ from linear regression?\n"
   ]
  },
  {
   "cell_type": "markdown",
   "id": "b787d5d4-3360-400e-8a62-b55b632cda28",
   "metadata": {},
   "source": [
    "**Polynomial Regression** models the relationship between X and Y using **higher-degree terms of X** (e.g., X², X³) to capture curvature.\n",
    "It differs from simple linear regression, which assumes a **straight-line relationship**.\n",
    "Example:<br><br>\n",
    "[\n",
    "Y = β₀ + β₁X + β₂X² + ε\n",
    "]<br><br>\n",
    "Polynomial regression can model **non-linear relationships** between variables.\n"
   ]
  },
  {
   "cell_type": "markdown",
   "id": "dd4ce984-5674-47ec-8b82-8a5fc2694581",
   "metadata": {},
   "source": [
    "##\n",
    "### Question 6: Implement a Python program to fit a Simple Linear Regression model to the following sample data:\n",
    "* X = [1, 2, 3, 4, 5]\n",
    "* Y = [2.1, 4.3, 6.1, 7.9, 10.2]\n",
    "#### Plot the regression line over the data points.\n"
   ]
  },
  {
   "cell_type": "code",
   "execution_count": 5,
   "id": "c167ab90-56e7-46ea-a2c5-c6c14ef0c2c7",
   "metadata": {},
   "outputs": [
    {
     "data": {
      "image/png": "[encoded data removed]",
      "text/plain": [
       "<Figure size 640x480 with 1 Axes>"
      ]
     },
     "metadata": {},
     "output_type": "display_data"
    },
    {
     "name": "stdout",
     "output_type": "stream",
     "text": [
      "Coefficient: 1.9800000000000004\n",
      "Intercept: 0.17999999999999794\n"
     ]
    }
   ],
   "source": [
    "import numpy as np\n",
    "import matplotlib.pyplot as plt\n",
    "from sklearn.linear_model import LinearRegression\n",
    "\n",
    "# Data\n",
    "X = np.array([1, 2, 3, 4, 5]).reshape(-1, 1)\n",
    "Y = np.array([2.1, 4.3, 6.1, 7.9, 10.2])\n",
    "\n",
    "# Model fitting\n",
    "model = LinearRegression()\n",
    "model.fit(X, Y)\n",
    "\n",
    "# Predictions\n",
    "Y_pred = model.predict(X)\n",
    "\n",
    "# Plot\n",
    "plt.scatter(X, Y, color='blue', label='Data Points')\n",
    "plt.plot(X, Y_pred, color='red', label='Regression Line')\n",
    "plt.title(\"Simple Linear Regression\")\n",
    "plt.xlabel(\"X\")\n",
    "plt.ylabel(\"Y\")\n",
    "plt.legend()\n",
    "plt.show()\n",
    "\n",
    "print(\"Coefficient:\", model.coef_[0])\n",
    "print(\"Intercept:\", model.intercept_)"
   ]
  },
  {
   "cell_type": "markdown",
   "id": "7f64f5dd-c528-41f6-98e3-f6fe53b20354",
   "metadata": {},
   "source": [
    "##\n",
    "### Question 7: Fit a Multiple Linear Regression model on this sample data:\n",
    "* Area = [1200, 1500, 1800, 2000]\n",
    "* Rooms = [2, 3, 3, 4]\n",
    "* Price = [250000, 300000, 320000, 370000]\n",
    "#### Check for multicollinearity using VIF and report the results.\n"
   ]
  },
  {
   "cell_type": "code",
   "execution_count": 9,
   "id": "4f06e689-8fbe-4be6-a9cd-980c92acda35",
   "metadata": {},
   "outputs": [
    {
     "name": "stdout",
     "output_type": "stream",
     "text": [
      "                            OLS Regression Results                            \n",
      "==============================================================================\n",
      "Dep. Variable:                  Price   R-squared:                       0.999\n",
      "Model:                            OLS   Adj. R-squared:                  0.996\n",
      "Method:                 Least Squares   F-statistic:                     351.0\n",
      "Date:                Fri, 17 Oct 2025   Prob (F-statistic):             0.0377\n",
      "Time:                        16:36:30   Log-Likelihood:                -35.242\n",
      "No. Observations:                   4   AIC:                             76.48\n",
      "Df Residuals:                       1   BIC:                             74.64\n",
      "Df Model:                           2                                         \n",
      "Covariance Type:            nonrobust                                         \n",
      "==============================================================================\n",
      "                 coef    std err          t      P>|t|      [0.025      0.975]\n",
      "------------------------------------------------------------------------------\n",
      "const       1.032e+05   9488.293     10.872      0.058   -1.74e+04    2.24e+05\n",
      "Area          63.1579     14.886      4.243      0.147    -125.992     252.308\n",
      "Rooms       3.474e+04   6381.240      5.444      0.116   -4.63e+04    1.16e+05\n",
      "==============================================================================\n",
      "Omnibus:                          nan   Durbin-Watson:                   2.053\n",
      "Prob(Omnibus):                    nan   Jarque-Bera (JB):                0.554\n",
      "Skew:                          -0.154   Prob(JB):                        0.758\n",
      "Kurtosis:                       1.202   Cond. No.                     1.01e+04\n",
      "==============================================================================\n",
      "\n",
      "Notes:\n",
      "[1] Standard Errors assume that the covariance matrix of the errors is correctly specified.\n",
      "[2] The condition number is large, 1.01e+04. This might indicate that there are\n",
      "strong multicollinearity or other numerical problems.\n",
      "\n",
      "Variance Inflation Factor:\n",
      "   Feature        VIF\n",
      "0   const  34.210526\n",
      "1    Area   7.736842\n",
      "2   Rooms   7.736842\n"
     ]
    },
    {
     "name": "stderr",
     "output_type": "stream",
     "text": [
      "C:\\Users\\Ankit Ghosal\\AppData\\Local\\Programs\\Python\\Python313\\Lib\\site-packages\\statsmodels\\stats\\stattools.py:74: ValueWarning: omni_normtest is not valid with less than 8 observations; 4 samples were given.\n",
      "  warn(\"omni_normtest is not valid with less than 8 observations; %i \"\n"
     ]
    }
   ],
   "source": [
    "import pandas as pd\n",
    "import statsmodels.api as sm\n",
    "from statsmodels.stats.outliers_influence import variance_inflation_factor\n",
    "\n",
    "# Data\n",
    "data = pd.DataFrame({\n",
    "    'Area': [1200, 1500, 1800, 2000],\n",
    "    'Rooms': [2, 3, 3, 4],\n",
    "    'Price': [250000, 300000, 320000, 370000]\n",
    "})\n",
    "\n",
    "X = data[['Area', 'Rooms']]\n",
    "y = data['Price']\n",
    "\n",
    "# Add constant for intercept\n",
    "X_const = sm.add_constant(X)\n",
    "model = sm.OLS(y, X_const).fit()\n",
    "\n",
    "# Calculate VIF\n",
    "vif_data = pd.DataFrame()\n",
    "vif_data['Feature'] = X_const.columns\n",
    "vif_data['VIF'] = [variance_inflation_factor(X_const.values, i)\n",
    "                   for i in range(X_const.shape[1])]\n",
    "\n",
    "print(model.summary())\n",
    "print(\"\\nVariance Inflation Factor:\\n\", vif_data)\n"
   ]
  },
  {
   "cell_type": "markdown",
   "id": "a2ec8ba7-ecbc-499d-b067-3ac747875b07",
   "metadata": {},
   "source": [
    "✅ **Interpretation:**\n",
    "\n",
    "* **High VIF (>5)** indicates **multicollinearity** between predictors.\n",
    "* If VIF values are low, the model is stable."
   ]
  },
  {
   "cell_type": "markdown",
   "id": "a6aa775c-6c5b-4e87-a552-8a99d5e65d33",
   "metadata": {},
   "source": [
    "##\n",
    "### Question 8: Implement polynomial regression on the following data:\n",
    "* X = [1, 2, 3, 4, 5]\n",
    "* Y = [2.2, 4.8, 7.5, 11.2, 14.7]\n",
    "#### Fit a 2nd-degree polynomial and plot the resulting curve"
   ]
  },
  {
   "cell_type": "code",
   "execution_count": 10,
   "id": "f39f92e9-10cb-4c4a-917c-377e2ed23293",
   "metadata": {},
   "outputs": [
    {
     "data": {
      "image/png": "[encoded data removed]",
      "text/plain": [
       "<Figure size 640x480 with 1 Axes>"
      ]
     },
     "metadata": {},
     "output_type": "display_data"
    }
   ],
   "source": [
    "from sklearn.preprocessing import PolynomialFeatures\n",
    "from sklearn.linear_model import LinearRegression\n",
    "\n",
    "# Data\n",
    "X = np.array([1, 2, 3, 4, 5]).reshape(-1, 1)\n",
    "Y = np.array([2.2, 4.8, 7.5, 11.2, 14.7])\n",
    "\n",
    "# Transform to polynomial features\n",
    "poly = PolynomialFeatures(degree=2)\n",
    "X_poly = poly.fit_transform(X)\n",
    "\n",
    "# Fit model\n",
    "model = LinearRegression()\n",
    "model.fit(X_poly, Y)\n",
    "Y_pred = model.predict(X_poly)\n",
    "\n",
    "# Plot\n",
    "plt.scatter(X, Y, color='blue')\n",
    "plt.plot(X, Y_pred, color='red')\n",
    "plt.title(\"Polynomial Regression (Degree 2)\")\n",
    "plt.xlabel(\"X\")\n",
    "plt.ylabel(\"Y\")\n",
    "plt.show()"
   ]
  },
  {
   "cell_type": "markdown",
   "id": "0f137cbf-13ba-473f-9e10-7c7d2ecd2d49",
   "metadata": {},
   "source": [
    "##\n",
    "### Question 9: Create a residuals plot for a regression model trained on this data:\n",
    "* X = [10, 20, 30, 40, 50]\n",
    "* Y = [15, 35, 40, 50, 65]\n",
    "#### Assess heteroscedasticity by examining the spread of residuals.\n"
   ]
  },
  {
   "cell_type": "code",
   "execution_count": 11,
   "id": "038ec089-4534-4836-83c7-f9304f38efb4",
   "metadata": {},
   "outputs": [
    {
     "data": {
      "image/png": "[encoded data removed]",
      "text/plain": [
       "<Figure size 640x480 with 1 Axes>"
      ]
     },
     "metadata": {},
     "output_type": "display_data"
    }
   ],
   "source": [
    "# Data\n",
    "X = np.array([10, 20, 30, 40, 50]).reshape(-1, 1)\n",
    "Y = np.array([15, 35, 40, 50, 65])\n",
    "\n",
    "# Model\n",
    "model = LinearRegression()\n",
    "model.fit(X, Y)\n",
    "Y_pred = model.predict(X)\n",
    "residuals = Y - Y_pred\n",
    "\n",
    "# Residual plot\n",
    "plt.scatter(X, residuals, color='purple')\n",
    "plt.axhline(y=0, color='black', linestyle='--')\n",
    "plt.title(\"Residual Plot\")\n",
    "plt.xlabel(\"X\")\n",
    "plt.ylabel(\"Residuals\")\n",
    "plt.show()\n",
    "\n"
   ]
  },
  {
   "cell_type": "markdown",
   "id": "cf75944c-6864-4f7e-a5e8-96fc8042995e",
   "metadata": {},
   "source": [
    "\n",
    "\n",
    "✅ **Interpretation:**\n",
    "\n",
    "* If residuals are **randomly scattered**, variance is constant (no heteroscedasticity).\n",
    "* If residuals **spread out**, heteroscedasticity exists."
   ]
  },
  {
   "cell_type": "markdown",
   "id": "24e567b2-840b-4d96-bf74-62c51b882661",
   "metadata": {},
   "source": [
    "##\n",
    "### Question 10: Imagine you are a data scientist working for a real estate company. You need to predict house prices using features like area, number of rooms, and location. However, you detect heteroscedasticity and multicollinearity in your regression model. Explain the steps you would take to address these issues and ensure a robust model."
   ]
  },
  {
   "cell_type": "markdown",
   "id": "99f4f5c9-2990-43db-98e9-f0bfda2d81b3",
   "metadata": {},
   "source": [
    "To ensure a robust regression model:\n",
    "\n",
    "**For Heteroscedasticity:**\n",
    "\n",
    "* Use **log or Box-Cox transformations** on the dependent variable.\n",
    "* Apply **Weighted Least Squares (WLS)** to handle unequal variance.\n",
    "* Use **robust standard errors** to adjust variance estimates.\n",
    "\n",
    "**For Multicollinearity:**\n",
    "\n",
    "* Examine **VIF values** and remove or combine highly correlated predictors.\n",
    "* Use **Principal Component Analysis (PCA)** or **Regularization methods** like **Ridge or Lasso Regression**.\n",
    "* Collect more data or transform variables if feasible."
   ]
  }
 ],
 "metadata": {
  "kernelspec": {
   "display_name": "Python 3 (ipykernel)",
   "language": "python",
   "name": "python3"
  },
  "language_info": {
   "codemirror_mode": {
    "name": "ipython",
    "version": 3
   },
   "file_extension": ".py",
   "mimetype": "text/x-python",
   "name": "python",
   "nbconvert_exporter": "python",
   "pygments_lexer": "ipython3",
   "version": "3.13.3"
  }
 },
 "nbformat": 4,
 "nbformat_minor": 5
}
