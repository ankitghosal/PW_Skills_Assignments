{
 "cells": [
  {
   "cell_type": "markdown",
   "id": "8f511221-477d-4f64-b59a-aab8da557292",
   "metadata": {},
   "source": [
    "# Boosting Techniques"
   ]
  },
  {
   "cell_type": "markdown",
   "id": "40ed0aa1-b2fa-47f9-850b-e5e80df2ea94",
   "metadata": {},
   "source": [
    "##\n",
    "### Question 1: What is Boosting in Machine Learning? Explain how it improves weak learners."
   ]
  },
  {
   "cell_type": "markdown",
   "id": "6dfa021e-6871-4aa7-a8e7-9d4b72081767",
   "metadata": {},
   "source": [
    "**Boosting** is an **ensemble learning technique** that combines multiple **weak learners** (typically shallow decision trees) sequentially to form a **strong predictive model**.\n",
    "\n",
    "Each new learner focuses on the **errors (misclassified samples)** made by previous ones, assigning **higher weights** to those difficult cases. Over iterations, the model reduces both **bias and variance**, improving overall accuracy and robustness.\n",
    "\n",
    "✅ **In essence:** Boosting converts weak models into a strong one by **iteratively learning from mistakes** and refining predictions.\n"
   ]
  },
  {
   "cell_type": "markdown",
   "id": "ddd994aa-1028-43d1-932b-a2269101dd20",
   "metadata": {},
   "source": [
    "##\n",
    "### Question 2: What is the difference between AdaBoost and Gradient Boosting in terms of how models are trained?\n"
   ]
  },
  {
   "cell_type": "markdown",
   "id": "8d116f84-d970-42dc-9354-79b67381808b",
   "metadata": {},
   "source": [
    "| **Aspect**                  | **AdaBoost (Adaptive Boosting)**                                                             | **Gradient Boosting**                                                                     |\n",
    "| --------------------------- | -------------------------------------------------------------------------------------------- | ----------------------------------------------------------------------------------------- |\n",
    "| **Training Approach**       | Adjusts **sample weights** — misclassified samples get higher weights in the next iteration. | Fits new models to **residual errors** (differences between actual and predicted values). |\n",
    "| **Error Handling**          | Focuses on **misclassified points** by reweighting.                                          | Minimizes a **loss function** (e.g., MSE, log loss) using **gradient descent**.           |\n",
    "| **Combination of Learners** | Weighted majority vote (classification) or weighted sum (regression).                        | Additive model where each learner **corrects previous residuals**.                        |\n",
    "| **Sensitivity to Outliers** | More sensitive due to weight amplification.                                                  | Less sensitive, as gradient updates are smoother.                                         |\n"
   ]
  },
  {
   "cell_type": "markdown",
   "id": "fd11eb59-383e-4b96-b4bc-5d7fdb691b78",
   "metadata": {},
   "source": [
    "##\n",
    "### Question 3: How does regularization help in XGBoost?"
   ]
  },
  {
   "cell_type": "markdown",
   "id": "c30c9563-72ca-451c-a1e6-789a32aaba9b",
   "metadata": {},
   "source": [
    "In **XGBoost**, **regularization** helps prevent **overfitting** by controlling model complexity through penalties on large coefficients or overly complex trees.\n",
    "\n",
    "* **L1 regularization (α):** Adds a penalty proportional to the absolute value of leaf weights, promoting **sparsity** (fewer active features).\n",
    "* **L2 regularization (λ):** Adds a penalty proportional to the square of leaf weights, preventing **large weight values** and improving **stability**.\n",
    "* Together, they ensure the model remains **simpler, more generalizable, and less prone to noise** in the training data.\n"
   ]
  },
  {
   "cell_type": "markdown",
   "id": "fc53786a-8155-472c-9541-dbdb8658af22",
   "metadata": {},
   "source": [
    "##\n",
    "### Question 4: Why is CatBoost considered efficient for handling categorical data?\n"
   ]
  },
  {
   "cell_type": "markdown",
   "id": "99bd05fd-7985-4f0b-a275-6b495df6c30e",
   "metadata": {},
   "source": [
    "**CatBoost** is efficient for handling categorical data because it uses **ordered encoding** and **target-based statistics** instead of traditional one-hot encoding.\n",
    "\n",
    "* It automatically converts categorical features into numerical values using **target statistics** while avoiding **data leakage**.\n",
    "* Handles **high-cardinality features** effectively without exploding feature space.\n",
    "* Reduces preprocessing effort and improves **training speed and accuracy** on datasets with many categorical variables.\n",
    "\n",
    "✅ **In short:** CatBoost natively manages categorical data, eliminating manual encoding and maintaining model efficiency.\n"
   ]
  },
  {
   "cell_type": "markdown",
   "id": "6918cfb2-fd6d-4e24-9519-2ef77f7cdaed",
   "metadata": {},
   "source": [
    "##\n",
    "### Question 5: What are some real-world applications where boosting techniques are preferred over bagging methods?\n"
   ]
  },
  {
   "cell_type": "markdown",
   "id": "f43463b0-75b4-4f81-9996-c70bf0d48b89",
   "metadata": {},
   "source": [
    "Boosting techniques are preferred over bagging in scenarios requiring **high accuracy** and **complex pattern detection**, especially when reducing **bias** is critical.\n",
    "\n",
    "**Common real-world applications include:**\n",
    "\n",
    "* 🏦 **Credit scoring & loan default prediction** — capturing subtle risk patterns in financial data.\n",
    "* 🏥 **Medical diagnosis** — improving precision in disease prediction.\n",
    "* 🛒 **Customer churn & fraud detection** — identifying rare or complex behavioral patterns.\n",
    "* 📈 **Click-through rate (CTR) prediction** — used in ad targeting and recommendation systems.\n",
    "\n",
    "✅ **Reason:** Boosting models like **XGBoost, LightGBM, and CatBoost** iteratively learn from mistakes, yielding superior performance on **imbalanced or noisy datasets**.\n"
   ]
  },
  {
   "cell_type": "markdown",
   "id": "be31bd0f-d8eb-43f0-be71-6c3206a11a42",
   "metadata": {},
   "source": [
    "##\n",
    "### Datasets:\n",
    "* Use sklearn.datasets.load_breast_cancer() for classification tasks.\n",
    "* Use sklearn.datasets.fetch_california_housing() for regression\n",
    "tasks."
   ]
  },
  {
   "cell_type": "markdown",
   "id": "db0628a2-fcde-42ac-ab21-de528c778970",
   "metadata": {},
   "source": [
    "##\n",
    "### Question 6: Write a Python program to:\n",
    "* Train an AdaBoost Classifier on the Breast Cancer dataset\n",
    "* Print the model accuracy\n"
   ]
  },
  {
   "cell_type": "code",
   "execution_count": 1,
   "id": "c9487780-289d-4b6f-b8f6-a47ed144cf7c",
   "metadata": {},
   "outputs": [
    {
     "name": "stdout",
     "output_type": "stream",
     "text": [
      "AdaBoost Classifier Accuracy: 0.9649\n"
     ]
    }
   ],
   "source": [
    "# --- Import Libraries ---\n",
    "from sklearn.datasets import load_breast_cancer\n",
    "from sklearn.model_selection import train_test_split\n",
    "from sklearn.ensemble import AdaBoostClassifier\n",
    "from sklearn.metrics import accuracy_score\n",
    "\n",
    "# --- Load Dataset ---\n",
    "data = load_breast_cancer()\n",
    "X, y = data.data, data.target\n",
    "\n",
    "# --- Split Data ---\n",
    "X_train, X_test, y_train, y_test = train_test_split(X, y, test_size=0.2, random_state=42)\n",
    "\n",
    "# --- Train AdaBoost Classifier ---\n",
    "ada_model = AdaBoostClassifier(n_estimators=100, learning_rate=0.8, random_state=42)\n",
    "ada_model.fit(X_train, y_train)\n",
    "\n",
    "# --- Predict and Evaluate ---\n",
    "y_pred = ada_model.predict(X_test)\n",
    "accuracy = accuracy_score(y_test, y_pred)\n",
    "\n",
    "print(f\"AdaBoost Classifier Accuracy: {accuracy:.4f}\")\n"
   ]
  },
  {
   "cell_type": "markdown",
   "id": "26f7da0c-8179-4e90-bc19-8daa9fda8c66",
   "metadata": {},
   "source": [
    "##\n",
    "### Question 7: Write a Python program to:\n",
    "* Train a Gradient Boosting Regressor on the California Housing dataset\n",
    "* Evaluate performance using R-squared score\n"
   ]
  },
  {
   "cell_type": "code",
   "execution_count": 2,
   "id": "3619e4b7-d3b2-45f2-a82f-cafbbb4da11a",
   "metadata": {},
   "outputs": [
    {
     "name": "stdout",
     "output_type": "stream",
     "text": [
      "Gradient Boosting Regressor R-squared Score: 0.7815\n"
     ]
    }
   ],
   "source": [
    "# --- Import Libraries ---\n",
    "from sklearn.datasets import fetch_california_housing\n",
    "from sklearn.model_selection import train_test_split\n",
    "from sklearn.ensemble import GradientBoostingRegressor\n",
    "from sklearn.metrics import r2_score\n",
    "import numpy as np\n",
    "\n",
    "# --- Load Dataset ---\n",
    "housing = fetch_california_housing()\n",
    "X, y = housing.data, housing.target\n",
    "\n",
    "# --- Use a Subset for Faster Computation ---\n",
    "np.random.seed(42)\n",
    "subset_idx = np.random.choice(len(X), 2000, replace=False)\n",
    "X, y = X[subset_idx], y[subset_idx]\n",
    "\n",
    "# --- Split Data ---\n",
    "X_train, X_test, y_train, y_test = train_test_split(X, y, test_size=0.2, random_state=42)\n",
    "\n",
    "# --- Train Gradient Boosting Regressor ---\n",
    "gbr_model = GradientBoostingRegressor(\n",
    "    n_estimators=150, \n",
    "    learning_rate=0.1, \n",
    "    max_depth=3, \n",
    "    random_state=42\n",
    ")\n",
    "gbr_model.fit(X_train, y_train)\n",
    "\n",
    "# --- Predict and Evaluate ---\n",
    "y_pred = gbr_model.predict(X_test)\n",
    "r2 = r2_score(y_test, y_pred)\n",
    "\n",
    "print(f\"Gradient Boosting Regressor R-squared Score: {r2:.4f}\")\n"
   ]
  },
  {
   "cell_type": "markdown",
   "id": "198f48b8-d2aa-412f-9ae7-ae52b26b4630",
   "metadata": {},
   "source": [
    "##\n",
    "### Question 8: Write a Python program to:\n",
    "* Train an XGBoost Classifier on the Breast Cancer dataset\n",
    "* Tune the learning rate using GridSearchCV\n",
    "* Print the best parameters and accuracy\n"
   ]
  },
  {
   "cell_type": "code",
   "execution_count": 5,
   "id": "2982a3be-2935-4baa-9c0a-660c8b3f07e4",
   "metadata": {},
   "outputs": [
    {
     "name": "stdout",
     "output_type": "stream",
     "text": [
      "Best Parameters: {'learning_rate': 0.2}\n",
      "XGBoost Classifier Accuracy: 0.9561\n"
     ]
    }
   ],
   "source": [
    "# --- Import Libraries ---\n",
    "from xgboost import XGBClassifier\n",
    "from sklearn.datasets import load_breast_cancer\n",
    "from sklearn.model_selection import train_test_split, GridSearchCV\n",
    "from sklearn.metrics import accuracy_score\n",
    "\n",
    "# --- Load Dataset ---\n",
    "data = load_breast_cancer()\n",
    "X, y = data.data, data.target\n",
    "\n",
    "# --- Split Data ---\n",
    "X_train, X_test, y_train, y_test = train_test_split(X, y, test_size=0.2, random_state=42)\n",
    "\n",
    "# --- Define XGBoost Classifier (updated, no warnings) ---\n",
    "xgb_model = XGBClassifier(\n",
    "    n_estimators=100,\n",
    "    eval_metric='logloss',   # handles classification automatically\n",
    "    random_state=42,\n",
    "    verbosity=0              # suppress XGBoost training logs\n",
    ")\n",
    "\n",
    "# --- Define Parameter Grid ---\n",
    "param_grid = {\n",
    "    'learning_rate': [0.01, 0.05, 0.1, 0.2]\n",
    "}\n",
    "\n",
    "# --- Apply GridSearchCV ---\n",
    "grid_search = GridSearchCV(\n",
    "    estimator=xgb_model,\n",
    "    param_grid=param_grid,\n",
    "    cv=5,\n",
    "    scoring='accuracy',\n",
    "    n_jobs=-1\n",
    ")\n",
    "grid_search.fit(X_train, y_train)\n",
    "\n",
    "# --- Evaluate Best Model ---\n",
    "best_xgb = grid_search.best_estimator_\n",
    "y_pred = best_xgb.predict(X_test)\n",
    "accuracy = accuracy_score(y_test, y_pred)\n",
    "\n",
    "# --- Print Results ---\n",
    "print(\"Best Parameters:\", grid_search.best_params_)\n",
    "print(f\"XGBoost Classifier Accuracy: {accuracy:.4f}\")\n"
   ]
  },
  {
   "cell_type": "markdown",
   "id": "1f05605c-cdb7-4109-a121-a52a5aad34c9",
   "metadata": {},
   "source": [
    "##\n",
    "### Question 9: Write a Python program to:\n",
    "* Train a CatBoost Classifier\n",
    "* Plot the confusion matrix using seaborn\n"
   ]
  },
  {
   "cell_type": "code",
   "execution_count": 4,
   "id": "8bf240b2-52bc-4392-a5c8-6d0de4e2e64b",
   "metadata": {},
   "outputs": [
    {
     "name": "stdout",
     "output_type": "stream",
     "text": [
      "CatBoost Classifier Accuracy: 0.9649\n"
     ]
    },
    {
     "data": {
      "image/png": "[encoded data removed]",
      "text/plain": [
       "<Figure size 500x400 with 2 Axes>"
      ]
     },
     "metadata": {},
     "output_type": "display_data"
    }
   ],
   "source": [
    "# --- Import Libraries ---\n",
    "from catboost import CatBoostClassifier\n",
    "from sklearn.datasets import load_breast_cancer\n",
    "from sklearn.model_selection import train_test_split\n",
    "from sklearn.metrics import confusion_matrix, accuracy_score\n",
    "import seaborn as sns\n",
    "import matplotlib.pyplot as plt\n",
    "\n",
    "# --- Load Dataset ---\n",
    "data = load_breast_cancer()\n",
    "X, y = data.data, data.target\n",
    "\n",
    "# --- Split Data ---\n",
    "X_train, X_test, y_train, y_test = train_test_split(X, y, test_size=0.2, random_state=42)\n",
    "\n",
    "# --- Train CatBoost Classifier ---\n",
    "cat_model = CatBoostClassifier(\n",
    "    iterations=200,\n",
    "    learning_rate=0.1,\n",
    "    depth=5,\n",
    "    verbose=0,           # Suppress training output\n",
    "    random_seed=42\n",
    ")\n",
    "cat_model.fit(X_train, y_train)\n",
    "\n",
    "# --- Predict and Evaluate ---\n",
    "y_pred = cat_model.predict(X_test)\n",
    "accuracy = accuracy_score(y_test, y_pred)\n",
    "\n",
    "print(f\"CatBoost Classifier Accuracy: {accuracy:.4f}\")\n",
    "\n",
    "# --- Confusion Matrix ---\n",
    "cm = confusion_matrix(y_test, y_pred)\n",
    "\n",
    "# --- Plot Confusion Matrix ---\n",
    "plt.figure(figsize=(5,4))\n",
    "sns.heatmap(cm, annot=True, fmt=\"d\", cmap=\"Blues\",\n",
    "            xticklabels=data.target_names,\n",
    "            yticklabels=data.target_names)\n",
    "plt.title(\"CatBoost Classifier - Confusion Matrix\")\n",
    "plt.xlabel(\"Predicted Labels\")\n",
    "plt.ylabel(\"True Labels\")\n",
    "plt.show()\n"
   ]
  },
  {
   "cell_type": "markdown",
   "id": "75f4bb5f-ac67-4c2c-8e94-6d4beb867975",
   "metadata": {},
   "source": [
    "##\n",
    "### Question 10: You're working for a FinTech company trying to predict loan default using customer demographics and transaction behavior.\n",
    "The dataset is imbalanced, contains missing values, and has both numeric and\n",
    "categorical features.\n",
    "Describe your step-by-step data science pipeline using boosting techniques:\n",
    "* Data preprocessing & handling missing/categorical values\n",
    "* Choice between AdaBoost, XGBoost, or CatBoost\n",
    "* Hyperparameter tuning strategy\n",
    "* Evaluation metrics you'd choose and why\n",
    "* How the business would benefit from your model"
   ]
  },
  {
   "cell_type": "markdown",
   "id": "87bd59c3-4fda-4234-91e5-6b9df7dafe3b",
   "metadata": {},
   "source": [
    "### **Step-by-Step Data Science Pipeline for Loan Default Prediction (Boosting Approach)**\n",
    "\n",
    "#### **1. Data Preprocessing**\n",
    "\n",
    "* **Handle Missing Values:**\n",
    "\n",
    "  * For numeric features → use **median imputation** or **KNN imputer**.\n",
    "  * For categorical features → replace with **“Unknown”** or **most frequent category**.\n",
    "* **Handle Outliers:**\n",
    "\n",
    "  * Apply **winsorization** or **log transformation** to smooth extreme values.\n",
    "* **Encode Categorical Features:**\n",
    "\n",
    "  * Use **One-Hot Encoding** for AdaBoost/XGBoost.\n",
    "  * Use **CatBoost’s native handling** for categorical data (no manual encoding required).\n",
    "* **Scale Numeric Features:**\n",
    "\n",
    "  * Apply **StandardScaler** or **MinMaxScaler** (especially useful for AdaBoost).\n",
    "\n",
    "---\n",
    "\n",
    "#### **2. Model Choice**\n",
    "\n",
    "| Model        | When to Use                | Key Advantage                                   |\n",
    "| ------------ | -------------------------- | ----------------------------------------------- |\n",
    "| **AdaBoost** | Small datasets, low noise  | Simple, interpretable, fast                     |\n",
    "| **XGBoost**  | Large, complex, mixed data | Handles missing values, highly optimized        |\n",
    "| **CatBoost** | Many categorical features  | Native categorical handling, less preprocessing |\n",
    "\n",
    "👉 **Best choice:** **CatBoost** — because it efficiently handles **imbalanced, mixed-type, and missing data** with minimal preprocessing.\n",
    "\n",
    "---\n",
    "\n",
    "#### **3. Hyperparameter Tuning Strategy**\n",
    "\n",
    "Use **GridSearchCV** or **Optuna/Bayesian optimization** to tune parameters like:\n",
    "\n",
    "* `learning_rate` → controls step size (0.05–0.1 optimal).\n",
    "* `n_estimators` → number of boosting rounds (100–500).\n",
    "* `max_depth` → controls tree complexity.\n",
    "* `scale_pos_weight` (XGBoost/CatBoost) → handles class imbalance.\n",
    "* `subsample`, `colsample_bytree` → add randomness, prevent overfitting.\n",
    "\n",
    "Use **early stopping** to prevent overtraining on minority class patterns.\n",
    "\n",
    "---\n",
    "\n",
    "#### **4. Evaluation Metrics**\n",
    "\n",
    "Since the dataset is **imbalanced**, accuracy is misleading. Prefer:\n",
    "\n",
    "* **ROC-AUC** → measures discrimination ability.\n",
    "* **Precision, Recall, F1-Score** → focus on reducing false negatives (missed defaulters).\n",
    "* **Confusion Matrix** → for visual performance comparison.\n",
    "* **PR-AUC (Precision-Recall AUC)** → when positive class is rare.\n",
    "\n",
    "---\n",
    "\n",
    "#### **5. Business Impact**\n",
    "\n",
    "* **Risk Reduction:** Identifies high-risk borrowers early, lowering loan defaults.\n",
    "* **Profit Maximization:** Enables smarter credit approvals and dynamic interest rates.\n",
    "* **Operational Efficiency:** Reduces manual underwriting workload.\n",
    "* **Trustworthy Decisions:** Boosting models (like CatBoost/XGBoost) are explainable via **SHAP values**, ensuring **regulatory compliance** and model transparency.\n",
    "\n",
    "---\n",
    "\n",
    "✅ **In Summary:**\n",
    "Use **CatBoost** for its handling of categorical and missing data, tune it using **cross-validation**, evaluate via **ROC-AUC and F1-score**, and leverage the model to make **data-driven, risk-aware loan decisions** that improve both **profitability** and **customer trust**.\n"
   ]
  }
 ],
 "metadata": {
  "kernelspec": {
   "display_name": "Python 3 (ipykernel)",
   "language": "python",
   "name": "python3"
  },
  "language_info": {
   "codemirror_mode": {
    "name": "ipython",
    "version": 3
   },
   "file_extension": ".py",
   "mimetype": "text/x-python",
   "name": "python",
   "nbconvert_exporter": "python",
   "pygments_lexer": "ipython3",
   "version": "3.13.3"
  }
 },
 "nbformat": 4,
 "nbformat_minor": 5
}
