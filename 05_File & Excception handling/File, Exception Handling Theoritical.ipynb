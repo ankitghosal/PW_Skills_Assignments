{
 "cells": [
  {
   "cell_type": "markdown",
   "id": "5b2e386c-7b5b-47fe-a043-d41476e4a0b2",
   "metadata": {},
   "source": [
    "## 🧠 Theoretical Questions"
   ]
  },
  {
   "cell_type": "markdown",
   "id": "8d985621-beeb-4830-9166-6c96de57fe69",
   "metadata": {},
   "source": [
    "### 1.What is the difference between interpreted and compiled languages ?"
   ]
  },
  {
   "cell_type": "markdown",
   "id": "71e62f51-563c-4a06-91dd-d4b63176ab66",
   "metadata": {},
   "source": [
    "Difference between Interpreted and Compiled Languages:\n",
    "\n",
    "1. **<u>Execution</u>** – Compiled languages translate the entire code into machine code before execution, while interpreted languages translate and execute code line by line.\n",
    "\n",
    "2. **<u>Speed</u>** – Compiled languages are generally faster, whereas interpreted languages are slower due to real-time translation.\n",
    "\n",
    "3. **<u>Portability</u>** – Interpreted languages are more portable across platforms, compiled languages need recompilation for each platform.\n",
    "\n",
    "Examples – Compiled: C, C++ | Interpreted: Python, JavaScript."
   ]
  },
  {
   "cell_type": "markdown",
   "id": "7971394b-0fd2-4f7c-9bc9-0516aaf57d9f",
   "metadata": {},
   "source": [
    "####\n",
    "### 2. What is exception handling in Python ?"
   ]
  },
  {
   "cell_type": "markdown",
   "id": "82d3040e-7270-497a-9076-49b92f520006",
   "metadata": {},
   "source": [
    "**Exception handling** in Python is a mechanism to manage runtime errors by using 'try', 'except', 'else', and 'finally' blocks, allowing the program to handle unexpected situations gracefully without crashing, and ensuring proper cleanup or alternative actions when errors occur."
   ]
  },
  {
   "cell_type": "markdown",
   "id": "77b623cf-0e2d-4b2d-aacf-3b8e9670d5d0",
   "metadata": {},
   "source": [
    "####\n",
    "### 3. What is the purpose of the finally block in exception handling ?"
   ]
  },
  {
   "cell_type": "markdown",
   "id": "8e489e30-48d4-4bc1-9f87-0dd28b293bcf",
   "metadata": {},
   "source": [
    "The 'finally' block in Python exception handling is used to define code that will run regardless of whether an exception occurs or not, typically for cleanup tasks like closing files, releasing resources, or resetting states."
   ]
  },
  {
   "cell_type": "markdown",
   "id": "afe9136a-239e-4415-bcf4-65075d6a803d",
   "metadata": {},
   "source": [
    "####\n",
    "### 4. What is logging in Python ?"
   ]
  },
  {
   "cell_type": "markdown",
   "id": "a31584ba-3c85-465a-878f-dee0b3d518e9",
   "metadata": {},
   "source": [
    "**Logging** in Python is the process of recording events, errors, and informational messages during a program’s execution using the built-in logging module, which helps in debugging, monitoring, and maintaining applications without interrupting their flow."
   ]
  },
  {
   "cell_type": "markdown",
   "id": "1afc69f9-b19a-46cc-847e-feebbfe8fc3b",
   "metadata": {},
   "source": [
    "####\n",
    "### 5. What is the significance of the '__del__' method in Python ?"
   ]
  },
  {
   "cell_type": "markdown",
   "id": "08188840-94e0-4c58-a703-b4248bd60b2a",
   "metadata": {},
   "source": [
    "The `__del__` method in Python is a **destructor** that is automatically called when an object is about to be destroyed, typically used to release resources or perform cleanup tasks before the object is removed from memory.\n"
   ]
  },
  {
   "cell_type": "markdown",
   "id": "98dd977e-5060-4725-94fa-79a244b2866c",
   "metadata": {},
   "source": [
    "####\n",
    "### 6. What is the difference between import and from ... import in Python ?"
   ]
  },
  {
   "cell_type": "markdown",
   "id": "182da7ec-a3eb-4a64-90fc-b745ee5aed83",
   "metadata": {},
   "source": [
    "* **`import`** – Imports the entire module, and you access its functions or variables using the module name as a prefix (e.g., `math.sqrt()`).\n",
    "* **`from ... import`** – Imports specific functions, classes, or variables from a module, allowing you to use them directly without the module prefix (e.g., `sqrt()` instead of `math.sqrt()`).\n"
   ]
  },
  {
   "cell_type": "markdown",
   "id": "4a3ebb41-cc5a-429e-8857-88c932ea2ef7",
   "metadata": {},
   "source": [
    "####\n",
    "### 7.   How can you handle multiple exceptions in Python ?"
   ]
  },
  {
   "cell_type": "markdown",
   "id": "e7110ed7-4214-4a3b-93eb-e8c5679dac05",
   "metadata": {},
   "source": [
    "You can handle multiple exceptions in Python by:\n",
    "\n",
    "1. **Using multiple `except` blocks** – One for each exception type.\n",
    "2. **Catching multiple exceptions in a single block** – By grouping them in parentheses, e.g., `except (TypeError, ValueError):`.\n"
   ]
  },
  {
   "cell_type": "markdown",
   "id": "d34e0753-c1f3-46a7-aef6-857443501be4",
   "metadata": {},
   "source": [
    "####\n",
    "### 8. What is the purpose of the with statement when handling files in Python ?"
   ]
  },
  {
   "cell_type": "markdown",
   "id": "bf3d8c39-497e-4299-8ee3-52fa88964655",
   "metadata": {},
   "source": [
    "The **`with` statement** in Python is used for **automatic resource management** when working with files, ensuring that the file is properly closed after its block of code is executed, even if an exception occurs.\n"
   ]
  },
  {
   "cell_type": "markdown",
   "id": "77726f17-0a85-49c0-8a4f-56bf61eefc06",
   "metadata": {},
   "source": [
    "####\n",
    "### 9. What is the difference between multithreading and multiprocessing ?"
   ]
  },
  {
   "cell_type": "markdown",
   "id": "2292be84-8137-4fe9-a499-6f261e4112c9",
   "metadata": {},
   "source": [
    "* **Multithreading** – Runs multiple threads within the same process, sharing the same memory space; best for I/O-bound tasks but limited by Python’s GIL for CPU-bound tasks.\n",
    "* **Multiprocessing** – Runs multiple processes with separate memory spaces, allowing true parallelism and better performance for CPU-bound tasks.\n"
   ]
  },
  {
   "cell_type": "markdown",
   "id": "041630b6-7f8a-4160-934e-c9ad21805766",
   "metadata": {},
   "source": [
    "####\n",
    "### 10. What are the advantages of using logging in a program ?\n"
   ]
  },
  {
   "cell_type": "markdown",
   "id": "921cdca6-00b9-4971-8112-258c8143dbe4",
   "metadata": {},
   "source": [
    "**Advantages of using logging in a program:**\n",
    "\n",
    "1. Provides a record of events for debugging and analysis.\n",
    "2. Allows different log levels (INFO, WARNING, ERROR, etc.) for better control.\n",
    "3. Helps monitor program execution without interrupting it.\n",
    "4. Can store logs in files for future reference.\n"
   ]
  },
  {
   "cell_type": "markdown",
   "id": "8881d38b-9c2e-4bfd-9e81-0f1502e262c2",
   "metadata": {},
   "source": [
    "####\n",
    "### 11. What is memory management in Python ?"
   ]
  },
  {
   "cell_type": "markdown",
   "id": "f81e4b59-0bd6-466c-9d6e-53c081d99c35",
   "metadata": {},
   "source": [
    "**Memory management in Python** is the process of allocating and releasing memory for objects automatically using a built-in **garbage collector** and a **private heap space**, ensuring efficient use of memory and cleanup of unused objects.\n"
   ]
  },
  {
   "cell_type": "markdown",
   "id": "1d9a27d4-aa48-467b-8412-f5b0583b707f",
   "metadata": {},
   "source": [
    "####\n",
    "### 12. What are the basic steps involved in exception handling in Python ?"
   ]
  },
  {
   "cell_type": "markdown",
   "id": "d7e82cef-81e1-42f7-84c9-9b51666f68fe",
   "metadata": {},
   "source": [
    "The basic steps in exception handling in Python are:\n",
    "\n",
    "1. **Wrap risky code in a `try` block** to monitor for errors.\n",
    "2. **Use `except` block(s)** to catch and handle specific or general exceptions.\n",
    "3. *(Optional)* **Use `else` block** to run code if no exceptions occur.\n",
    "4. *(Optional)* **Use `finally` block** for cleanup tasks that must run regardless of errors.\n"
   ]
  },
  {
   "cell_type": "markdown",
   "id": "c0c60584-c65a-4820-a9eb-2106bd62d756",
   "metadata": {},
   "source": [
    "####\n",
    "### 13. Why is memory management important in Python ?"
   ]
  },
  {
   "cell_type": "markdown",
   "id": "2fb385bd-34a7-4711-aaca-6feb9770003c",
   "metadata": {},
   "source": [
    "**Memory management is important in Python** because it ensures efficient use of system resources, prevents memory leaks, improves program performance, and maintains stability by automatically cleaning up unused objects through garbage collection.\n"
   ]
  },
  {
   "cell_type": "markdown",
   "id": "19d3153c-9665-4632-8621-9ad82184085f",
   "metadata": {},
   "source": [
    "####\n",
    "### 14. What is the role of try and except in exception handling ?"
   ]
  },
  {
   "cell_type": "markdown",
   "id": "767a25f8-3db1-4673-accb-04207b37189f",
   "metadata": {},
   "source": [
    "In Python exception handling, the **`try` block** contains code that may raise an error, while the **`except` block** catches and handles the error, preventing the program from crashing and allowing alternative actions to be taken.\n"
   ]
  },
  {
   "cell_type": "markdown",
   "id": "91a502de-b489-42a5-a519-48bb9d9f902b",
   "metadata": {},
   "source": [
    "####\n",
    "### 15. How does Python's garbage collection system work ?"
   ]
  },
  {
   "cell_type": "markdown",
   "id": "6d05f35d-fb7a-4c1a-8d3c-4739680fc880",
   "metadata": {},
   "source": [
    "Python’s garbage collection system works by automatically reclaiming memory from objects that are no longer referenced, primarily using **reference counting** and a **cyclic garbage collector** to detect and clean up unused objects involved in reference cycles.\n"
   ]
  },
  {
   "cell_type": "markdown",
   "id": "5aff1731-f2b5-4bd4-9ff3-2266f04e354f",
   "metadata": {},
   "source": [
    "####\n",
    "### 16. What is the purpose of the else block in exception handling ?"
   ]
  },
  {
   "cell_type": "markdown",
   "id": "9002572d-8dcf-4dc2-8001-fba30d64c736",
   "metadata": {},
   "source": [
    "The **`else` block** in Python exception handling is used to define code that runs **only if no exceptions occur** in the `try` block, keeping normal execution code separate from error-handling code.\n"
   ]
  },
  {
   "cell_type": "markdown",
   "id": "bf0d6e64-2881-4310-b309-f622ecca9090",
   "metadata": {},
   "source": [
    "####\n",
    "### 17. What are the common logging levels in Python ?"
   ]
  },
  {
   "cell_type": "markdown",
   "id": "83f549e5-0447-4cbe-9392-e5e9cb305cb4",
   "metadata": {},
   "source": [
    "The common logging levels in Python are:\n",
    "\n",
    "1. **DEBUG** – Detailed diagnostic information for debugging.\n",
    "2. **INFO** – General information about program execution.\n",
    "3. **WARNING** – Indication of potential problems.\n",
    "4. **ERROR** – Serious issues that prevent part of the program from running.\n",
    "5. **CRITICAL** – Severe errors that may cause the program to stop.\n"
   ]
  },
  {
   "cell_type": "markdown",
   "id": "1e06ccea-2151-4f3e-b0d4-cedc96fee5d4",
   "metadata": {},
   "source": [
    "####\n",
    "### 18.  What is the difference between os.fork() and multiprocessing in Python ?"
   ]
  },
  {
   "cell_type": "markdown",
   "id": "dab4193c-ea5d-4918-8223-c2a54eca7031",
   "metadata": {},
   "source": [
    "* **`os.fork()`** – Creates a child process by duplicating the current process (Unix/Linux only), offering low-level control but requiring manual handling of communication and synchronization.\n",
    "* **`multiprocessing`** – A high-level Python module that works cross-platform, providing an easy API to create and manage separate processes with built-in communication and synchronization tools.\n"
   ]
  },
  {
   "cell_type": "markdown",
   "id": "1be3b2bd-a90c-44ef-8e5a-f6c1680321be",
   "metadata": {},
   "source": [
    "####\n",
    "### 19. What is the importance of closing a file in Python ?"
   ]
  },
  {
   "cell_type": "markdown",
   "id": "0bed2e6f-3f3e-423c-85f4-f182bf9dbf77",
   "metadata": {},
   "source": [
    "Closing a file in Python is important because it frees up system resources, ensures that all buffered data is written to disk, and prevents file corruption or data loss.\n"
   ]
  },
  {
   "cell_type": "markdown",
   "id": "3d9b9278-88ce-4736-8247-9c72c31c407c",
   "metadata": {},
   "source": [
    "####\n",
    "### 20. What is the difference between file.read() and file.readline() in Python ?\n"
   ]
  },
  {
   "cell_type": "markdown",
   "id": "4f5454ca-ba62-4fb1-b829-1c1afbbed5a6",
   "metadata": {},
   "source": [
    "* **`file.read()`** – Reads the entire file (or a specified number of bytes) into a single string.\n",
    "* **`file.readline()`** – Reads only one line from the file at a time, including the newline character.\n"
   ]
  },
  {
   "cell_type": "markdown",
   "id": "4a13e538-efbf-4967-91db-2306b40b22b0",
   "metadata": {},
   "source": [
    "####\n",
    "### 21. What is the logging module in Python used for ?"
   ]
  },
  {
   "cell_type": "markdown",
   "id": "9683c913-1429-4f37-b556-0ca22c0c1451",
   "metadata": {},
   "source": [
    "The **`logging` module** in Python is used to record messages about a program’s execution—such as debug info, warnings, and errors—allowing developers to monitor, troubleshoot, and analyze the program without interrupting its flow.\n"
   ]
  },
  {
   "cell_type": "markdown",
   "id": "ad97f890-530c-43c0-8715-1466537f0184",
   "metadata": {},
   "source": [
    "####\n",
    "### 22. What is the os module in Python used for in file handling ?"
   ]
  },
  {
   "cell_type": "markdown",
   "id": "b8abc1df-eb0f-4b43-9b42-841857e1ae9d",
   "metadata": {},
   "source": [
    "The **`os` module** in Python is used for interacting with the operating system, enabling file handling tasks like creating, deleting, renaming, and navigating directories, as well as retrieving file metadata.\n"
   ]
  },
  {
   "cell_type": "markdown",
   "id": "d7346389-e8aa-4fd6-932e-cda32f88aa93",
   "metadata": {},
   "source": [
    "####\n",
    "### 23. What are the challenges associated with memory management in Python ?"
   ]
  },
  {
   "cell_type": "markdown",
   "id": "2ae4361f-5cf8-40d5-adf7-7621d3a062aa",
   "metadata": {},
   "source": [
    "Challenges in Python memory management include handling **reference cycles**, avoiding **memory leaks** from lingering references, managing memory for large datasets efficiently, and minimizing overhead from Python’s dynamic object allocation.\n"
   ]
  },
  {
   "cell_type": "markdown",
   "id": "30789163-ca13-43c6-8f6b-9013de59b3e1",
   "metadata": {},
   "source": [
    "####\n",
    "### 24.  How do you raise an exception manually in Python ?"
   ]
  },
  {
   "cell_type": "markdown",
   "id": "c887dd65-c2c9-4717-a9fc-c47ffca75ff3",
   "metadata": {},
   "source": [
    "You can raise an exception manually in Python using the **`raise`** keyword followed by an exception class, e.g.,\n",
    "\n",
    "```python\n",
    "raise ValueError(\"Invalid input\")\n",
    "```\n",
    "\n",
    "This stops normal execution and triggers the specified exception.\n"
   ]
  },
  {
   "cell_type": "markdown",
   "id": "c6509b65-4ea7-44ed-be88-07d0682cff0b",
   "metadata": {},
   "source": [
    "####\n",
    "### 25. Why is it important to use multithreading in certain applications ?"
   ]
  },
  {
   "cell_type": "markdown",
   "id": "02e339bd-7da5-4ea9-a3a4-53e6d9393288",
   "metadata": {},
   "source": [
    "Multithreading is important in certain applications because it allows multiple tasks to run concurrently within the same process, improving responsiveness and performance in **I/O-bound** operations like network requests, file handling, or user interface updates.\n"
   ]
  }
 ],
 "metadata": {
  "kernelspec": {
   "display_name": "Python 3 (ipykernel)",
   "language": "python",
   "name": "python3"
  },
  "language_info": {
   "codemirror_mode": {
    "name": "ipython",
    "version": 3
   },
   "file_extension": ".py",
   "mimetype": "text/x-python",
   "name": "python",
   "nbconvert_exporter": "python",
   "pygments_lexer": "ipython3",
   "version": "3.13.3"
  }
 },
 "nbformat": 4,
 "nbformat_minor": 5
}
