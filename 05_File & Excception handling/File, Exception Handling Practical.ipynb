{
 "cells": [
  {
   "cell_type": "markdown",
   "id": "ff235a2f-c2a0-4aab-ba90-00b24e4c05c8",
   "metadata": {},
   "source": [
    "## 🧠 Practical Questions"
   ]
  },
  {
   "cell_type": "markdown",
   "id": "7caee600-cef1-41e0-a7f0-7f9ca907ae8d",
   "metadata": {},
   "source": [
    "### 1. How can you open a file for writing in Python and write a string to it ?"
   ]
  },
  {
   "cell_type": "code",
   "execution_count": 1,
   "id": "58d3259d-eec5-4dcc-8b3f-f2a024e701ef",
   "metadata": {},
   "outputs": [],
   "source": [
    "with open(\"file.txt\", \"w\") as f:\n",
    "    f.write(\"Hello, Python!\")\n"
   ]
  },
  {
   "cell_type": "markdown",
   "id": "f4f0cee5-2daf-40e0-bac4-7b03af8b7273",
   "metadata": {},
   "source": [
    "####\n",
    "### 2. Write a Python program to read the contents of a file and print each line."
   ]
  },
  {
   "cell_type": "code",
   "execution_count": 2,
   "id": "756dac1b-53f4-4544-bb56-4dc1aecd9a7c",
   "metadata": {},
   "outputs": [
    {
     "name": "stdout",
     "output_type": "stream",
     "text": [
      "Hello, Python!\n"
     ]
    }
   ],
   "source": [
    "with open(\"file.txt\", \"r\") as f:\n",
    "    for line in f:\n",
    "        print(line.strip())\n"
   ]
  },
  {
   "cell_type": "markdown",
   "id": "dd64ade2-59a4-404c-922f-662f87014d2a",
   "metadata": {},
   "source": [
    "####\n",
    "### 3. How would you handle a case where the file doesn't exist while trying to open it for reading ?"
   ]
  },
  {
   "cell_type": "code",
   "execution_count": 3,
   "id": "fad6cc31-e6f8-4160-a807-40b3918df8e9",
   "metadata": {},
   "outputs": [
    {
     "name": "stdout",
     "output_type": "stream",
     "text": [
      "The file does not exist.\n"
     ]
    }
   ],
   "source": [
    "try:\n",
    "    with open(\"file2.txt\", \"r\") as f:\n",
    "        print(f.read())\n",
    "except FileNotFoundError:\n",
    "    print(\"The file does not exist.\")\n"
   ]
  },
  {
   "cell_type": "markdown",
   "id": "dabf7054-08dc-40d1-9ba1-6ec2160534bf",
   "metadata": {},
   "source": [
    "####\n",
    "### 4.  Write a Python script that reads from one file and writes its content to another file."
   ]
  },
  {
   "cell_type": "code",
   "execution_count": 4,
   "id": "229db840-f3bc-421c-ab04-347fab68c343",
   "metadata": {},
   "outputs": [],
   "source": [
    "with open(\"file.txt\", \"r\") as fl, open(\"destination.txt\", \"w\") as dest:\n",
    "    dest.write(fl.read())\n"
   ]
  },
  {
   "cell_type": "markdown",
   "id": "ccb2d572-f8db-4ff6-a00f-5f8d0dffaf87",
   "metadata": {},
   "source": [
    "####\n",
    "### 5. How would you catch and handle division by zero error in Python ?"
   ]
  },
  {
   "cell_type": "code",
   "execution_count": 5,
   "id": "ff0c0a96-44bc-4316-88df-fcf86c141e9f",
   "metadata": {},
   "outputs": [
    {
     "name": "stdout",
     "output_type": "stream",
     "text": [
      "Error: Cannot divide by zero.\n"
     ]
    }
   ],
   "source": [
    "try:\n",
    "    result = 10 / 0\n",
    "except ZeroDivisionError:\n",
    "    print(\"Error: Cannot divide by zero.\")\n"
   ]
  },
  {
   "cell_type": "markdown",
   "id": "e6193a1c-06bc-4040-b365-8bf4fef902c0",
   "metadata": {},
   "source": [
    "####\n",
    "### 6. Write a Python program that logs an error message to a log file when a division by zero exception occurs."
   ]
  },
  {
   "cell_type": "code",
   "execution_count": 6,
   "id": "b3c4a921-a1e4-49cd-a240-0b74d429040b",
   "metadata": {},
   "outputs": [],
   "source": [
    "import logging\n",
    "\n",
    "# Configure logging to write to a file\n",
    "logging.basicConfig(filename=\"error.log\", level=logging.ERROR)\n",
    "\n",
    "try:\n",
    "    result = 10 / 0\n",
    "except ZeroDivisionError as e:\n",
    "    logging.error(f\"Division by zero error: {e}\")\n"
   ]
  },
  {
   "cell_type": "markdown",
   "id": "9a28a91b-ce10-4c89-be4f-ec8c3a3fcd1b",
   "metadata": {},
   "source": [
    "####\n",
    "### 7.  How do you log information at different levels (INFO, ERROR, WARNING) in Python using the logging module."
   ]
  },
  {
   "cell_type": "code",
   "execution_count": 7,
   "id": "a369260e-89c9-4868-a28f-385ab6c77c9c",
   "metadata": {},
   "outputs": [],
   "source": [
    "import logging\n",
    "\n",
    "logging.basicConfig(level=logging.DEBUG)\n",
    "\n",
    "logging.info(\"This is an INFO message.\")\n",
    "logging.warning(\"This is a WARNING message.\")\n",
    "logging.error(\"This is an ERROR message.\")\n"
   ]
  },
  {
   "cell_type": "markdown",
   "id": "52be7868-25c3-4f68-a0a3-894260e97efc",
   "metadata": {},
   "source": [
    "####\n",
    "### 8. Write a program to handle a file opening error using exception handling."
   ]
  },
  {
   "cell_type": "code",
   "execution_count": 8,
   "id": "7f8660c0-978c-4416-8f41-69adc0aa2c34",
   "metadata": {},
   "outputs": [
    {
     "name": "stdout",
     "output_type": "stream",
     "text": [
      "Error: The file does not exist.\n"
     ]
    }
   ],
   "source": [
    "try:\n",
    "    with open(\"myfile.txt\", \"r\") as f:\n",
    "        content = f.read()\n",
    "        print(content)\n",
    "except FileNotFoundError:\n",
    "    print(\"Error: The file does not exist.\")\n"
   ]
  },
  {
   "cell_type": "markdown",
   "id": "031f7db9-9f44-4e87-a651-f58d62a7472e",
   "metadata": {},
   "source": [
    "####\n",
    "### 9.  How can you read a file line by line and store its content in a list in Python ?"
   ]
  },
  {
   "cell_type": "code",
   "execution_count": 9,
   "id": "df65331f-f9f6-4aa0-a667-379c5fa24565",
   "metadata": {},
   "outputs": [
    {
     "name": "stdout",
     "output_type": "stream",
     "text": [
      "['Hello, Python!']\n"
     ]
    }
   ],
   "source": [
    "# read a file line by line:\n",
    "with open(\"file.txt\", \"r\") as f:\n",
    "    lines = f.readlines()\n",
    "\n",
    "print(lines)\n",
    "\n",
    "#stores in a list:\n",
    "with open(\"file.txt\", \"r\") as f:\n",
    "    lines = [line.strip() for line in f]\n"
   ]
  },
  {
   "cell_type": "markdown",
   "id": "6873776f-2658-4d07-a941-125602d71b81",
   "metadata": {},
   "source": [
    "####\n",
    "### 10.  How can you append data to an existing file in Python?"
   ]
  },
  {
   "cell_type": "code",
   "execution_count": 10,
   "id": "dadc94f0-f424-4bcf-8c60-f8f31eb458ef",
   "metadata": {},
   "outputs": [],
   "source": [
    "with open(\"file.txt\", \"a\") as f:\n",
    "    f.write(\"\\nThis is new appended text.\")\n"
   ]
  },
  {
   "cell_type": "markdown",
   "id": "62f9edd1-8ad3-48b9-90cb-85be10b19df3",
   "metadata": {},
   "source": [
    "####\n",
    "### 11. Write a Python program that uses a try-except block to handle an error when attempting to access a dictionary key that doesn't exist."
   ]
  },
  {
   "cell_type": "code",
   "execution_count": 11,
   "id": "76fd9455-3465-4a7b-b9a8-4570ebcbec56",
   "metadata": {},
   "outputs": [
    {
     "name": "stdout",
     "output_type": "stream",
     "text": [
      "Error: The key does not exist in the dictionary.\n"
     ]
    }
   ],
   "source": [
    "data = {\"name\": \"Alice\", \"age\": 25}\n",
    "\n",
    "try:\n",
    "    print(data[\"city\"])\n",
    "except KeyError:\n",
    "    print(\"Error: The key does not exist in the dictionary.\")\n"
   ]
  },
  {
   "cell_type": "markdown",
   "id": "c4ce108f-9e42-4134-bc32-6fd390ad3944",
   "metadata": {},
   "source": [
    "####\n",
    "### 12. Write a program that demonstrates using multiple except blocks to handle different types of exceptions."
   ]
  },
  {
   "cell_type": "code",
   "execution_count": 12,
   "id": "3e71dc61-7692-43e6-b06c-436342d06e3c",
   "metadata": {},
   "outputs": [
    {
     "name": "stdin",
     "output_type": "stream",
     "text": [
      "Enter a number:  67\n"
     ]
    },
    {
     "name": "stdout",
     "output_type": "stream",
     "text": [
      "Result: 0.14925373134328357\n"
     ]
    }
   ],
   "source": [
    "try:\n",
    "    num = int(input(\"Enter a number: \"))\n",
    "    result = 10 / num\n",
    "    print(\"Result:\", result)\n",
    "except ValueError:\n",
    "    print(\"Error: Invalid input. Please enter a number.\")\n",
    "except ZeroDivisionError:\n",
    "    print(\"Error: Cannot divide by zero.\")\n"
   ]
  },
  {
   "cell_type": "markdown",
   "id": "eaf84f2d-4afe-4773-8ea1-72d42581ce0d",
   "metadata": {},
   "source": [
    "####\n",
    "### 13. How would you check if a file exists before attempting to read it in Python ?"
   ]
  },
  {
   "cell_type": "code",
   "execution_count": 13,
   "id": "28d91307-c383-49e9-954e-8e6fff40a17e",
   "metadata": {},
   "outputs": [
    {
     "name": "stdout",
     "output_type": "stream",
     "text": [
      "Hello, Python!\n",
      "This is new appended text.\n"
     ]
    }
   ],
   "source": [
    "import os\n",
    "\n",
    "if os.path.exists(\"file.txt\"):\n",
    "    with open(\"file.txt\", \"r\") as f:\n",
    "        print(f.read())\n",
    "else:\n",
    "    print(\"File does not exist.\")\n"
   ]
  },
  {
   "cell_type": "markdown",
   "id": "3ece78ac-7b38-4e99-aa9d-c4c0dca18a13",
   "metadata": {},
   "source": [
    "####\n",
    "### 14. Write a program that uses the logging module to log both informational and error messages."
   ]
  },
  {
   "cell_type": "code",
   "execution_count": 14,
   "id": "8d744fc1-dda7-4244-a3d1-902875c5233c",
   "metadata": {},
   "outputs": [],
   "source": [
    "import logging\n",
    "\n",
    "logging.basicConfig(\n",
    "    level=logging.DEBUG,\n",
    "    format=\"%(levelname)s: %(message)s\"\n",
    ")\n",
    "\n",
    "logging.info(\"Program started successfully.\")\n",
    "try:\n",
    "    result = 10 / 0\n",
    "except ZeroDivisionError as e:\n",
    "    logging.error(f\"An error occurred: {e}\")\n"
   ]
  },
  {
   "cell_type": "markdown",
   "id": "57bcb391-8703-4e05-8bc9-715d5f6fde84",
   "metadata": {},
   "source": [
    "####\n",
    "### 15. Write a Python program that prints the content of a file and handles the case when the file is empty. "
   ]
  },
  {
   "cell_type": "code",
   "execution_count": 15,
   "id": "b8eb38b3-abbf-4dc1-af4c-6972d235b11d",
   "metadata": {},
   "outputs": [
    {
     "name": "stdout",
     "output_type": "stream",
     "text": [
      "Hello, Python!\n",
      "This is new appended text.\n"
     ]
    }
   ],
   "source": [
    "try:\n",
    "    with open(\"file.txt\", \"r\") as f:\n",
    "        content = f.read()\n",
    "        if content.strip():  # Check if not empty after removing spaces/newlines\n",
    "            print(content)\n",
    "        else:\n",
    "            print(\"The file is empty.\")\n",
    "except FileNotFoundError:\n",
    "    print(\"Error: File not found.\")\n"
   ]
  },
  {
   "cell_type": "markdown",
   "id": "1ef00214-f2d4-4fde-860c-dc62c4896964",
   "metadata": {},
   "source": [
    "####\n",
    "### 16. Demonstrate how to use memory profiling to check the memory usage of a small program."
   ]
  },
  {
   "cell_type": "code",
   "execution_count": 16,
   "id": "0253711c-46b0-45cd-a65e-a66ef536b7e2",
   "metadata": {},
   "outputs": [
    {
     "name": "stdout",
     "output_type": "stream",
     "text": [
      "ERROR: Could not find file C:\\Users\\Ankit Ghosal\\AppData\\Local\\Temp\\ipykernel_19852\\2354653472.py\n",
      "Sum: 4999950000\n"
     ]
    }
   ],
   "source": [
    "from memory_profiler import profile\n",
    "\n",
    "@profile\n",
    "def my_program():\n",
    "    data = [i for i in range(100000)]\n",
    "    total = sum(data)\n",
    "    print(\"Sum:\", total)\n",
    "\n",
    "if __name__ == \"__main__\":\n",
    "    my_program()"
   ]
  },
  {
   "cell_type": "markdown",
   "id": "2fb8e73c-31cb-44fc-afb9-4ec0818f7798",
   "metadata": {},
   "source": [
    "####\n",
    "### 17.  Write a Python program to create and write a list of numbers to a file, one number per line."
   ]
  },
  {
   "cell_type": "code",
   "execution_count": 17,
   "id": "b4704f98-b856-48b1-8ad8-db469ac446eb",
   "metadata": {},
   "outputs": [],
   "source": [
    "numbers = [10, 20, 30, 40, 50]\n",
    "\n",
    "with open(\"numbers.txt\", \"w\") as f:\n",
    "    for num in numbers:\n",
    "        f.write(str(num) + \"\\n\")\n"
   ]
  },
  {
   "cell_type": "markdown",
   "id": "192486f3-b923-4b75-a92f-1f99517f9e30",
   "metadata": {},
   "source": [
    "####\n",
    "### 18.  How would you implement a basic logging setup that logs to a file with rotation after 1MB ?"
   ]
  },
  {
   "cell_type": "code",
   "execution_count": 18,
   "id": "aedb8387-428b-406a-97a6-d0717b3267bb",
   "metadata": {},
   "outputs": [],
   "source": [
    "import logging\n",
    "from logging.handlers import RotatingFileHandler\n",
    "\n",
    "# Set up rotating log handler\n",
    "handler = RotatingFileHandler(\n",
    "    \"app.log\", maxBytes=1_000_000, backupCount=3\n",
    ")\n",
    "\n",
    "logging.basicConfig(\n",
    "    level=logging.INFO,\n",
    "    format=\"%(asctime)s - %(levelname)s - %(message)s\",\n",
    "    handlers=[handler]\n",
    ")\n",
    "\n",
    "# Example logs\n",
    "for i in range(10000):\n",
    "    logging.info(f\"Log entry {i}\")\n"
   ]
  },
  {
   "cell_type": "markdown",
   "id": "232f7339-15be-4383-b28c-dd42a397d6cd",
   "metadata": {},
   "source": [
    "####\n",
    "### 19. Write a program that handles both IndexError and KeyError using a try-except block."
   ]
  },
  {
   "cell_type": "code",
   "execution_count": 19,
   "id": "a63ecab3-64d3-4ba5-ab6c-3b809e2fb8aa",
   "metadata": {},
   "outputs": [
    {
     "name": "stdout",
     "output_type": "stream",
     "text": [
      "Error: List index out of range.\n"
     ]
    }
   ],
   "source": [
    "data_list = [1, 2, 3]\n",
    "data_dict = {\"name\": \"Alice\"}\n",
    "\n",
    "try:\n",
    "    print(data_list[5])       # Will cause IndexError\n",
    "    print(data_dict[\"age\"])   # Will cause KeyError\n",
    "except IndexError:\n",
    "    print(\"Error: List index out of range.\")\n",
    "except KeyError:\n",
    "    print(\"Error: Key not found in dictionary.\")\n"
   ]
  },
  {
   "cell_type": "markdown",
   "id": "60d1ce8d-852c-46ad-a6d0-fb25d0868435",
   "metadata": {},
   "source": [
    "####\n",
    "### 20. How would you open a file and read its contents using a context manager in Python ?"
   ]
  },
  {
   "cell_type": "code",
   "execution_count": 20,
   "id": "c9fb0f44-f678-4c38-83d6-28a20bae8803",
   "metadata": {},
   "outputs": [
    {
     "name": "stdout",
     "output_type": "stream",
     "text": [
      "Hello, Python!\n",
      "This is new appended text.\n"
     ]
    }
   ],
   "source": [
    "with open(\"file.txt\", \"r\") as f:\n",
    "    content = f.read()\n",
    "    print(content)\n"
   ]
  },
  {
   "cell_type": "markdown",
   "id": "1465c0f9-a91f-46e0-af8b-780afd810f16",
   "metadata": {},
   "source": [
    "####\n",
    "### 21. Write a Python program that reads a file and prints the number of occurrences of a specific word."
   ]
  },
  {
   "cell_type": "code",
   "execution_count": 21,
   "id": "c1ef1050-f8ca-440e-9130-60955d943d8f",
   "metadata": {},
   "outputs": [
    {
     "name": "stdout",
     "output_type": "stream",
     "text": [
      "The word 'python' occurs 1 times.\n"
     ]
    }
   ],
   "source": [
    "word_to_count = \"python\"\n",
    "\n",
    "with open(\"file.txt\", \"r\") as f:\n",
    "    content = f.read().lower()\n",
    "    count = content.count(word_to_count.lower())\n",
    "\n",
    "print(f\"The word '{word_to_count}' occurs {count} times.\")\n"
   ]
  },
  {
   "cell_type": "markdown",
   "id": "b849a4ed-5df3-443d-af76-8eb738484307",
   "metadata": {},
   "source": [
    "####\n",
    "### 22. How can you check if a file is empty before attempting to read its contents ?"
   ]
  },
  {
   "cell_type": "code",
   "execution_count": 22,
   "id": "2425d114-beb0-45d9-921c-5544c5f56a14",
   "metadata": {},
   "outputs": [
    {
     "name": "stdout",
     "output_type": "stream",
     "text": [
      "Hello, Python!\n",
      "This is new appended text.\n"
     ]
    }
   ],
   "source": [
    "import os\n",
    "\n",
    "file_path = \"file.txt\"\n",
    "\n",
    "if os.path.exists(file_path) and os.path.getsize(file_path) > 0:\n",
    "    with open(file_path, \"r\") as f:\n",
    "        print(f.read())\n",
    "else:\n",
    "    print(\"The file is empty or does not exist.\")\n"
   ]
  },
  {
   "cell_type": "markdown",
   "id": "914eca3b-4cd0-4701-a8b7-14915b067d23",
   "metadata": {},
   "source": [
    "####\n",
    "### 23. Write a Python program that writes to a log file when an error occurs during file handling."
   ]
  },
  {
   "cell_type": "code",
   "execution_count": 23,
   "id": "4b101ec0-e61e-438f-98a6-71b64de61c16",
   "metadata": {},
   "outputs": [],
   "source": [
    "import logging\n",
    "\n",
    "# Configure logging to write to a file\n",
    "logging.basicConfig(filename=\"file_errors.log\", level=logging.ERROR,\n",
    "                    format=\"%(asctime)s - %(levelname)s - %(message)s\")\n",
    "\n",
    "try:\n",
    "    with open(\"nonexistent.txt\", \"r\") as f:\n",
    "        content = f.read()\n",
    "except FileNotFoundError as e:\n",
    "    logging.error(f\"File not found: {e}\")\n"
   ]
  }
 ],
 "metadata": {
  "kernelspec": {
   "display_name": "Python 3 (ipykernel)",
   "language": "python",
   "name": "python3"
  },
  "language_info": {
   "codemirror_mode": {
    "name": "ipython",
    "version": 3
   },
   "file_extension": ".py",
   "mimetype": "text/x-python",
   "name": "python",
   "nbconvert_exporter": "python",
   "pygments_lexer": "ipython3",
   "version": "3.13.3"
  }
 },
 "nbformat": 4,
 "nbformat_minor": 5
}
