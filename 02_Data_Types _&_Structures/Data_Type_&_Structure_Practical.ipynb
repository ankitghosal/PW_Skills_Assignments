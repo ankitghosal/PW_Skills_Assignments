{
 "cells": [
  {
   "cell_type": "markdown",
   "id": "30f6ef18-e3d9-4627-93a2-27e8c0acf684",
   "metadata": {},
   "source": [
    "## Practical Questions"
   ]
  },
  {
   "cell_type": "markdown",
   "id": "f973234c-462a-482e-bfd4-38cacdd27978",
   "metadata": {},
   "source": [
    "### 1. Write a code to create a string with your name and print it."
   ]
  },
  {
   "cell_type": "code",
   "execution_count": 1,
   "id": "d4e6cccc-134d-4037-96b8-ea1422825eb1",
   "metadata": {},
   "outputs": [
    {
     "name": "stdout",
     "output_type": "stream",
     "text": [
      "My name is  Ankit\n"
     ]
    }
   ],
   "source": [
    "name = 'Ankit'\n",
    "print ('My name is ', name)"
   ]
  },
  {
   "cell_type": "markdown",
   "id": "01f3599f-2cce-452c-a9a0-555bee20f886",
   "metadata": {},
   "source": [
    "####\n",
    "### 2. Write a code to find the length of the string \"Hello World\"."
   ]
  },
  {
   "cell_type": "code",
   "execution_count": 3,
   "id": "46ed6f1c-bd0f-451a-8f2c-e4d0a243203b",
   "metadata": {},
   "outputs": [
    {
     "data": {
      "text/plain": [
       "11"
      ]
     },
     "execution_count": 3,
     "metadata": {},
     "output_type": "execute_result"
    }
   ],
   "source": [
    "str = \"Hello World\"\n",
    "len(str)"
   ]
  },
  {
   "cell_type": "markdown",
   "id": "1e10c207-5254-4bd3-9891-6171e0fc32c4",
   "metadata": {},
   "source": [
    "####\n",
    "### 3. Write a code to slice the first 3 characters from the string \"Python Programming\"."
   ]
  },
  {
   "cell_type": "code",
   "execution_count": 4,
   "id": "96caf9a6-9de1-448c-8f01-7f44ecc3407a",
   "metadata": {},
   "outputs": [
    {
     "name": "stdout",
     "output_type": "stream",
     "text": [
      "Pyt\n"
     ]
    }
   ],
   "source": [
    "str = \"Python Programming\"\n",
    "sliced = str[:3]\n",
    "print(sliced)"
   ]
  },
  {
   "cell_type": "markdown",
   "id": "e67b2a10-553b-441d-a29b-5595776a9053",
   "metadata": {},
   "source": [
    "####\n",
    "### 4. Write a code to convert the string \"hello\" to uppercase."
   ]
  },
  {
   "cell_type": "code",
   "execution_count": 6,
   "id": "2727bf90-1d3d-4739-a486-bff3baf2a813",
   "metadata": {},
   "outputs": [
    {
     "data": {
      "text/plain": [
       "'HELLO'"
      ]
     },
     "execution_count": 6,
     "metadata": {},
     "output_type": "execute_result"
    }
   ],
   "source": [
    "str = \"hello\"\n",
    "str.upper()"
   ]
  },
  {
   "cell_type": "markdown",
   "id": "48f40e26-3d43-4f7f-9546-51f09f9d0e76",
   "metadata": {},
   "source": [
    "####\n",
    "### 5. Write a code to replace the word \"apple\" with \"orange\" in the string \"I like apple."
   ]
  },
  {
   "cell_type": "code",
   "execution_count": 9,
   "id": "8dcf1a90-d3d8-445c-a373-993d29794fa5",
   "metadata": {},
   "outputs": [
    {
     "data": {
      "text/plain": [
       "'I like orange'"
      ]
     },
     "execution_count": 9,
     "metadata": {},
     "output_type": "execute_result"
    }
   ],
   "source": [
    "str = \"I like apple\"\n",
    "str.replace('apple', 'orange')"
   ]
  },
  {
   "cell_type": "markdown",
   "id": "e535e929-fd48-49ec-81c6-56a2a156e7d8",
   "metadata": {},
   "source": [
    "####\n",
    "### 6. Write a code to create a list with numbers 1 to 5 and print it."
   ]
  },
  {
   "cell_type": "code",
   "execution_count": 10,
   "id": "ca927ad9-a068-4281-99b0-b5e4e342f775",
   "metadata": {},
   "outputs": [
    {
     "name": "stdout",
     "output_type": "stream",
     "text": [
      "1\n",
      "2\n",
      "3\n",
      "4\n",
      "5\n"
     ]
    }
   ],
   "source": [
    "for i in range(1,6):\n",
    "    print(i)"
   ]
  },
  {
   "cell_type": "markdown",
   "id": "73e5a1a4-aa4d-4740-8c38-6c0e33d893e1",
   "metadata": {},
   "source": [
    "####\n",
    "### 7.  Write a code to append the number 10 to the list [1, 2, 3, 4]."
   ]
  },
  {
   "cell_type": "code",
   "execution_count": 14,
   "id": "133aca01-cf8b-47d7-a481-326a97a3d1df",
   "metadata": {},
   "outputs": [
    {
     "name": "stdout",
     "output_type": "stream",
     "text": [
      "[1, 2, 3, 4, 10]\n"
     ]
    }
   ],
   "source": [
    "l1 = [1,2,3,4]\n",
    "l1.append(10)\n",
    "print(l1)"
   ]
  },
  {
   "cell_type": "markdown",
   "id": "1bad2f69-d6a9-4d16-b48b-bcd23a3f9217",
   "metadata": {},
   "source": [
    "####\n",
    "### 8. Write a code to remove the number 3 from the list [1, 2, 3, 4, 5]."
   ]
  },
  {
   "cell_type": "code",
   "execution_count": 16,
   "id": "3d7e5718-13f5-40f6-8ee3-9f3a71a82183",
   "metadata": {},
   "outputs": [
    {
     "name": "stdout",
     "output_type": "stream",
     "text": [
      "[1, 2, 4, 5]\n"
     ]
    }
   ],
   "source": [
    "l1 = [1,2,3,4,5]\n",
    "l1.remove(3)\n",
    "print(l1)"
   ]
  },
  {
   "cell_type": "markdown",
   "id": "c9a4f28d-8d34-4a13-b3ae-3a7717fcb020",
   "metadata": {},
   "source": [
    "####\n",
    "### 9.  Write a code to access the second element in the list ['a', 'b', 'c', 'd']."
   ]
  },
  {
   "cell_type": "code",
   "execution_count": 17,
   "id": "8e0ebb3f-3321-4f5e-9b5f-d0b18e15e808",
   "metadata": {},
   "outputs": [
    {
     "name": "stdout",
     "output_type": "stream",
     "text": [
      "b\n"
     ]
    }
   ],
   "source": [
    "l1 = ['a', 'b', 'c', 'd']\n",
    "print(l1[1])"
   ]
  },
  {
   "cell_type": "markdown",
   "id": "a28b92e8-2471-4384-a86d-34a7149151a7",
   "metadata": {},
   "source": [
    "####\n",
    "### 10. Write a code to reverse the list [10, 20, 30, 40, 50]."
   ]
  },
  {
   "cell_type": "code",
   "execution_count": 22,
   "id": "146b12ec-ced4-467a-8a13-219bfbe60650",
   "metadata": {},
   "outputs": [
    {
     "name": "stdout",
     "output_type": "stream",
     "text": [
      "[50, 40, 30, 20, 10]\n"
     ]
    },
    {
     "data": {
      "text/plain": [
       "[50, 40, 30, 20, 10]"
      ]
     },
     "execution_count": 22,
     "metadata": {},
     "output_type": "execute_result"
    }
   ],
   "source": [
    "l1 = [10, 20, 30, 40, 50]\n",
    "l1.reverse()\n",
    "print(l1)\n",
    "\n",
    "l2 = [10, 20, 30, 40, 50]\n",
    "l2[::-1]"
   ]
  },
  {
   "cell_type": "markdown",
   "id": "46168d1e-3c65-409e-8e5a-b8a0faa1be4f",
   "metadata": {},
   "source": [
    "####\n",
    "### 11. Write a code to create a tuple with the elements 100, 200, 300 and print it."
   ]
  },
  {
   "cell_type": "code",
   "execution_count": 23,
   "id": "a9762c14-df0a-4d8f-8a9c-eb501d8aeb5a",
   "metadata": {},
   "outputs": [
    {
     "name": "stdout",
     "output_type": "stream",
     "text": [
      "(100, 200, 300)\n"
     ]
    }
   ],
   "source": [
    "l = (100,200,300)\n",
    "print(l)"
   ]
  },
  {
   "cell_type": "markdown",
   "id": "30413689-d9ab-4a97-84f2-32d1d6362702",
   "metadata": {},
   "source": [
    "####\n",
    "### 12. Write a code to access the second-to-last element of the tuple ('red', 'green', 'blue', 'yellow')."
   ]
  },
  {
   "cell_type": "code",
   "execution_count": 24,
   "id": "8a6027f9-6bbc-4cb5-9afe-24692d89bbca",
   "metadata": {},
   "outputs": [
    {
     "name": "stdout",
     "output_type": "stream",
     "text": [
      "blue\n"
     ]
    }
   ],
   "source": [
    "my_tuple = ('red', 'green', 'blue', 'yellow')\n",
    "print(my_tuple[-2])"
   ]
  },
  {
   "cell_type": "markdown",
   "id": "940e5c9c-e4ba-4fe8-bcf1-cacca4e13a65",
   "metadata": {},
   "source": [
    "####\n",
    "### 13. Write a code to find the minimum number in the tuple (10, 20, 5, 15)."
   ]
  },
  {
   "cell_type": "code",
   "execution_count": 26,
   "id": "2dceee19-74c5-4b3f-b388-f62ec369a20d",
   "metadata": {},
   "outputs": [
    {
     "name": "stdout",
     "output_type": "stream",
     "text": [
      "5\n"
     ]
    }
   ],
   "source": [
    "l1 = (10,20,5,15)\n",
    "print(min(l1))"
   ]
  },
  {
   "cell_type": "markdown",
   "id": "89017e31-e4ea-4adf-bc77-b302a882a1e6",
   "metadata": {},
   "source": [
    "####\n",
    "### 14. Write a code to find the index of the element \"cat\" in the tuple ('dog', 'cat', 'rabbit')."
   ]
  },
  {
   "cell_type": "code",
   "execution_count": 27,
   "id": "23fcb2a9-9538-46d0-847a-4edb941fc398",
   "metadata": {},
   "outputs": [
    {
     "name": "stdout",
     "output_type": "stream",
     "text": [
      "1\n"
     ]
    }
   ],
   "source": [
    "animals = ('dog', 'cat', 'rabbit')\n",
    "index = animals.index('cat')\n",
    "print(index)"
   ]
  },
  {
   "cell_type": "markdown",
   "id": "da67dead-1fe2-406f-a476-a2d966c435ff",
   "metadata": {},
   "source": [
    "####\n",
    "### 15.  Write a code to create a tuple containing three different fruits and check if \"kiwi\" is in it."
   ]
  },
  {
   "cell_type": "code",
   "execution_count": 31,
   "id": "7e92ebe9-0c9c-40ab-8264-47b471e2b21d",
   "metadata": {},
   "outputs": [
    {
     "name": "stdout",
     "output_type": "stream",
     "text": [
      "True\n"
     ]
    }
   ],
   "source": [
    "fruits = ('apple', 'orange', 'kiwi', 'dragon fruit')\n",
    "print('kiwi' in fruits)"
   ]
  },
  {
   "cell_type": "markdown",
   "id": "6fc31966-ef19-402d-be13-f4802edb4ab4",
   "metadata": {},
   "source": [
    "####\n",
    "###  16. Write a code to create a set with the elements 'a', 'b', 'c' and print it."
   ]
  },
  {
   "cell_type": "code",
   "execution_count": 32,
   "id": "d35b00d3-fa9b-4868-839b-300a67ea168b",
   "metadata": {},
   "outputs": [
    {
     "name": "stdout",
     "output_type": "stream",
     "text": [
      "{'a', 'c', 'b'}\n"
     ]
    }
   ],
   "source": [
    "my_set = {'a','b','c'}\n",
    "print(my_set)"
   ]
  },
  {
   "cell_type": "markdown",
   "id": "090c2bac-fe42-4cbd-a9c9-9213b19b6bf6",
   "metadata": {},
   "source": [
    "####\n",
    "### 17. Write a code to clear all elements from the set {1, 2, 3, 4, 5}. "
   ]
  },
  {
   "cell_type": "code",
   "execution_count": 33,
   "id": "721f5223-e1a9-4cbe-8c1b-62521b2953a4",
   "metadata": {},
   "outputs": [
    {
     "name": "stdout",
     "output_type": "stream",
     "text": [
      "set()\n"
     ]
    }
   ],
   "source": [
    "my_set = {1, 2, 3, 4, 5}\n",
    "my_set.clear()\n",
    "print(my_set)"
   ]
  },
  {
   "cell_type": "markdown",
   "id": "cd07bf71-0e90-4479-9243-0d20f389ee85",
   "metadata": {},
   "source": [
    "####\n",
    "### 18.  Write a code to remove the element 4 from the set {1, 2, 3, 4}."
   ]
  },
  {
   "cell_type": "code",
   "execution_count": 36,
   "id": "17be80c8-07f9-45b2-a38e-0e293b194d99",
   "metadata": {},
   "outputs": [
    {
     "name": "stdout",
     "output_type": "stream",
     "text": [
      "{1, 2, 3}\n"
     ]
    }
   ],
   "source": [
    "s = {1, 2, 3, 4}\n",
    "s.remove(4)\n",
    "print(s)"
   ]
  },
  {
   "cell_type": "markdown",
   "id": "3e6bae19-a33c-4fbf-9a71-ce6735f03004",
   "metadata": {},
   "source": [
    "####\n",
    "### 19. Write a code to find the union of two sets {1, 2, 3} and {3, 4, 5}."
   ]
  },
  {
   "cell_type": "code",
   "execution_count": 38,
   "id": "19783790-f3b7-4cee-8c0b-8a1e7435f938",
   "metadata": {},
   "outputs": [
    {
     "name": "stdout",
     "output_type": "stream",
     "text": [
      "{1, 2, 3, 4, 5}\n"
     ]
    }
   ],
   "source": [
    "s1 = {1, 2, 3}\n",
    "s2 = {3, 4, 5}\n",
    "\n",
    "union_set = s1 | s2\n",
    "print(union_set)"
   ]
  },
  {
   "cell_type": "markdown",
   "id": "1465bf4a-4fee-4ca9-bd6c-8ff69914f337",
   "metadata": {},
   "source": [
    "####\n",
    "### 20.  Write a code to find the intersection of two sets {1, 2, 3} and {2, 3, 4}."
   ]
  },
  {
   "cell_type": "code",
   "execution_count": 39,
   "id": "5d0c0e62-eb07-4d82-8c43-b64599ca8e71",
   "metadata": {},
   "outputs": [
    {
     "name": "stdout",
     "output_type": "stream",
     "text": [
      "{2, 3}\n"
     ]
    }
   ],
   "source": [
    "s1 = {1, 2, 3}\n",
    "s2 = {2, 3, 4}\n",
    "\n",
    "intersection_set = s1 & s2\n",
    "print(intersection_set)"
   ]
  },
  {
   "cell_type": "markdown",
   "id": "2b7ed339-9ae1-41e0-8fc4-147df2504aee",
   "metadata": {},
   "source": [
    "####\n",
    "### 21.  Write a code to create a dictionary with the keys \"name\", \"age\", and \"city\", and print it."
   ]
  },
  {
   "cell_type": "code",
   "execution_count": 40,
   "id": "8ee0684b-3fe9-46fb-b6f2-04efff828cfe",
   "metadata": {},
   "outputs": [
    {
     "name": "stdout",
     "output_type": "stream",
     "text": [
      "{'name': 'Ankit', 'age': 27, 'city': 'Kolkata'}\n"
     ]
    }
   ],
   "source": [
    "my_dict = {\n",
    "    'name': 'Ankit',\n",
    "    'age': 27,\n",
    "    'city': 'Kolkata'\n",
    "}\n",
    "print(my_dict)"
   ]
  },
  {
   "cell_type": "markdown",
   "id": "29c1d1d8-68e5-4e43-8679-a3478bad762c",
   "metadata": {},
   "source": [
    "####\n",
    "### 22. Write a code to add a new key-value pair \"country\": \"USA\" to the dictionary {'name': 'John', 'age': 25}."
   ]
  },
  {
   "cell_type": "code",
   "execution_count": 41,
   "id": "eb945f0d-364e-46f9-8bb7-eb122186fe24",
   "metadata": {},
   "outputs": [
    {
     "name": "stdout",
     "output_type": "stream",
     "text": [
      "{'name': 'John', 'age': 25, 'country': 'USA'}\n"
     ]
    }
   ],
   "source": [
    "dict1 = {\n",
    "    'name': 'John',\n",
    "    'age': 25\n",
    "}\n",
    "\n",
    "dict1['country'] = 'USA'\n",
    "print(dict1)"
   ]
  },
  {
   "cell_type": "markdown",
   "id": "9e5c9cc8-09ea-4569-aa08-d7efbbdc4f07",
   "metadata": {},
   "source": [
    "####\n",
    "### 23.  Write a code to access the value associated with the key \"name\" in the dictionary {'name': 'Alice', 'age': 30}."
   ]
  },
  {
   "cell_type": "code",
   "execution_count": 42,
   "id": "a6e5d28c-a07c-4365-893a-02edcad68e4c",
   "metadata": {},
   "outputs": [
    {
     "name": "stdout",
     "output_type": "stream",
     "text": [
      "Alice\n"
     ]
    }
   ],
   "source": [
    "dict1 = {'name': 'Alice', 'age': 30}\n",
    "print(dict1['name'])"
   ]
  },
  {
   "cell_type": "markdown",
   "id": "a030c1df-50f5-4f4b-93d7-a9435e355493",
   "metadata": {},
   "source": [
    "####\n",
    "### 24.  Write a code to remove the key \"age\" from the dictionary {'name': 'Bob', 'age': 22, 'city': 'New York'}"
   ]
  },
  {
   "cell_type": "code",
   "execution_count": 44,
   "id": "2fe91bfd-603b-4f29-b9f9-7fb043a17ce6",
   "metadata": {},
   "outputs": [
    {
     "name": "stdout",
     "output_type": "stream",
     "text": [
      "{'name': 'Bob', 'city': 'New York'}\n"
     ]
    }
   ],
   "source": [
    "my_d = {'name': 'Bob', 'age': 22, 'city': 'New York'}\n",
    "my_d.pop('age')\n",
    "print(my_d)"
   ]
  },
  {
   "cell_type": "markdown",
   "id": "a068b6cb-2837-4ae7-8f59-bcada9a3db4d",
   "metadata": {},
   "source": [
    "####\n",
    "### 25.  Write a code to check if the key \"city\" exists in the dictionary {'name': 'Alice', 'city': 'Paris'}."
   ]
  },
  {
   "cell_type": "code",
   "execution_count": 46,
   "id": "8b6601de-f9e1-45e6-85db-9b02277d2088",
   "metadata": {},
   "outputs": [
    {
     "name": "stdout",
     "output_type": "stream",
     "text": [
      "True\n"
     ]
    }
   ],
   "source": [
    "dic2 = {'name': 'Alice', 'city': 'Paris'}\n",
    "print('city' in dic2)"
   ]
  },
  {
   "cell_type": "markdown",
   "id": "22d4c6ab-d786-4678-9c53-1a4fb8bf247b",
   "metadata": {},
   "source": [
    "####\n",
    "### 26.  Write a code to create a list, a tuple, and a dictionary, and print them all."
   ]
  },
  {
   "cell_type": "code",
   "execution_count": 47,
   "id": "a4a66c98-5c9b-410c-9363-9a19679a1614",
   "metadata": {},
   "outputs": [
    {
     "name": "stdout",
     "output_type": "stream",
     "text": [
      "List: [1, 2, 3]\n",
      "Tuple: ('a', 'b', 'c')\n",
      "Dictionary: {'name': 'Alice', 'age': 25}\n"
     ]
    }
   ],
   "source": [
    "my_list = [1, 2, 3]\n",
    "\n",
    "my_tuple = ('a', 'b', 'c')\n",
    "\n",
    "my_dict = {'name': 'Alice', 'age': 25}\n",
    "\n",
    "print(\"List:\", my_list)\n",
    "print(\"Tuple:\", my_tuple)\n",
    "print(\"Dictionary:\", my_dict)"
   ]
  },
  {
   "cell_type": "markdown",
   "id": "296c24ec-e14d-4ae9-827c-a7947cd0a2ef",
   "metadata": {},
   "source": [
    "####\n",
    "### 27.  Write a code to create a list of 5 random numbers between 1 and 100, sort it in ascending order, and print the result.(replaced)"
   ]
  },
  {
   "cell_type": "code",
   "execution_count": 53,
   "id": "e71623c1-0657-49a7-abca-8f6c6a032ea6",
   "metadata": {},
   "outputs": [
    {
     "name": "stdout",
     "output_type": "stream",
     "text": [
      "Sorted List:  [14, 19, 52, 81, 88]\n"
     ]
    }
   ],
   "source": [
    "import random \n",
    "\n",
    "list1 = [random.randint(1,100) for i in range(5) ]\n",
    "list1.sort()\n",
    "\n",
    "print('Sorted List: ', list1)"
   ]
  },
  {
   "cell_type": "markdown",
   "id": "21f3888b-d965-402e-8279-751a1004b13f",
   "metadata": {},
   "source": [
    "####\n",
    "### 28. Write a code to create a list with strings and print the element at the third index."
   ]
  },
  {
   "cell_type": "code",
   "execution_count": 55,
   "id": "876fdd1a-3cda-43b5-b233-270d2c8c3aa6",
   "metadata": {},
   "outputs": [
    {
     "name": "stdout",
     "output_type": "stream",
     "text": [
      "Suresh\n"
     ]
    }
   ],
   "source": [
    "str1 = ['Ankit', 'Raju', 'Viswanathan', 'Suresh']\n",
    "print(str1[3])"
   ]
  },
  {
   "cell_type": "markdown",
   "id": "1d17f27e-0fb7-44e2-a4b2-64c665e46f7d",
   "metadata": {},
   "source": [
    "####\n",
    "### 29. Write a code to combine two dictionaries into one and print the result."
   ]
  },
  {
   "cell_type": "code",
   "execution_count": 56,
   "id": "d56bebef-2fc5-4b6e-b941-ee37d523f635",
   "metadata": {},
   "outputs": [
    {
     "name": "stdout",
     "output_type": "stream",
     "text": [
      "{'a': 1, 'b': 2, 'c': 3, 'd': 4}\n"
     ]
    }
   ],
   "source": [
    "dict1 = {'a': 1, 'b': 2}\n",
    "dict2 = {'c': 3, 'd': 4}\n",
    "\n",
    "combined = dict1 | dict2\n",
    "print(combined)"
   ]
  },
  {
   "cell_type": "markdown",
   "id": "70fd96dd-4929-4603-8ba3-3cb02ea2d64e",
   "metadata": {},
   "source": [
    "####\n",
    "### 30. Write a code to convert a list of strings into a set."
   ]
  },
  {
   "cell_type": "code",
   "execution_count": 59,
   "id": "8b8a54b5-05e6-4114-a3dc-cedb4fc19645",
   "metadata": {},
   "outputs": [
    {
     "name": "stdout",
     "output_type": "stream",
     "text": [
      "{'Raju', 'Ankit', 'Viswanathan', 'Suresh'}\n"
     ]
    }
   ],
   "source": [
    "str1 = ['Ankit', 'Raju', 'Viswanathan', 'Suresh', 'Raju', 'Suresh']\n",
    "set1 = set(str1)\n",
    "print(set1)"
   ]
  }
 ],
 "metadata": {
  "kernelspec": {
   "display_name": "Python 3 (ipykernel)",
   "language": "python",
   "name": "python3"
  },
  "language_info": {
   "codemirror_mode": {
    "name": "ipython",
    "version": 3
   },
   "file_extension": ".py",
   "mimetype": "text/x-python",
   "name": "python",
   "nbconvert_exporter": "python",
   "pygments_lexer": "ipython3",
   "version": "3.13.3"
  }
 },
 "nbformat": 4,
 "nbformat_minor": 5
}
