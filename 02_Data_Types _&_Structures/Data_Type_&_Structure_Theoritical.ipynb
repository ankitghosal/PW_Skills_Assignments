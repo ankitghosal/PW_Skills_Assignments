{
 "cells": [
  {
   "cell_type": "markdown",
   "id": "60d5c11f-fc0f-4ebe-81b7-c8f9726c4854",
   "metadata": {},
   "source": [
    "## Theoretical Questions"
   ]
  },
  {
   "cell_type": "markdown",
   "id": "620b0752-2cb3-49d0-989d-790dda06699a",
   "metadata": {},
   "source": [
    "### 1. What are data structures and why are they important ?"
   ]
  },
  {
   "cell_type": "markdown",
   "id": "1d98c94c-f10b-4180-80d0-1b6096f42675",
   "metadata": {},
   "source": [
    "#### Definniton :\n",
    "&emspData Structures are specialized formats used to organize, manage and store data in a computer so that it can be used efficiently.\n",
    "\n",
    "#### Their Importance :\n",
    "1. Efficiency : They help in writing efficient algoriths by minimizing time and space complexity.<br>\n",
    "2. Performance Optimization : Choosing the right data structure improves program performance.<br>\n",
    "3. Data Management : Essential for organizing data logically (eg, databases, File system.)"
   ]
  },
  {
   "cell_type": "markdown",
   "id": "befd6711-94be-48e1-817c-bb776195555f",
   "metadata": {},
   "source": [
    "#### \n",
    "### 2. Explain the difference between mutable and immutable data types with examples."
   ]
  },
  {
   "cell_type": "markdown",
   "id": "f108d122-9d02-496b-9d60-5d229f6cbfb8",
   "metadata": {},
   "source": [
    "Mutable Data Types : <br>\n",
    "Mutable data types can be changed after they are created. Like add, moidify, remove elements without changing momory location.<br>\n",
    "Examples :  List, Dictionary, Set\n",
    "<br><br>\n",
    "Immutable Data Types :<br>\n",
    "Immutable objects can not be changed after they are created. Any modification will create new object with seperate memory location.<br>\n",
    " Examples : Integer, Float, String, Tuple, Boolean"
   ]
  },
  {
   "cell_type": "markdown",
   "id": "2e89658d-2e5c-4461-905b-1a7cd0563aaf",
   "metadata": {},
   "source": [
    "####\n",
    "### 3.What are the main differences between lists and tuples in Python ?"
   ]
  },
  {
   "cell_type": "markdown",
   "id": "131f6137-310d-4801-a2ff-5ac894fc0b6e",
   "metadata": {},
   "source": [
    "|Feature|List|Tuple|\n",
    "|---|---|---|\n",
    "|Mutability| ✅ Mutable (can be changed)| ❌ Immutable (cannot be changed)|\n",
    "|Syntax| [1,2,3]| (1,2,3)|\n",
    "|Memory Usage| More memory| Less memory|\n",
    "|Use Case| when data may change| When data is fixed|"
   ]
  },
  {
   "cell_type": "markdown",
   "id": "988b28dc-e2f6-4fbd-a2cb-48f74e388661",
   "metadata": {},
   "source": [
    "####\n",
    "### 4. Describe how dictionaries store data."
   ]
  },
  {
   "cell_type": "markdown",
   "id": "716a553a-4778-4013-be7c-54b2adbdc118",
   "metadata": {},
   "source": [
    "A dictionary stores data as key-value pairs, like this:<br>\n",
    "person = {\n",
    "    \"name\": \"Alice\",\n",
    "    \"age\": 30,\n",
    "    \"city\": \"New York\"\n",
    "}"
   ]
  },
  {
   "cell_type": "markdown",
   "id": "91c5493a-57db-4fec-95cc-fc6b879153a6",
   "metadata": {},
   "source": [
    "####\n",
    "### 5.  Why might you use a set instead of a list in Python ?"
   ]
  },
  {
   "cell_type": "markdown",
   "id": "d0d61226-4286-48ff-b586-2b81a60b2f15",
   "metadata": {},
   "source": [
    "* When need to store Unique elements and perform faster checks (in operation).\n",
    "* Sets are also useful for Set operations like Union, Intersections."
   ]
  },
  {
   "cell_type": "markdown",
   "id": "31207989-ec43-45c9-a7ff-53f9fba19ee4",
   "metadata": {},
   "source": [
    "####\n",
    "### 6. What is a string in Python, and how is it different from a list ?"
   ]
  },
  {
   "cell_type": "markdown",
   "id": "0ce76444-1d9b-44cb-87e1-b41f4763cc1a",
   "metadata": {},
   "source": [
    "* 'String' is a sequence of characters used to represent text and is 'immutable'. Strings use quotes ('Hello\").\n",
    "* 'List' is a collection of items (any data type) and is mutable. Lists use square brackets. [1,2,3]"
   ]
  },
  {
   "cell_type": "markdown",
   "id": "79213cf1-7c3e-4cb7-be1a-b42fe44bb4b8",
   "metadata": {},
   "source": [
    "####\n",
    "### 7. How do tuples ensure data integrity in Python"
   ]
  },
  {
   "cell_type": "markdown",
   "id": "514d77c7-f46a-49a6-bdbf-010bd1b84368",
   "metadata": {},
   "source": [
    "Tuples ensure Data integrity by  being Imutable. Once they are created they can't be changed, added or removed. This makes them ideal for storing Fixed, constant data and helps to prevent loss of data."
   ]
  },
  {
   "cell_type": "markdown",
   "id": "a93c0713-b12f-4c8c-8f9d-da502dbd96f8",
   "metadata": {},
   "source": [
    "####\n",
    "### 8. What is a hash table, and how does it relate to dictionaries in Python ?"
   ]
  },
  {
   "cell_type": "markdown",
   "id": "1fb8bfe9-f2ef-47ce-9d09-2139c153ef31",
   "metadata": {},
   "source": [
    "Hash Table is a data structure that stores key-value pairs using a hash function to compute an index for storing values. In python, dictionaries are built on hash tables - they use the hash of the Key to quickly locate and access the associated values. It enables Fast Lookups insertins and deletioons. It's average time complexity is O(1)."
   ]
  },
  {
   "cell_type": "markdown",
   "id": "31e15470-2699-438a-b424-c89d112e3a1d",
   "metadata": {},
   "source": [
    "####\n",
    "### 9. Can lists contain different data types in Python?"
   ]
  },
  {
   "cell_type": "markdown",
   "id": "87fe6ba1-4bf7-420e-8726-058f03cef0eb",
   "metadata": {},
   "source": [
    "Yes"
   ]
  },
  {
   "cell_type": "markdown",
   "id": "59d2a674-92a4-446c-aeb5-64f67f12cb3a",
   "metadata": {},
   "source": [
    "####\n",
    "### 10. Explain why strings are immutable in Python.\n"
   ]
  },
  {
   "cell_type": "markdown",
   "id": "6eafde96-1660-46e0-8e5c-cf58fb6aa7de",
   "metadata": {},
   "source": [
    "Strings are immutable is Python to ensure data safety and security. Once they are created thhey can't be changed. Any modification creates a fresh new string. This design makes strings 'hashable', making them useful as dictionary keys."
   ]
  },
  {
   "cell_type": "markdown",
   "id": "ac00e820-dd92-49bb-9950-61319210864d",
   "metadata": {},
   "source": [
    "####\n",
    "### 11. What advantages do dictionaries offer over lists for certain tasks ?"
   ]
  },
  {
   "cell_type": "markdown",
   "id": "8c015a67-e435-46d1-b623-3633ee009760",
   "metadata": {},
   "source": [
    "\n",
    "* Faster Lookups: accessing values with help of keys is much easier and faster O(1) where as in list it's O(n).\n",
    "* Key based access: Data can be retrieved using keys insetad of numeric indexing.\n",
    "* Unordered data mapping: ideal for storing structured data like connfiguration. records or mapping."
   ]
  },
  {
   "cell_type": "markdown",
   "id": "71f2a96d-5a73-4860-941e-b57ed177311e",
   "metadata": {},
   "source": [
    "####\n",
    "### 12.  Describe a scenario where using a tuple would be preferable over a list."
   ]
  },
  {
   "cell_type": "markdown",
   "id": "831feebf-cd52-4855-a75f-ef134925b5f7",
   "metadata": {},
   "source": [
    "Where we need to store a fixed collection  of calues that should not change. For sotring \n",
    "meteorological data (lattitude, longitude)."
   ]
  },
  {
   "cell_type": "markdown",
   "id": "c763f2e3-0edb-42a3-a57b-f5ad6db9f845",
   "metadata": {},
   "source": [
    "####\n",
    "### 13.  How do sets handle duplicate values in Python?"
   ]
  },
  {
   "cell_type": "markdown",
   "id": "3d449a08-cc88-43ec-b2e8-b97cc0abb3d3",
   "metadata": {},
   "source": [
    "Sets automatically remove all duplicate values, only once instance of each unique value is stored."
   ]
  },
  {
   "cell_type": "markdown",
   "id": "3f3e8ad8-8dde-47c3-8635-7ad4708e35f8",
   "metadata": {},
   "source": [
    "####\n",
    "###  14. How does the “in” keyword work differently for lists and dictionaries ?"
   ]
  },
  {
   "cell_type": "markdown",
   "id": "3a9271b7-fc4c-4b6e-aa91-8b463d680b83",
   "metadata": {},
   "source": [
    "* In list it checks if a value exists.\n",
    "* In dictionary it checks if a key exists."
   ]
  },
  {
   "cell_type": "markdown",
   "id": "98693ffd-57f8-4340-b4f6-2567fead75fe",
   "metadata": {},
   "source": [
    "####\n",
    "### 15. Can you modify the elements of a tuple? Explain why or why not."
   ]
  },
  {
   "cell_type": "markdown",
   "id": "b6e10dc1-ddf3-4dd8-adfa-6103d3299df7",
   "metadata": {},
   "source": [
    "No, we cannot modify elements of a tuple because tuples are immutable in pythhon. Once tuples are  created elements can't be added, changed or removed."
   ]
  },
  {
   "cell_type": "markdown",
   "id": "0f0e1a0b-8b93-4be0-8180-bc133edf9cfe",
   "metadata": {},
   "source": [
    "####\n",
    "### 16. P What is a nested dictionary, and give an example of its use case ?"
   ]
  },
  {
   "cell_type": "markdown",
   "id": "e7aab584-abfc-4c12-b6ce-f52be4ec36bf",
   "metadata": {},
   "source": [
    "Nested dictionary is a dictionary where one or more values are themselves dictionaries. It's used to represent hierarchial or structured data.<br><br>\n",
    "students = {<br>\n",
    "    \"101\": {\"name\": \"Alice\", \"grade\": \"A\"},<br>\n",
    "    \"102\": {\"name\": \"Bob\", \"grade\": \"B\"}<br>\n",
    "}"
   ]
  },
  {
   "cell_type": "markdown",
   "id": "7916af82-7c22-492b-a30e-936eddd1b0ce",
   "metadata": {},
   "source": [
    "####\n",
    "### 17. Describe the time complexity of accessing elements in a dictionary."
   ]
  },
  {
   "cell_type": "markdown",
   "id": "996ff390-ec44-4217-9f0a-198e391b92a0",
   "metadata": {},
   "source": [
    "O(1)"
   ]
  },
  {
   "cell_type": "markdown",
   "id": "1c161895-0d5a-4929-80e9-0dc26e446306",
   "metadata": {},
   "source": [
    "####\n",
    "### 18. In what situations are lists preferred over dictionaries ?"
   ]
  },
  {
   "cell_type": "markdown",
   "id": "631c029e-ab69-42c7-9ebe-a59e20740250",
   "metadata": {},
   "source": [
    "*  when we need to maintain the sequence of items.\n",
    "*  We need indexed access to elements by position.\n",
    "*  When are working with siple collections of data not key-value pairs.\n",
    "*  Duplicates are allowed."
   ]
  },
  {
   "cell_type": "markdown",
   "id": "2c5949ce-138f-418f-9f2a-f409406051f1",
   "metadata": {},
   "source": [
    "####\n",
    "### 19. Why are dictionaries considered unordered, and how does that affect data retrieval?"
   ]
  },
  {
   "cell_type": "markdown",
   "id": "e1bdadb4-a9c8-448b-8990-3f2653793eb1",
   "metadata": {},
   "source": [
    "Dictionaries are considered unordered because they are based on hash tables which store key-value pairs. They don't preserve insertion order  and are not sorted."
   ]
  },
  {
   "cell_type": "markdown",
   "id": "c8e052af-39ce-43ad-8417-39f02d7cdbc5",
   "metadata": {},
   "source": [
    "####\n",
    "### 20. Explain the difference between a list and a dictionary in terms of data retrieval."
   ]
  },
  {
   "cell_type": "markdown",
   "id": "e67aa458-cbfb-4015-a383-8c46f26a1653",
   "metadata": {},
   "source": [
    "* **<u>List</u>:** Data is retrieved using ineger indices (position- based).\n",
    "* **<u>Dictionary</u>:** Data is retrieved using Keys (name-based)."
   ]
  }
 ],
 "metadata": {
  "kernelspec": {
   "display_name": "Python 3 (ipykernel)",
   "language": "python",
   "name": "python3"
  },
  "language_info": {
   "codemirror_mode": {
    "name": "ipython",
    "version": 3
   },
   "file_extension": ".py",
   "mimetype": "text/x-python",
   "name": "python",
   "nbconvert_exporter": "python",
   "pygments_lexer": "ipython3",
   "version": "3.13.3"
  }
 },
 "nbformat": 4,
 "nbformat_minor": 5
}
