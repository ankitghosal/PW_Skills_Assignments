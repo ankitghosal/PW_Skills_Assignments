{
 "cells": [
  {
   "cell_type": "markdown",
   "id": "0574ec8b-bf8d-4ead-94bc-a1b75f696cdc",
   "metadata": {},
   "source": [
    "### Question 1: What is the difference between descriptive statistics and inferential statistics? Explain with examples."
   ]
  },
  {
   "cell_type": "markdown",
   "id": "42a498bb-19eb-4a4c-a094-7b0b61acb096",
   "metadata": {},
   "source": [
    "**Descriptive statistics** and **inferential statistics** are two key branches of statistics, differing in purpose and application:\n",
    "\n",
    "* **Descriptive Statistics**: Summarizes and describes the main features of a dataset without drawing conclusions beyond it. It uses measures like **mean, median, mode, standard deviation, and visualizations** (histograms, boxplots) to present data.\n",
    "\n",
    "  * *Example*: A teacher calculates the **average marks** of students in her class to describe their performance.\n",
    "\n",
    "* **Inferential Statistics**: Goes beyond the given data to make **predictions, generalizations, or decisions** about a larger population, using sampling and probability theory. It involves **hypothesis testing, confidence intervals, and regression**.\n",
    "\n",
    "  * *Example*: A researcher takes a **sample of 100 voters** to infer the **voting preference of the entire city**.\n",
    "\n",
    "👉 In short: **Descriptive = describe what you have**, **Inferential = predict or conclude beyond what you have**.\n",
    "\n",
    "Would you like me to also format this as a **comparison table** for quick revision?\n"
   ]
  },
  {
   "cell_type": "markdown",
   "id": "b286ecad-dace-4969-8811-fd9c06ba7653",
   "metadata": {},
   "source": [
    "####\n",
    "### Question 2: What is sampling in statistics? Explain the differences between random and stratified sampling."
   ]
  },
  {
   "cell_type": "markdown",
   "id": "6cd52c87-d482-4023-b08a-1a273caf0a78",
   "metadata": {},
   "source": [
    "**Sampling** in statistics is the process of selecting a **subset of individuals (sample)** from a larger **population** to draw conclusions or make inferences about the whole population. It is widely used because studying an entire population is often **impractical, costly, or time-consuming**.\n",
    "\n",
    "**Differences between Random Sampling and Stratified Sampling:**\n",
    "\n",
    "| Aspect               | **Random Sampling**                                                           | **Stratified Sampling**                                                                                             |\n",
    "| -------------------- | ----------------------------------------------------------------------------- | ------------------------------------------------------------------------------------------------------------------- |\n",
    "| **Definition**       | Every individual in the population has an **equal chance** of being selected. | The population is divided into **strata (groups)** based on characteristics, and samples are taken from each group. |\n",
    "| **Selection Method** | Purely by chance, using methods like lottery or random number generators.     | Ensures representation from each subgroup, often proportionally.                                                    |\n",
    "| **Use Case**         | Best when the population is **homogeneous**.                                  | Best when the population is **heterogeneous** with distinct subgroups.                                              |\n",
    "| **Example**          | Randomly picking 100 students from a school of 1000.                          | Dividing the school into **grades (strata)** and then sampling students proportionally from each grade.             |\n",
    "\n"
   ]
  },
  {
   "cell_type": "markdown",
   "id": "9f78a561-e26d-4e36-ae94-e366fb45eaba",
   "metadata": {},
   "source": [
    "####\n",
    "### Question 3: Define mean, median, and mode. Explain why these measures of central tendency are important."
   ]
  },
  {
   "cell_type": "markdown",
   "id": "c44c544a-65b3-4895-bb65-0a8e3388b5fb",
   "metadata": {},
   "source": [
    "**Mean, Median, and Mode** are the three main **measures of central tendency**, which describe the center or typical value of a dataset:\n",
    "\n",
    "* **Mean**: The arithmetic average, calculated by summing all values and dividing by the number of observations.\n",
    "\n",
    "  * *Example*: Mean of \\[2, 4, 6] = (2+4+6)/3 = 4.\n",
    "\n",
    "* **Median**: The middle value when data is arranged in order. If the dataset has an even number of values, it is the average of the two middle numbers.\n",
    "\n",
    "  * *Example*: Median of \\[2, 4, 6] = 4; Median of \\[1, 3, 5, 7] = (3+5)/2 = 4.\n",
    "\n",
    "* **Mode**: The most frequently occurring value(s) in a dataset.\n",
    "\n",
    "  * *Example*: Mode of \\[2, 4, 4, 6] = 4.\n",
    "\n",
    "**Importance**:\n",
    "These measures help **summarize large datasets with a single representative value**, making it easier to understand and compare distributions. They are widely used in **statistics, economics, research, and data analysis** to identify trends, typical behavior, or central patterns.\n"
   ]
  },
  {
   "cell_type": "markdown",
   "id": "72882ff4-0ab2-4e74-9d7a-abb323a7efd9",
   "metadata": {},
   "source": [
    "####\n",
    "### Question 4: Explain skewness and kurtosis. What does a positive skew imply about the data?"
   ]
  },
  {
   "cell_type": "markdown",
   "id": "a89b5984-b4a8-458d-9f55-063fa573a13a",
   "metadata": {},
   "source": [
    "**Skewness** and **kurtosis** are statistical measures that describe the **shape of a distribution**:\n",
    "\n",
    "* **Skewness**: Measures the **asymmetry** of a distribution.\n",
    "\n",
    "  * **Positive Skew (Right-skewed)**: Tail is longer on the right; most data values lie to the left of the mean. Example: income distribution (many low, few very high).\n",
    "  * **Negative Skew (Left-skewed)**: Tail is longer on the left; most data values lie to the right of the mean.\n",
    "\n",
    "* **Kurtosis**: Measures the **tailedness** or sharpness of a distribution compared to a normal distribution.\n",
    "\n",
    "  * **High Kurtosis (Leptokurtic)**: Heavier tails and sharper peak (more outliers).\n",
    "  * **Low Kurtosis (Platykurtic)**: Lighter tails and flatter peak (fewer outliers).\n",
    "  * **Normal Kurtosis (Mesokurtic)**: Similar to a normal bell curve.\n",
    "\n",
    "👉 **Positive skew implies** the dataset has a **long right tail**, meaning a majority of observations are **below the mean**, with a few very large values pulling the mean to the right.\n"
   ]
  },
  {
   "cell_type": "markdown",
   "id": "05d5fcd7-0142-4c31-bfa0-775231aa5b5b",
   "metadata": {},
   "source": [
    "####\n",
    "### Question 5: Implement a Python program to compute the mean, median, and mode of a given list of numbers.\n",
    "numbers = [12, 15, 12, 18, 19, 12, 20, 22, 19, 19, 24, 24, 24, 26, 28]\n",
    "(Include your Python code and output in the code box below.)"
   ]
  },
  {
   "cell_type": "code",
   "execution_count": 3,
   "id": "14ad96e2-1dfd-4623-8358-d333452ad79f",
   "metadata": {},
   "outputs": [
    {
     "name": "stdout",
     "output_type": "stream",
     "text": [
      "Mean: 19.6\n",
      "Median: 19.0\n",
      "Mode: 12\n"
     ]
    }
   ],
   "source": [
    "import numpy as np\n",
    "import pandas as pd\n",
    "# Given list of numbers\n",
    "numbers = [12, 15, 12, 18, 19, 12, 20, 22, 19, 19, 24, 24, 24, 26, 28]\n",
    "# Using NumPy\n",
    "mean_value = np.mean(numbers)\n",
    "median_value = np.median(numbers)\n",
    "# Using Pandas (for mode, since NumPy doesn’t have a direct mode function)\n",
    "mode_value = pd.Series(numbers).mode()[0]\n",
    "# Print results\n",
    "print(\"Mean:\", mean_value)\n",
    "print(\"Median:\", median_value)\n",
    "print(\"Mode:\", mode_value)"
   ]
  },
  {
   "cell_type": "markdown",
   "id": "8d988ff2-f006-4045-beef-0c1763fcd416",
   "metadata": {},
   "source": [
    "####\n",
    "### Question 6: Compute the covariance and correlation coefficient between the following two datasets provided as lists in Python:\n",
    "list_x = [10, 20, 30, 40, 50], list_y = [15, 25, 35, 45, 60]\n",
    "(Include your Python code and output in the code box below.)"
   ]
  },
  {
   "cell_type": "code",
   "execution_count": 5,
   "id": "0d66d630-f724-4119-b006-8b720ecd71f6",
   "metadata": {},
   "outputs": [
    {
     "name": "stdout",
     "output_type": "stream",
     "text": [
      "Covariance: 220.0\n",
      "Correlation Coefficient: 0.995893206467704\n"
     ]
    }
   ],
   "source": [
    "list_x = [10, 20, 30, 40, 50]\n",
    "list_y = [15, 25, 35, 45, 60]\n",
    "\n",
    "cov_matrix = np.cov(list_x, list_y, bias=True)\n",
    "cov_xy = cov_matrix[0, 1]\n",
    "corr_xy = np.corrcoef(list_x, list_y)[0, 1]\n",
    "print(\"Covariance:\", cov_xy)\n",
    "print(\"Correlation Coefficient:\", corr_xy)"
   ]
  },
  {
   "cell_type": "markdown",
   "id": "335a96f8-8415-4c5e-aa2c-00c4d22b6918",
   "metadata": {},
   "source": [
    "####\n",
    "### Question 7: Write a Python script to draw a boxplot for the following numeric list and identify its outliers. Explain the result:\n",
    "data = [12, 14, 14, 15, 18, 19, 19, 21, 22, 22, 23, 23, 24, 26, 29, 35]"
   ]
  },
  {
   "cell_type": "code",
   "execution_count": 7,
   "id": "507ce5b6-1c8c-4a58-a955-ad6ffd9acddf",
   "metadata": {},
   "outputs": [
    {
     "data": {
      "image/png": "[encoded data removed]",
      "text/plain": [
       "<Figure size 500x400 with 1 Axes>"
      ]
     },
     "metadata": {},
     "output_type": "display_data"
    },
    {
     "name": "stdout",
     "output_type": "stream",
     "text": [
      "Q1: 17.25\n",
      "Q3: 23.25\n",
      "IQR: 6.0\n",
      "Lower Bound: 8.25\n",
      "Upper Bound: 32.25\n",
      "Outliers: [35]\n"
     ]
    }
   ],
   "source": [
    "import matplotlib.pyplot as plt\n",
    "\n",
    "data = [12, 14, 14, 15, 18, 19, 19, 21, 22, 22, 23, 23, 24, 26, 29, 35]\n",
    "\n",
    "# --- Boxplot ---\n",
    "plt.figure(figsize=(5,4))\n",
    "plt.boxplot(data, vert=False, patch_artist=True, boxprops=dict(facecolor=\"lightblue\"))\n",
    "plt.title(\"Boxplot of Given Data\")\n",
    "plt.xlabel(\"Values\")\n",
    "plt.show()\n",
    "# --- Outlier detection using IQR ---\n",
    "Q1 = np.percentile(data, 25)\n",
    "Q3 = np.percentile(data, 75)\n",
    "IQR = Q3 - Q1\n",
    "lower_bound = Q1 - 1.5 * IQR\n",
    "upper_bound = Q3 + 1.5 * IQR\n",
    "6\n",
    "outliers = [x for x in data if x < lower_bound or x > upper_bound]\n",
    "print(\"Q1:\", Q1)\n",
    "print(\"Q3:\", Q3)\n",
    "print(\"IQR:\", IQR)\n",
    "print(\"Lower Bound:\", lower_bound)\n",
    "print(\"Upper Bound:\", upper_bound)\n",
    "print(\"Outliers:\", outliers)"
   ]
  },
  {
   "cell_type": "markdown",
   "id": "a07e7890-2462-4917-8683-3ad6761c2afc",
   "metadata": {},
   "source": [
    "####\n",
    "### Question 8: You are working as a data analyst in an e-commerce company. The marketing team wants to know if there is a relationship between advertising spend and daily sales.\n",
    "● Explain how you would use covariance and correlation to explore this relationship.\n",
    "● Write Python code to compute the correlation between the two lists:\n",
    "advertising_spend = [200, 250, 300, 400, 500] daily_sales = [2200, 2450, 2750, 3200, 4000]\n"
   ]
  },
  {
   "cell_type": "markdown",
   "id": "6c6dc4df-6a92-43df-80e1-e0d7e1c72a0c",
   "metadata": {},
   "source": [
    "* **Covariance** shows the **direction** of the relationship between two variables (positive = move together, negative = move in opposite directions). But it doesn’t standardize the values, so the magnitude is not easily interpretable.\n",
    "\n",
    "* **Correlation** standardizes covariance by dividing by the standard deviations, giving a value between **-1 and +1**. This makes it easier to interpret:\n",
    "\n",
    "+1 → perfect positive relationship\n",
    "\n",
    "0 → no linear relationship\n",
    "\n",
    "-1 → perfect negative relationship"
   ]
  },
  {
   "cell_type": "code",
   "execution_count": 8,
   "id": "407e923b-82eb-4303-97aa-3c958f3c2ab1",
   "metadata": {},
   "outputs": [
    {
     "name": "stdout",
     "output_type": "stream",
     "text": [
      "NumPy Results:\n",
      "Covariance: 67900.0\n",
      "Correlation: 0.9935824101653329\n"
     ]
    }
   ],
   "source": [
    "# Given data\n",
    "advertising_spend = [200, 250, 300, 400, 500]\n",
    "daily_sales = [2200, 2450, 2750, 3200, 4000]\n",
    "# --- NumPy ---\n",
    "# Covariance matrix\n",
    "cov_matrix = np.cov(advertising_spend, daily_sales, bias=True)\n",
    "cov_xy = cov_matrix[0, 1]\n",
    "# Correlation coefficient\n",
    "corr_xy = np.corrcoef(advertising_spend, daily_sales)[0, 1]\n",
    "print(\"NumPy Results:\")\n",
    "print(\"Covariance:\", cov_xy)\n",
    "print(\"Correlation:\", corr_xy)"
   ]
  },
  {
   "cell_type": "markdown",
   "id": "e37cac3d-5d60-4fa2-9a75-50d70f5897f8",
   "metadata": {},
   "source": [
    "####\n",
    "### Question 9: Your team has collected customer satisfaction survey data on a scale of 1-10 and wants to understand its distribution before launching a new product.\n",
    "● Explain which summary statistics and visualizations (e.g. mean, standard deviation, histogram) you’d use.\n",
    "● Write Python code to create a histogram using Matplotlib for the survey data:\n",
    "survey_scores = [7, 8, 5, 9, 6, 7, 8, 9, 10, 4, 7, 6, 9, 8, 7]"
   ]
  },
  {
   "cell_type": "markdown",
   "id": "7367c992-fcd2-4632-a322-aa7377179c73",
   "metadata": {},
   "source": [
    "To understand the distribution of customer satisfaction survey scores (1–10 scale), we should use:\n",
    "\n",
    "* **Mean & Median** → measures of central tendency (average satisfaction).\n",
    "\n",
    "* **Standard Deviation & Variance** → how spread out the scores are.\n",
    "\n",
    "* **Minimum, Maximum, Range** → overall limits of satisfaction.\n",
    "\n",
    "* **Histogram** → visualize the frequency of scores to see if data is skewed or centered.\n",
    "\n",
    "* **Boxplot** (optional) → to check for outliers."
   ]
  },
  {
   "cell_type": "code",
   "execution_count": 10,
   "id": "d835b1c7-25ff-4f39-9d40-5f533066de9f",
   "metadata": {},
   "outputs": [
    {
     "name": "stdout",
     "output_type": "stream",
     "text": [
      "Mean: 7.333333333333333\n",
      "Median: 7.0\n",
      "Standard Deviation: 1.632993161855452\n"
     ]
    },
    {
     "name": "stderr",
     "output_type": "stream",
     "text": [
      "C:\\Users\\Ankit Ghosal\\AppData\\Local\\Temp\\ipykernel_9352\\449866534.py:16: UserWarning: No artists with labels found to put in legend.  Note that artists whose label start with an underscore are ignored when legend() is called with no argument.\n",
      "  plt.legend()\n"
     ]
    },
    {
     "data": {
      "image/png": "[encoded data removed]",
      "text/plain": [
       "<Figure size 500x400 with 1 Axes>"
      ]
     },
     "metadata": {},
     "output_type": "display_data"
    }
   ],
   "source": [
    "# Survey data\n",
    "survey_scores = [7, 8, 5, 9, 6, 7, 8, 9, 10, 4, 7, 6, 9, 8, 7]\n",
    "# Summary statistics\n",
    "mean_score = np.mean(survey_scores)\n",
    "std_score = np.std(survey_scores, ddof=1) # sample std deviation\n",
    "median_score = np.median(survey_scores)\n",
    "print(\"Mean:\", mean_score)\n",
    "print(\"Median:\", median_score)\n",
    "print(\"Standard Deviation:\", std_score)\n",
    "# Histogram\n",
    "plt.figure(figsize=(5,4))\n",
    "plt.hist(survey_scores, bins=6, color=\"skyblue\", edgecolor=\"black\")\n",
    "plt.title(\"Histogram of Customer Satisfaction Scores\")\n",
    "plt.xlabel(\"Score\")\n",
    "plt.ylabel(\"Frequency\")\n",
    "plt.legend()\n",
    "plt.show()"
   ]
  }
 ],
 "metadata": {
  "kernelspec": {
   "display_name": "Python 3 (ipykernel)",
   "language": "python",
   "name": "python3"
  },
  "language_info": {
   "codemirror_mode": {
    "name": "ipython",
    "version": 3
   },
   "file_extension": ".py",
   "mimetype": "text/x-python",
   "name": "python",
   "nbconvert_exporter": "python",
   "pygments_lexer": "ipython3",
   "version": "3.13.3"
  }
 },
 "nbformat": 4,
 "nbformat_minor": 5
}
