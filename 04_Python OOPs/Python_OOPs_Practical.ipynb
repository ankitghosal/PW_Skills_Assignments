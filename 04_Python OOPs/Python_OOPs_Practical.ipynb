{
 "cells": [
  {
   "cell_type": "markdown",
   "id": "cb367427-9154-49ba-9ede-5ffe85fb8c18",
   "metadata": {},
   "source": [
    "## 🧠 Practical Questions"
   ]
  },
  {
   "cell_type": "markdown",
   "id": "017a55fd-bcdc-48af-b2b0-d95940be4dce",
   "metadata": {},
   "source": [
    "### 1.  Create a parent class Animal with a method speak() that prints a generic message. Create a child class Dog that overrides the speak() method to print \"Bark!\"."
   ]
  },
  {
   "cell_type": "code",
   "execution_count": 3,
   "id": "c5465f95-9803-4936-b550-8d8f08cd2ea5",
   "metadata": {},
   "outputs": [
    {
     "name": "stdout",
     "output_type": "stream",
     "text": [
      "Animal makes a sound.\n",
      "Bark!\n"
     ]
    }
   ],
   "source": [
    "class Animal:\n",
    "    def speak(self):\n",
    "        print(\"Animal makes a sound.\")\n",
    "\n",
    "class Dog(Animal):\n",
    "    def speak(self):\n",
    "        print(\"Bark!\")\n",
    "\n",
    "a = Animal()\n",
    "a.speak()\n",
    "\n",
    "d = Dog()\n",
    "d.speak()"
   ]
  },
  {
   "cell_type": "markdown",
   "id": "d4af8da4-bca5-4440-9a79-2cc2ec2d5fca",
   "metadata": {},
   "source": [
    "####\n",
    "### 2. Write a program to create an abstract class Shape with a method area(). Derive classes Circle and Rectangle from it and implement the area() method in both"
   ]
  },
  {
   "cell_type": "code",
   "execution_count": 4,
   "id": "df50e457-961f-4621-a84a-5e8d35db7303",
   "metadata": {},
   "outputs": [
    {
     "name": "stdout",
     "output_type": "stream",
     "text": [
      "Circle area:  78.53981633974483\n",
      "Rectangle area:  30\n"
     ]
    }
   ],
   "source": [
    "from abc import ABC, abstractmethod\n",
    "import math\n",
    "\n",
    "class Shape(ABC):\n",
    "    @abstractmethod\n",
    "    def area(self):\n",
    "        pass\n",
    "\n",
    "class Circle(Shape):\n",
    "    def __init__(self, radius):\n",
    "        self.radius = radius\n",
    "\n",
    "    def area(self):\n",
    "        return math.pi*self.radius**2\n",
    "\n",
    "class Rectangle(Shape):\n",
    "    def __init__(self, width, height):\n",
    "        self.width = width\n",
    "        self.height = height\n",
    "\n",
    "    def area(self):\n",
    "        return self.width*self.height\n",
    "\n",
    "c = Circle(5)\n",
    "r = Rectangle(5,6)\n",
    "\n",
    "print(\"Circle area: \", c.area())\n",
    "print(\"Rectangle area: \", r.area())"
   ]
  },
  {
   "cell_type": "markdown",
   "id": "878db876-6f66-4e26-b3bd-4131cab9eb1d",
   "metadata": {},
   "source": [
    "####\n",
    "### 3. Implement a multi-level inheritance scenario where a class Vehicle has an attribute type. Derive a class Car and further derive a class ElectricCar that adds a battery attribute."
   ]
  },
  {
   "cell_type": "code",
   "execution_count": 5,
   "id": "84a8d0ac-bfa8-477c-97c8-9d9bd207497f",
   "metadata": {},
   "outputs": [
    {
     "name": "stdout",
     "output_type": "stream",
     "text": [
      "4 wheeler Tata Motor 100KWh\n"
     ]
    }
   ],
   "source": [
    "class Vehicle:\n",
    "    def __init__(self, type):\n",
    "        self.type = type\n",
    "\n",
    "class Car(Vehicle):\n",
    "    def __init__(self, type, brand):\n",
    "        super().__init__(type)  # adds parent class's attribute\n",
    "        self.brand = brand      # Car adds it's own atribute\n",
    "\n",
    "class ElectricCar(Car):\n",
    "    def __init__(self, type, brand, battery):\n",
    "        super().__init__(type, brand)\n",
    "        self.battery = battery\n",
    "\n",
    "ecar = ElectricCar('4 wheeler', 'Tata Motor', '100KWh')\n",
    "print(ecar.type, ecar.brand, ecar.battery)"
   ]
  },
  {
   "cell_type": "markdown",
   "id": "b8c0a614-c062-43cb-8e36-695eb0671e77",
   "metadata": {},
   "source": [
    "####\n",
    "### 4. Demonstrate polymorphism by creating a base class Bird with a method fly(). Create two derived classes Sparrow and Penguin that override the fly() method.\n"
   ]
  },
  {
   "cell_type": "code",
   "execution_count": 2,
   "id": "9f737897-0d11-4d36-a827-f2276809a988",
   "metadata": {},
   "outputs": [
    {
     "name": "stdout",
     "output_type": "stream",
     "text": [
      "Sparrow is a small bird.\n",
      "Penguine can't fly.\n"
     ]
    }
   ],
   "source": [
    "class Bird:\n",
    "    def fly(self):\n",
    "        print(\"This bird can fly.\")\n",
    "\n",
    "class Sparrow(Bird):\n",
    "    def fly(self):\n",
    "        print(\"Sparrow is a small bird.\")\n",
    "\n",
    "class Penguine(Bird):\n",
    "    def fly(self):\n",
    "        print(\"Penguine can't fly.\")\n",
    "\n",
    "birds = [Sparrow(), Penguine()]\n",
    "for bird in birds:\n",
    "    bird.fly()"
   ]
  },
  {
   "cell_type": "markdown",
   "id": "2c1df68e-c924-4854-8c72-e93a83b2ce20",
   "metadata": {},
   "source": [
    "####\n",
    "### 5.  Write a program to demonstrate encapsulation by creating a class BankAccount with private attributes balance and methods to deposit, withdraw, and check balance."
   ]
  },
  {
   "cell_type": "code",
   "execution_count": 12,
   "id": "d6ebcbcc-8fea-4168-9c90-6dc1c3f0f0f0",
   "metadata": {},
   "outputs": [
    {
     "name": "stdout",
     "output_type": "stream",
     "text": [
      "Deposited : 1200 \n",
      "Total Balance : 6200\n",
      "\n",
      "\n",
      "Withdrawn Amount : 700\n",
      "\n",
      "\n",
      "Current Balance : 5500\n"
     ]
    }
   ],
   "source": [
    "class BankAccount:\n",
    "    def __init__(self, initial_balance=5000):\n",
    "        self.__balance = initial_balance   # Private attribute\n",
    "\n",
    "    def deposit(self, amount):\n",
    "        if amount > 0:\n",
    "            self.__balance += amount\n",
    "            print('Deposited :', amount,'\\nTotal Balance :', self.__balance)\n",
    "        else:\n",
    "            print('Please Enter some Amount.')\n",
    "\n",
    "    def withdraw(self, amount):\n",
    "        if 0 < amount <= self.__balance:\n",
    "            self.__balance -= amount\n",
    "            print('\\n\\nWithdrawn Amount :', amount)\n",
    "        else:\n",
    "            print(\"Insufficient balance or invalid amount.\")\n",
    "\n",
    "    def check_balance(self):\n",
    "        print('\\n\\nCurrent Balance :', self.__balance)\n",
    "\n",
    "account = BankAccount()\n",
    "account.deposit(1200)\n",
    "account.withdraw(700)\n",
    "account.check_balance()"
   ]
  },
  {
   "cell_type": "markdown",
   "id": "7c8daf46-56df-43f3-ac0e-4f0829dcd26e",
   "metadata": {},
   "source": [
    "####\n",
    "### 6.  Demonstrate runtime polymorphism using a method play() in a base class Instrument. Derive classes Guitar and Piano that implement their own version of play()."
   ]
  },
  {
   "cell_type": "code",
   "execution_count": 14,
   "id": "b657b756-7b34-4b01-9f60-6451d5d1c29e",
   "metadata": {},
   "outputs": [
    {
     "name": "stdout",
     "output_type": "stream",
     "text": [
      "Strumming the guitar.\n",
      "Playing the Piano.\n"
     ]
    }
   ],
   "source": [
    "class Instrument:\n",
    "    def play(self):\n",
    "        parint(\"Playing an instrument.\")\n",
    "\n",
    "class Guitar(Instrument):\n",
    "    def play(self):\n",
    "        print(\"Strumming the guitar.\")\n",
    "\n",
    "class Piano(Instrument):\n",
    "    def play(self):\n",
    "        print(\"Playing the Piano.\")\n",
    "\n",
    "instruments = [Guitar(), Piano()]\n",
    "for instrument in instruments:\n",
    "    instrument.play()"
   ]
  },
  {
   "cell_type": "markdown",
   "id": "75a6b8d6-c39f-4c9b-a771-2998ee003f89",
   "metadata": {},
   "source": [
    "####\n",
    "### 7. Create a class MathOperations with a class method add_numbers() to add two numbers and a static method subtract_numbers() to subtract two numbers."
   ]
  },
  {
   "cell_type": "code",
   "execution_count": 15,
   "id": "4923e6a6-e151-4392-ae95-2fb0a468d352",
   "metadata": {},
   "outputs": [
    {
     "name": "stdout",
     "output_type": "stream",
     "text": [
      "Adding numbers : 101\n",
      "Subtracting numbers : 33\n"
     ]
    }
   ],
   "source": [
    "class MathOperations:\n",
    "    @classmethod\n",
    "    def add_numbers(cls, a, b):\n",
    "        return a+b\n",
    "\n",
    "    @staticmethod\n",
    "    def subtract_numbers(a, b):\n",
    "        return a - b\n",
    "\n",
    "math = MathOperations()\n",
    "print('Adding numbers :', math.add_numbers(67,34))\n",
    "print('Subtracting numbers :', math.subtract_numbers(67,34))"
   ]
  },
  {
   "cell_type": "markdown",
   "id": "52e2b25d-1f36-4e87-b43b-65743a5d6c3e",
   "metadata": {},
   "source": [
    "####\n",
    "### 8.  Implement a class Person with a class method to count the total number of persons created."
   ]
  },
  {
   "cell_type": "code",
   "execution_count": 16,
   "id": "e78d115c-3416-401f-b1d3-f29f85cce68e",
   "metadata": {},
   "outputs": [
    {
     "name": "stdout",
     "output_type": "stream",
     "text": [
      "Total persons created : 5\n"
     ]
    }
   ],
   "source": [
    "class Person:\n",
    "    count = 0\n",
    "\n",
    "    def __init__(self, name):\n",
    "        self.name = name\n",
    "        Person.count += 1\n",
    "\n",
    "    @classmethod\n",
    "    def total_persons(cls):\n",
    "        return cls.count\n",
    "\n",
    "p1 = Person('Ankit')\n",
    "p2 = Person('Tamal')\n",
    "p3 = Person('Ranojoy')\n",
    "p4 = Person('Ranita')\n",
    "p5 = Person('Robbin')\n",
    "\n",
    "print('Total persons created :', Person.total_persons())"
   ]
  },
  {
   "cell_type": "markdown",
   "id": "b12a6589-7e1b-49c4-bbc5-9038b7c8832f",
   "metadata": {},
   "source": [
    "####\n",
    "### 9. Write a class Fraction with attributes numerator and denominator. Override the str method to display the fraction as \"numerator/denominator\"."
   ]
  },
  {
   "cell_type": "code",
   "execution_count": 18,
   "id": "1da73527-2f56-4d9b-84a3-1354572a8730",
   "metadata": {},
   "outputs": [
    {
     "name": "stdout",
     "output_type": "stream",
     "text": [
      "5/7\n"
     ]
    }
   ],
   "source": [
    "class Fraction:\n",
    "    def __init__(self, numerator, denominator):\n",
    "        self.numerator = numerator\n",
    "        self.denominator = denominator\n",
    "\n",
    "    def __str__(self):\n",
    "        return f'{self.numerator}/{self.denominator}'\n",
    "\n",
    "f = Fraction(5,7)\n",
    "print(f)"
   ]
  },
  {
   "cell_type": "markdown",
   "id": "2b3694ce-2ec3-4a51-8af9-8e83e7a88e16",
   "metadata": {},
   "source": [
    "####\n",
    "### 10.  Demonstrate operator overloading by creating a class Vector and overriding the add method to add two vectors."
   ]
  },
  {
   "cell_type": "code",
   "execution_count": 19,
   "id": "64b3f4a1-2c35-40ab-a025-850076851d21",
   "metadata": {},
   "outputs": [
    {
     "name": "stdout",
     "output_type": "stream",
     "text": [
      "(6, 8)\n"
     ]
    }
   ],
   "source": [
    "class Vector:\n",
    "    def __init__(self, x, y):\n",
    "        self.x = x\n",
    "        self.y = y\n",
    "\n",
    "    def __add__(self, other):\n",
    "        return Vector(self.x + other.x, self.y + other.y)\n",
    "\n",
    "    def __str__(self):\n",
    "        return f\"({self.x}, {self.y})\"\n",
    "\n",
    "v1 = Vector(2,3)\n",
    "v2 = Vector(4,5)\n",
    "v3 = v1 + v2\n",
    "print(v3)"
   ]
  },
  {
   "cell_type": "markdown",
   "id": "fd9be2e8-015e-48f1-a301-b39d73dcf6db",
   "metadata": {},
   "source": [
    "####\n",
    "### 11.  Create a class Person with attributes name and age. Add a method greet() that prints \"Hello, my name is {name} and I am {age} years old.\""
   ]
  },
  {
   "cell_type": "code",
   "execution_count": 21,
   "id": "dc405fde-9eb8-4515-ae67-ed4257729a0d",
   "metadata": {},
   "outputs": [
    {
     "name": "stdout",
     "output_type": "stream",
     "text": [
      "Hello my name is Ankit and I am 27 years old.\n"
     ]
    }
   ],
   "source": [
    "class Person:\n",
    "    def __init__(self, name, age):\n",
    "        self.name = name\n",
    "        self.age = age\n",
    "\n",
    "    def greet(self):\n",
    "        print('Hello my name is', self.name, 'and I am', self.age, 'years old.')\n",
    "\n",
    "p = Person('Ankit', 27)\n",
    "p.greet()"
   ]
  },
  {
   "cell_type": "markdown",
   "id": "278f6823-57bc-4a92-a896-7ea6a87d9297",
   "metadata": {},
   "source": [
    "####\n",
    "### 12.  Implement a class Student with attributes name and grades. Create a method average_grade() to compute the average of the grades."
   ]
  },
  {
   "cell_type": "code",
   "execution_count": 22,
   "id": "7e2f170f-874a-4051-8484-990de93074ac",
   "metadata": {},
   "outputs": [
    {
     "name": "stdout",
     "output_type": "stream",
     "text": [
      "Average grade : 83.33333333333333\n"
     ]
    }
   ],
   "source": [
    "class Student:\n",
    "    def __init__(self, name, grades):\n",
    "        self.name = name\n",
    "        self.grades = grades\n",
    "\n",
    "    def average_grade(self):\n",
    "        return sum(self.grades)/len(self.grades)\n",
    "\n",
    "s = Student('John', [85, 90, 75])\n",
    "print('Average grade :', s.average_grade())"
   ]
  },
  {
   "cell_type": "markdown",
   "id": "cfae8cc3-504d-4853-ab34-64dae266e4cc",
   "metadata": {},
   "source": [
    "####\n",
    "### 13.  Create a class Rectangle with methods set_dimensions() to set the dimensions and area() to calculate the area. "
   ]
  },
  {
   "cell_type": "code",
   "execution_count": 23,
   "id": "f4bef579-c054-4181-8930-cdd8ad6ce3d8",
   "metadata": {},
   "outputs": [
    {
     "name": "stdout",
     "output_type": "stream",
     "text": [
      "Area: 20\n"
     ]
    }
   ],
   "source": [
    "class Rectangle:\n",
    "    def set_dimensions(self, width, height):\n",
    "        self.width = width\n",
    "        self.height = height\n",
    "\n",
    "    def area(self):\n",
    "        return self.width * self.height\n",
    "\n",
    "# Example usage\n",
    "r = Rectangle()\n",
    "r.set_dimensions(5, 4)\n",
    "print(\"Area:\", r.area())\n"
   ]
  },
  {
   "cell_type": "markdown",
   "id": "33ef57b4-9c08-4cad-8083-62468095b95b",
   "metadata": {},
   "source": [
    "####\n",
    "### 14. Create a class Employee with a method calculate_salary() that computes the salary based on hours worked and hourly rate. Create a derived class Manager that adds a bonus to the salary."
   ]
  },
  {
   "cell_type": "code",
   "execution_count": 24,
   "id": "c6d65757-cd30-454d-8908-09c3ccc4438b",
   "metadata": {},
   "outputs": [
    {
     "name": "stdout",
     "output_type": "stream",
     "text": [
      "Employee Salary : 800\n",
      "Manager Salary : 1300\n"
     ]
    }
   ],
   "source": [
    "class Employee:\n",
    "    def calculate_salary (self, hours_worked, hourly_rate):\n",
    "        return hours_worked*hourly_rate\n",
    "\n",
    "class Manager(Employee):\n",
    "    def calculate_salary(self, hours_worked, hourly_rate, bonus):\n",
    "        base_salary = super().calculate_salary(hours_worked, hourly_rate)\n",
    "        return base_salary + bonus\n",
    "\n",
    "e = Employee()\n",
    "print('Employee Salary :',  e.calculate_salary(40,20))\n",
    "\n",
    "m = Manager()\n",
    "print('Manager Salary :', m.calculate_salary(40, 20, 500))"
   ]
  },
  {
   "cell_type": "markdown",
   "id": "9f897c81-f513-45da-bcd6-8bd40f3a2319",
   "metadata": {},
   "source": [
    "####\n",
    "### 15. Create a class Product with attributes name, price, and quantity. Implement a method total_price() that calculates the total price of the product"
   ]
  },
  {
   "cell_type": "code",
   "execution_count": 25,
   "id": "64c07636-735b-490d-a403-082837186209",
   "metadata": {},
   "outputs": [
    {
     "name": "stdout",
     "output_type": "stream",
     "text": [
      "Total Price: 100000\n"
     ]
    }
   ],
   "source": [
    "class Product:\n",
    "    def __init__(self, name, price, quantity):\n",
    "        self.name = name\n",
    "        self.price = price\n",
    "        self.quantity = quantity\n",
    "\n",
    "    def total_price(self):\n",
    "        return self.price * self.quantity\n",
    "\n",
    "# Example usage\n",
    "p = Product(\"Laptop\", 50000, 2)\n",
    "print(\"Total Price:\", p.total_price())"
   ]
  },
  {
   "cell_type": "markdown",
   "id": "e7d4ef24-cf35-4ef4-8cce-766e92bc97dc",
   "metadata": {},
   "source": [
    "####\n",
    "### 16. Create a class Animal with an abstract method sound(). Create two derived classes Cow and Sheep that implement the sound() method."
   ]
  },
  {
   "cell_type": "code",
   "execution_count": 26,
   "id": "840b3911-4e85-4a25-b52d-fbda0cd7f9a5",
   "metadata": {},
   "outputs": [
    {
     "name": "stdout",
     "output_type": "stream",
     "text": [
      "Moo\n",
      "Baa\n"
     ]
    }
   ],
   "source": [
    "class Animal:\n",
    "    def sound(self):\n",
    "        raise NotImplementedError('Subclass must implement this method')\n",
    "\n",
    "class Cow(Animal):\n",
    "    def sound(self):\n",
    "        print('Moo')\n",
    "\n",
    "class Sheep(Animal):\n",
    "    def sound(self):\n",
    "        print(\"Baa\")\n",
    "\n",
    "animals = [Cow(), Sheep()]\n",
    "for animal in animals:\n",
    "    animal.sound()"
   ]
  },
  {
   "cell_type": "markdown",
   "id": "5e94ddbe-2bf5-4dff-aa36-c79e4bb55847",
   "metadata": {},
   "source": [
    "####\n",
    "### 17. Create a class Book with attributes title, author, and year_published. Add a method get_book_info() that returns a formatted string with the book's details."
   ]
  },
  {
   "cell_type": "code",
   "execution_count": 28,
   "id": "5039742d-9ecd-4140-b778-89a74f37c758",
   "metadata": {},
   "outputs": [
    {
     "name": "stdout",
     "output_type": "stream",
     "text": [
      "'The Alchemist' by Paulo Coelho, published in 1988\n"
     ]
    }
   ],
   "source": [
    "class Book:\n",
    "    def __init__(self, title, author, year_published):\n",
    "        self.title = title\n",
    "        self.author = author\n",
    "        self.year_published = year_published\n",
    "\n",
    "    def get_book_info(self):\n",
    "        return f\"'{self.title}' by {self.author}, published in {self.year_published}\"\n",
    "\n",
    "\n",
    "b = Book(\"The Alchemist\", \"Paulo Coelho\", 1988)\n",
    "print(b.get_book_info())\n"
   ]
  },
  {
   "cell_type": "markdown",
   "id": "cbee3e62-4783-4e0a-916e-631c98249d82",
   "metadata": {},
   "source": [
    "####\n",
    "### 18. Create a class House with attributes address and price. Create a derived class Mansion that adds an attribute number_of_rooms."
   ]
  },
  {
   "cell_type": "code",
   "execution_count": 29,
   "id": "ac9b261e-d367-443a-8de6-365c8810a52a",
   "metadata": {},
   "outputs": [
    {
     "name": "stdout",
     "output_type": "stream",
     "text": [
      "123 Luxury Street 5000000 12\n"
     ]
    }
   ],
   "source": [
    "class House:\n",
    "    def __init__(self, address, price):\n",
    "        self.address = address\n",
    "        self.price = price\n",
    "\n",
    "class Mansion(House):\n",
    "    def __init__(self, address, price, number_of_rooms):\n",
    "        super().__init__(address, price)\n",
    "        self.number_of_rooms = number_of_rooms\n",
    "\n",
    "\n",
    "m = Mansion(\"123 Luxury Street\", 5000000, 12)\n",
    "print(m.address, m.price, m.number_of_rooms)"
   ]
  }
 ],
 "metadata": {
  "kernelspec": {
   "display_name": "Python 3 (ipykernel)",
   "language": "python",
   "name": "python3"
  },
  "language_info": {
   "codemirror_mode": {
    "name": "ipython",
    "version": 3
   },
   "file_extension": ".py",
   "mimetype": "text/x-python",
   "name": "python",
   "nbconvert_exporter": "python",
   "pygments_lexer": "ipython3",
   "version": "3.13.3"
  }
 },
 "nbformat": 4,
 "nbformat_minor": 5
}
