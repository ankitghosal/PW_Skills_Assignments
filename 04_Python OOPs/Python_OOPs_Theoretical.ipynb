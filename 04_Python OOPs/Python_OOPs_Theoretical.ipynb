{
 "cells": [
  {
   "cell_type": "markdown",
   "id": "e306ad3c-2e8f-48b3-b0c8-70d4fe19a92b",
   "metadata": {},
   "source": [
    "## 🧠 Theoretical Questions"
   ]
  },
  {
   "cell_type": "markdown",
   "id": "22755ebd-03f3-44fe-b50a-7fd692e5413e",
   "metadata": {},
   "source": [
    "### 1. What is Object-Oriented Programming (OOP) ?"
   ]
  },
  {
   "cell_type": "markdown",
   "id": "b67d34b1-74ea-43e4-b8c9-697cec0072c8",
   "metadata": {},
   "source": [
    "**Object-Oriented Programming (OOP)** is a way of  designing programs by creating 'objects' that combine data (attributes) and actions (methods), making code organized, reusable and easier to manage."
   ]
  },
  {
   "cell_type": "markdown",
   "id": "793fa0fd-f43a-428d-aff6-11dd14612842",
   "metadata": {},
   "source": [
    "####\n",
    "### 2. "
   ]
  },
  {
   "cell_type": "code",
   "execution_count": null,
   "id": "3f356973-d638-4091-ac36-7033fb7b964f",
   "metadata": {},
   "outputs": [],
   "source": []
  },
  {
   "cell_type": "code",
   "execution_count": null,
   "id": "27251083-4048-4a08-ada4-c10bc9d24760",
   "metadata": {},
   "outputs": [],
   "source": []
  },
  {
   "cell_type": "code",
   "execution_count": null,
   "id": "ca935914-637a-4591-9915-fa88836013a0",
   "metadata": {},
   "outputs": [],
   "source": []
  },
  {
   "cell_type": "code",
   "execution_count": null,
   "id": "b5025a8e-9683-46f3-9de1-84ab7b7784db",
   "metadata": {},
   "outputs": [],
   "source": []
  },
  {
   "cell_type": "code",
   "execution_count": null,
   "id": "6f839e99-5725-4b2d-a935-e2dd61e78ad6",
   "metadata": {},
   "outputs": [],
   "source": []
  },
  {
   "cell_type": "code",
   "execution_count": null,
   "id": "01f5708b-397b-4b3e-b100-225713a50c9d",
   "metadata": {},
   "outputs": [],
   "source": []
  },
  {
   "cell_type": "code",
   "execution_count": null,
   "id": "61e1de8d-c945-45dc-8e10-442b3986fa08",
   "metadata": {},
   "outputs": [],
   "source": []
  },
  {
   "cell_type": "code",
   "execution_count": null,
   "id": "a2a311a0-aea8-483c-8bdc-92a26816bebd",
   "metadata": {},
   "outputs": [],
   "source": []
  },
  {
   "cell_type": "code",
   "execution_count": null,
   "id": "a52db4f2-0d16-4ee6-af6b-21c67d85952f",
   "metadata": {},
   "outputs": [],
   "source": []
  },
  {
   "cell_type": "code",
   "execution_count": null,
   "id": "42cec007-e8d3-44e9-86e4-fba659b9ae87",
   "metadata": {},
   "outputs": [],
   "source": []
  },
  {
   "cell_type": "code",
   "execution_count": null,
   "id": "cdfa19a4-1207-46f1-8c28-66379139d467",
   "metadata": {},
   "outputs": [],
   "source": []
  },
  {
   "cell_type": "code",
   "execution_count": null,
   "id": "e5301537-a305-4fa8-865a-e3449df452d9",
   "metadata": {},
   "outputs": [],
   "source": []
  },
  {
   "cell_type": "code",
   "execution_count": null,
   "id": "b9ab826d-9dbe-497b-bdb7-ff499b33b95f",
   "metadata": {},
   "outputs": [],
   "source": []
  },
  {
   "cell_type": "code",
   "execution_count": null,
   "id": "851ea820-0201-46d1-8fbd-57ac144b6942",
   "metadata": {},
   "outputs": [],
   "source": []
  },
  {
   "cell_type": "code",
   "execution_count": null,
   "id": "250d6caa-8752-401c-bdaf-b247708f1ff1",
   "metadata": {},
   "outputs": [],
   "source": []
  }
 ],
 "metadata": {
  "kernelspec": {
   "display_name": "Python 3 (ipykernel)",
   "language": "python",
   "name": "python3"
  },
  "language_info": {
   "codemirror_mode": {
    "name": "ipython",
    "version": 3
   },
   "file_extension": ".py",
   "mimetype": "text/x-python",
   "name": "python",
   "nbconvert_exporter": "python",
   "pygments_lexer": "ipython3",
   "version": "3.13.3"
  }
 },
 "nbformat": 4,
 "nbformat_minor": 5
}
