{
 "cells": [
  {
   "cell_type": "markdown",
   "id": "74f0649e-ac60-440e-9a55-1513d9250886",
   "metadata": {},
   "source": [
    "## Logistic Regression"
   ]
  },
  {
   "cell_type": "markdown",
   "id": "5f7e8b6b-5709-4282-b4bf-bf6e5592dcd7",
   "metadata": {},
   "source": [
    "##\n",
    "### Question 1: What is Logistic Regression, and how does it differ from Linear Regression?\n"
   ]
  },
  {
   "cell_type": "markdown",
   "id": "57c84f5a-2175-4c31-b20b-148f23bf0021",
   "metadata": {},
   "source": [
    "**Logistic Regression** is a statistical and machine learning technique used for **binary classification problems**, where the output variable is categorical (e.g., 0 or 1, Yes or No). It models the probability that a given input belongs to a particular class using the **sigmoid (logistic) function**.\n",
    "\n",
    "The equation is:\n",
    "$$\n",
    "P(Y=1|X) = \\frac{1}{1 + e^{-(β₀ + β₁X)}}\n",
    "$$\n",
    "\n",
    "**Difference from Linear Regression:**\n",
    "\n",
    "* **Linear Regression** predicts continuous numeric values.\n",
    "* **Logistic Regression** predicts probabilities and classifies outcomes into discrete categories.\n",
    "* Logistic Regression uses a **logit (log-odds)** transformation to keep predictions between 0 and 1."
   ]
  },
  {
   "cell_type": "markdown",
   "id": "64a4c5b5-336b-4778-8fc3-ab5ce1987870",
   "metadata": {},
   "source": [
    "##\n",
    "### Question 2: Explain the role of the Sigmoid function in Logistic Regression.\n"
   ]
  },
  {
   "cell_type": "markdown",
   "id": "95d4179c-0db4-4bb4-91fa-ddb80a98a211",
   "metadata": {},
   "source": [
    "The **Sigmoid function** converts any real-valued number into a value between **0 and 1**, representing a **probability**.<br><br>\n",
    "$$\n",
    "σ(z) = \\frac{1}{1 + e^{-z}}\n",
    "$$<br><br>\n",
    "In Logistic Regression, it ensures the model outputs probabilities that can be thresholded (commonly at 0.5) to classify observations into binary outcomes (e.g., “Yes” if P ≥ 0.5, otherwise “No”)."
   ]
  },
  {
   "cell_type": "markdown",
   "id": "2ea572a3-ce2f-4a5c-a9c6-fb4f8d9f987b",
   "metadata": {},
   "source": [
    "##\n",
    "### Question 3: What is Regularization in Logistic Regression and why is it needed?"
   ]
  },
  {
   "cell_type": "markdown",
   "id": "f7f1e3d7-96f5-4632-8c48-19eac3d2e6b5",
   "metadata": {},
   "source": [
    "**Regularization** is a technique used to **prevent overfitting** by adding a penalty term to the loss function, discouraging large coefficient values.\n",
    "\n",
    "* **L1 (Lasso):** Adds absolute values of coefficients → encourages sparsity (feature selection).\n",
    "* **L2 (Ridge):** Adds squared values of coefficients → stabilizes model and reduces variance.\n",
    "  It helps improve **generalization**, making the model perform better on unseen data.\n"
   ]
  },
  {
   "cell_type": "markdown",
   "id": "537d9f11-474c-4f04-9fe1-8addcb9f0538",
   "metadata": {},
   "source": [
    "##\n",
    "### Question 4: What are some common evaluation metrics for classification models, and why are they important?\n"
   ]
  },
  {
   "cell_type": "markdown",
   "id": "a47d5ce9-fe47-414b-b426-5d3fbb72351e",
   "metadata": {},
   "source": [
    "Common metrics include:\n",
    "\n",
    "* **Accuracy:** Percentage of correctly classified instances.\n",
    "* **Precision:** Proportion of true positives among predicted positives.\n",
    "* **Recall (Sensitivity):** Proportion of true positives identified correctly.\n",
    "* **F1-Score:** Harmonic mean of Precision and Recall.\n",
    "* **ROC-AUC:** Measures overall model performance at different thresholds.\n",
    "\n",
    "These metrics provide insights into **model reliability**, especially when data is imbalanced."
   ]
  },
  {
   "cell_type": "markdown",
   "id": "bb0a129b-d8f4-4b38-a6aa-bab1e4117be5",
   "metadata": {},
   "source": [
    "##\n",
    "### Question 5: Write a Python program that loads a CSV file into a Pandas DataFrame, splits into train/test sets, trains a Logistic Regression model, and prints its accuracy.\n",
    "(Use Dataset from sklearn package)"
   ]
  },
  {
   "cell_type": "code",
   "execution_count": 1,
   "id": "40d2d866-b363-4041-8161-99cd9e1a468f",
   "metadata": {},
   "outputs": [
    {
     "name": "stdout",
     "output_type": "stream",
     "text": [
      "Accuracy: 1.0\n"
     ]
    }
   ],
   "source": [
    "import pandas as pd\n",
    "from sklearn.datasets import load_iris\n",
    "from sklearn.model_selection import train_test_split\n",
    "from sklearn.linear_model import LogisticRegression\n",
    "from sklearn.metrics import accuracy_score\n",
    "\n",
    "# Load dataset\n",
    "data = load_iris()\n",
    "X = data.data\n",
    "y = (data.target == 0).astype(int)  # Binary classification\n",
    "\n",
    "# Split data\n",
    "X_train, X_test, y_train, y_test = train_test_split(X, y, test_size=0.2, random_state=42)\n",
    "\n",
    "# Train model\n",
    "model = LogisticRegression()\n",
    "model.fit(X_train, y_train)\n",
    "\n",
    "# Evaluate\n",
    "y_pred = model.predict(X_test)\n",
    "print(\"Accuracy:\", accuracy_score(y_test, y_pred))"
   ]
  },
  {
   "cell_type": "markdown",
   "id": "73a22491-2179-4381-bfb6-4d20fbf5466f",
   "metadata": {},
   "source": [
    "##\n",
    "### Question 6: Write a Python program to train a Logistic Regression model using L2 regularization (Ridge) and print the model coefficients and accuracy.\n",
    "(Use Dataset from sklearn package)"
   ]
  },
  {
   "cell_type": "code",
   "execution_count": 3,
   "id": "5a812fd1-87f3-44d5-a10a-248c66ede3e8",
   "metadata": {},
   "outputs": [
    {
     "name": "stdout",
     "output_type": "stream",
     "text": [
      "Coefficients: [[-0.39086522  0.92121445 -2.33169485 -0.9799742 ]\n",
      " [ 0.49862406 -0.30952765 -0.21642636 -0.73163851]\n",
      " [-0.10775883 -0.6116868   2.54812121  1.7116127 ]]\n",
      "Accuracy: 1.0\n"
     ]
    }
   ],
   "source": [
    "# Data\n",
    "data = load_iris()\n",
    "X_train, X_test, y_train, y_test = train_test_split(data.data, data.target, random_state=42)\n",
    "\n",
    "# Model with L2 regularization\n",
    "model = LogisticRegression(penalty='l2', solver='lbfgs', max_iter=1000)\n",
    "model.fit(X_train, y_train)\n",
    "\n",
    "print(\"Coefficients:\", model.coef_)\n",
    "print(\"Accuracy:\", accuracy_score(y_test, model.predict(X_test)))"
   ]
  },
  {
   "cell_type": "markdown",
   "id": "e496c30e-9b95-4e8f-bc83-55c1b49cbdf3",
   "metadata": {},
   "source": [
    "##\n",
    "### Question 7: Write a Python program to train a Logistic Regression model for multiclass classification using multi_class='ovr' and print the classification report.\n",
    "(Use Dataset from sklearn package)"
   ]
  },
  {
   "cell_type": "code",
   "execution_count": 4,
   "id": "fb0c449c-fbd1-42ca-9690-ce0d0d118a5c",
   "metadata": {},
   "outputs": [
    {
     "name": "stdout",
     "output_type": "stream",
     "text": [
      "              precision    recall  f1-score   support\n",
      "\n",
      "           0       1.00      1.00      1.00        15\n",
      "           1       1.00      0.91      0.95        11\n",
      "           2       0.92      1.00      0.96        12\n",
      "\n",
      "    accuracy                           0.97        38\n",
      "   macro avg       0.97      0.97      0.97        38\n",
      "weighted avg       0.98      0.97      0.97        38\n",
      "\n"
     ]
    },
    {
     "name": "stderr",
     "output_type": "stream",
     "text": [
      "C:\\Users\\Ankit Ghosal\\AppData\\Local\\Programs\\Python\\Python313\\Lib\\site-packages\\sklearn\\linear_model\\_logistic.py:1256: FutureWarning: 'multi_class' was deprecated in version 1.5 and will be removed in 1.7. Use OneVsRestClassifier(LogisticRegression(..)) instead. Leave it to its default value to avoid this warning.\n",
      "  warnings.warn(\n"
     ]
    }
   ],
   "source": [
    "from sklearn.metrics import classification_report\n",
    "\n",
    "# Data\n",
    "data = load_iris()\n",
    "X_train, X_test, y_train, y_test = train_test_split(data.data, data.target, random_state=42)\n",
    "\n",
    "# Model\n",
    "model = LogisticRegression(multi_class='ovr', solver='lbfgs', max_iter=1000)\n",
    "model.fit(X_train, y_train)\n",
    "\n",
    "y_pred = model.predict(X_test)\n",
    "print(classification_report(y_test, y_pred))"
   ]
  },
  {
   "cell_type": "markdown",
   "id": "fd5810cf-c87e-4032-8f58-dcd4e21c3a22",
   "metadata": {},
   "source": [
    "##\n",
    "### Question 8: Write a Python program to apply GridSearchCV to tune C and penalty hyperparameters for Logistic Regression and print the best parameters and validation accuracy.\n",
    "(Use Dataset from sklearn package)\n"
   ]
  },
  {
   "cell_type": "code",
   "execution_count": 5,
   "id": "cf34813b-637f-4ab4-b143-f247dff76531",
   "metadata": {},
   "outputs": [
    {
     "name": "stdout",
     "output_type": "stream",
     "text": [
      "Best Parameters: {'C': 10, 'penalty': 'l1', 'solver': 'liblinear'}\n",
      "Best Validation Accuracy: 0.9800000000000001\n"
     ]
    }
   ],
   "source": [
    "from sklearn.model_selection import GridSearchCV\n",
    "\n",
    "X, y = load_iris(return_X_y=True)\n",
    "\n",
    "param_grid = {\n",
    "    'C': [0.01, 0.1, 1, 10],\n",
    "    'penalty': ['l1', 'l2'],\n",
    "    'solver': ['liblinear']\n",
    "}\n",
    "\n",
    "grid = GridSearchCV(LogisticRegression(max_iter=1000), param_grid, cv=5)\n",
    "grid.fit(X, y)\n",
    "\n",
    "print(\"Best Parameters:\", grid.best_params_)\n",
    "print(\"Best Validation Accuracy:\", grid.best_score_)"
   ]
  },
  {
   "cell_type": "markdown",
   "id": "c3eb7276-6611-4407-aad0-0e4d7c216c6c",
   "metadata": {},
   "source": [
    "##\n",
    "### Question 9: Write a Python program to standardize the features before training Logistic Regression and compare the model's accuracy with and without scaling.\n",
    "(Use Dataset from sklearn package)\n"
   ]
  },
  {
   "cell_type": "code",
   "execution_count": 7,
   "id": "bbbc4504-7034-4a6c-b017-11fb5ec2ad2e",
   "metadata": {},
   "outputs": [
    {
     "name": "stdout",
     "output_type": "stream",
     "text": [
      "Accuracy without scaling: 1.0\n",
      "Accuracy with scaling: 0.3157894736842105\n"
     ]
    }
   ],
   "source": [
    "from sklearn.preprocessing import StandardScaler\n",
    "\n",
    "# Load data\n",
    "X, y = load_iris(return_X_y=True)\n",
    "X_train, X_test, y_train, y_test = train_test_split(X, y, random_state=42)\n",
    "\n",
    "# Without scaling\n",
    "model1 = LogisticRegression(max_iter=1000)\n",
    "model1.fit(X_train, y_train)\n",
    "acc1 = accuracy_score(y_test, model1.predict(X_test))\n",
    "\n",
    "# With scaling\n",
    "scaler = StandardScaler()\n",
    "X_train_scaled = scaler.fit_transform(X_train)\n",
    "X_test_scaled = scaler.transform(X_test)\n",
    "\n",
    "model2 = LogisticRegression(max_iter=1000)\n",
    "model2.fit(X_train_scaled, y_train)\n",
    "acc2 = accuracy_score(y_test, model2.predict(X_test))\n",
    "\n",
    "print(\"Accuracy without scaling:\", acc1)\n",
    "print(\"Accuracy with scaling:\", acc2)"
   ]
  },
  {
   "cell_type": "markdown",
   "id": "b292ae74-092a-45c6-b071-250d4cbf5f9d",
   "metadata": {},
   "source": [
    "##\n",
    "### Question 10: Imagine you are working at an e-commerce company that wants to predict which customers will respond to a marketing campaign. Given an imbalanced dataset (only 5% of customers respond), describe the approach you’d take to build a Logistic Regression model — including data handling, feature scaling, balancing classes, hyperparameter tuning, and evaluating the model for this real-world business use case."
   ]
  },
  {
   "cell_type": "markdown",
   "id": "2bd2a5ce-63cd-402b-bf51-6ac514f8f164",
   "metadata": {},
   "source": [
    "To build a reliable Logistic Regression model for imbalanced data:\n",
    "\n",
    "1. **Data Handling:**\n",
    "\n",
    "   * Handle missing values and remove duplicates.\n",
    "   * Encode categorical variables (Label/One-Hot Encoding).\n",
    "\n",
    "2. **Feature Scaling:**\n",
    "\n",
    "   * Standardize or normalize features using `StandardScaler` to ensure equal weight.\n",
    "\n",
    "3. **Balancing Classes:**\n",
    "\n",
    "   * Use **SMOTE (Synthetic Minority Oversampling Technique)** or **class_weight='balanced'** in Logistic Regression to handle imbalance.\n",
    "\n",
    "4. **Hyperparameter Tuning:**\n",
    "\n",
    "   * Use **GridSearchCV** to optimize parameters like `C`, `penalty`, and `solver`.\n",
    "\n",
    "5. **Model Evaluation:**\n",
    "\n",
    "   * Evaluate using **Precision, Recall, F1-score, ROC-AUC**, not just accuracy, as data is imbalanced.\n",
    "\n",
    "6. **Business Insight:**\n",
    "\n",
    "   * Focus on **recall (true positive rate)** — identifying as many responders as possible is key for marketing ROI."
   ]
  }
 ],
 "metadata": {
  "kernelspec": {
   "display_name": "Python 3 (ipykernel)",
   "language": "python",
   "name": "python3"
  },
  "language_info": {
   "codemirror_mode": {
    "name": "ipython",
    "version": 3
   },
   "file_extension": ".py",
   "mimetype": "text/x-python",
   "name": "python",
   "nbconvert_exporter": "python",
   "pygments_lexer": "ipython3",
   "version": "3.13.3"
  }
 },
 "nbformat": 4,
 "nbformat_minor": 5
}
